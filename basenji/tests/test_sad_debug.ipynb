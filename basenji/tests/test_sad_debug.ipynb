{
 "cells": [
  {
   "cell_type": "code",
   "execution_count": 1,
   "metadata": {},
   "outputs": [],
   "source": [
    "%matplotlib inline"
   ]
  },
  {
   "cell_type": "code",
   "execution_count": 2,
   "metadata": {},
   "outputs": [],
   "source": [
    "import h5py\n",
    "import numpy as np\n",
    "from sklearn.metrics import explained_variance_score\n",
    "\n",
    "import matplotlib.pyplot as plt\n",
    "import seaborn as sns"
   ]
  },
  {
   "cell_type": "code",
   "execution_count": 3,
   "metadata": {},
   "outputs": [
    {
     "data": {
      "text/plain": [
       "(16, 4269)"
      ]
     },
     "execution_count": 3,
     "metadata": {},
     "output_type": "execute_result"
    }
   ],
   "source": [
    "saved_h5 = h5py.File('sad/saved/sadr.h5', 'r')\n",
    "saved_sad = saved_h5['SAD'][:].astype('float32')\n",
    "saved_chr = saved_h5['chr'][:]\n",
    "saved_h5.close()\n",
    "saved_sad.shape"
   ]
  },
  {
   "cell_type": "code",
   "execution_count": 4,
   "metadata": {},
   "outputs": [
    {
     "data": {
      "text/plain": [
       "(16, 4269)"
      ]
     },
     "execution_count": 4,
     "metadata": {},
     "output_type": "execute_result"
    }
   ],
   "source": [
    "this_h5 = h5py.File('sad/testrm/sad.h5', 'r')\n",
    "this_sad = this_h5['SAD'][:].astype('float32')\n",
    "this_chr = this_h5['chr'][:]\n",
    "this_h5.close()\n",
    "this_sad.shape"
   ]
  },
  {
   "cell_type": "code",
   "execution_count": 5,
   "metadata": {},
   "outputs": [
    {
     "data": {
      "text/plain": [
       "0.9999999403953552"
      ]
     },
     "execution_count": 5,
     "metadata": {},
     "output_type": "execute_result"
    }
   ],
   "source": [
    "explained_variance_score(saved_sad.flatten(), this_sad.flatten())"
   ]
  },
  {
   "cell_type": "code",
   "execution_count": 6,
   "metadata": {},
   "outputs": [
    {
     "data": {
      "text/plain": [
       "True"
      ]
     },
     "execution_count": 6,
     "metadata": {},
     "output_type": "execute_result"
    }
   ],
   "source": [
    "np.allclose(this_sad, saved_sad, atol=0.2, rtol=0.1)"
   ]
  },
  {
   "cell_type": "code",
   "execution_count": 12,
   "metadata": {},
   "outputs": [
    {
     "data": {
      "text/plain": [
       "True"
      ]
     },
     "execution_count": 12,
     "metadata": {},
     "output_type": "execute_result"
    }
   ],
   "source": [
    "np.allclose(saved_sad, this_sad, atol=0.2, rtol=0.2)"
   ]
  },
  {
   "cell_type": "code",
   "execution_count": null,
   "metadata": {},
   "outputs": [],
   "source": [
    "np.testing.assert_allclose(saved_sad, this_value, atol=2e-1, rtol=1e-1)"
   ]
  },
  {
   "cell_type": "code",
   "execution_count": 44,
   "metadata": {},
   "outputs": [
    {
     "name": "stdout",
     "output_type": "stream",
     "text": [
      "1245 True\n"
     ]
    },
    {
     "data": {
      "text/plain": [
       "<matplotlib.axes._subplots.AxesSubplot at 0x7f54f73aaba8>"
      ]
     },
     "execution_count": 44,
     "metadata": {},
     "output_type": "execute_result"
    },
    {
     "data": {
      "image/png": "[encoded data removed]",
      "text/plain": [
       "<Figure size 432x288 with 1 Axes>"
      ]
     },
     "metadata": {
      "needs_background": "light"
     },
     "output_type": "display_data"
    }
   ],
   "source": [
    "ti = np.random.choice(saved_sad.shape[1])\n",
    "print(ti, np.allclose(saved_sad[:,ti], this_sad[:,ti], atol=1e-3, rtol=1e-3))\n",
    "sns.scatterplot(saved_sad[:,ti], this_sad[:,ti])"
   ]
  },
  {
   "cell_type": "code",
   "execution_count": 45,
   "metadata": {},
   "outputs": [
    {
     "data": {
      "text/plain": [
       "<matplotlib.axes._subplots.AxesSubplot at 0x7f54f7368f28>"
      ]
     },
     "execution_count": 45,
     "metadata": {},
     "output_type": "execute_result"
    },
    {
     "data": {
      "image/png": "[encoded data removed]",
      "text/plain": [
       "<Figure size 432x288 with 1 Axes>"
      ]
     },
     "metadata": {
      "needs_background": "light"
     },
     "output_type": "display_data"
    }
   ],
   "source": [
    "diff_ti = (saved_sad[:,ti] - this_sad[:,ti])\n",
    "mean_ti = (saved_sad[:,ti] + this_sad[:,ti]) / 2\n",
    "sns.scatterplot(mean_ti, diff_ti)"
   ]
  },
  {
   "cell_type": "code",
   "execution_count": 46,
   "metadata": {},
   "outputs": [
    {
     "data": {
      "text/plain": [
       "<matplotlib.axes._subplots.AxesSubplot at 0x7f54f72cd5f8>"
      ]
     },
     "execution_count": 46,
     "metadata": {},
     "output_type": "execute_result"
    },
    {
     "data": {
      "image/png": "[encoded data removed]",
      "text/plain": [
       "<Figure size 432x288 with 1 Axes>"
      ]
     },
     "metadata": {
      "needs_background": "light"
     },
     "output_type": "display_data"
    }
   ],
   "source": [
    "sns.scatterplot(np.arcsinh(saved_sad[:,ti]), np.arcsinh(this_sad[:,ti]))"
   ]
  },
  {
   "cell_type": "code",
   "execution_count": 18,
   "metadata": {},
   "outputs": [
    {
     "name": "stdout",
     "output_type": "stream",
     "text": [
      "358.90283\n"
     ]
    },
    {
     "data": {
      "text/plain": [
       "array([693872])"
      ]
     },
     "execution_count": 18,
     "metadata": {},
     "output_type": "execute_result"
    }
   ],
   "source": [
    "diff = (saved_sad - this_sad).flatten()\n",
    "print(diff.max())\n",
    "\n",
    "max_where = np.where(diff >= diff.max()*0.99)[0]\n",
    "max_where"
   ]
  },
  {
   "cell_type": "code",
   "execution_count": 19,
   "metadata": {},
   "outputs": [
    {
     "data": {
      "text/plain": [
       "(444.0, 85.09717)"
      ]
     },
     "execution_count": 19,
     "metadata": {},
     "output_type": "execute_result"
    }
   ],
   "source": [
    "saved_sad.flatten()[max_where[0]], this_sad.flatten()[max_where[0]]"
   ]
  },
  {
   "cell_type": "code",
   "execution_count": 12,
   "metadata": {},
   "outputs": [
    {
     "name": "stdout",
     "output_type": "stream",
     "text": [
      "4.860484\n"
     ]
    },
    {
     "data": {
      "text/plain": [
       "(array([291106, 297523, 317053, 317054, 317055, 317056, 317057, 317058,\n",
       "        317059, 317060, 317061, 317062, 317330, 317331, 317332, 317333,\n",
       "        317334, 317335, 317336, 317337, 317338, 317339, 317340, 330724,\n",
       "        330725, 334628, 334629, 334630, 334631, 334632, 334633, 334634,\n",
       "        334635, 334636, 334637, 335188, 335189, 378706, 378707, 378708,\n",
       "        378709, 378710, 378711, 378712, 378713, 378714, 378715, 378716,\n",
       "        378717, 378718, 435628, 435907, 435908, 435909, 435910, 435911,\n",
       "        435912, 435913, 441487, 441488, 441489, 441490, 441491, 441492,\n",
       "        441493, 441494, 441495, 471053, 471054, 471055, 471056, 471057,\n",
       "        471058, 471059, 471060, 471061, 471062, 471063, 471064, 471065,\n",
       "        471066, 471067, 471068, 471069, 471070, 497845, 497846, 497847,\n",
       "        549176, 549177, 549178, 549179, 549180, 549181, 549182, 549183,\n",
       "        549184, 549185, 573175, 573176, 590194, 590195, 590196, 590197,\n",
       "        590198, 590199, 590200, 590201, 590202, 608050, 608051, 608052,\n",
       "        608053, 608054, 608055, 608056, 608057, 608058, 629526, 629527,\n",
       "        629528, 629529, 629530, 629531, 629532, 629533, 629534, 629535,\n",
       "        629536, 629537, 629538, 629539, 629540, 629541, 670817, 670818,\n",
       "        670819, 670820, 670821, 670822, 670823, 670824, 670825, 670826,\n",
       "        670827, 670828, 670829, 670830, 670831, 670832, 670833, 670834,\n",
       "        708490, 708491, 708492, 708493, 708494]),)"
      ]
     },
     "execution_count": 12,
     "metadata": {},
     "output_type": "execute_result"
    }
   ],
   "source": [
    "ldiff = (np.arcsinh(saved_sad) - np.arcsinh(this_sad)).flatten()\n",
    "print(ldiff.max())\n",
    "np.where(ldiff >= ldiff.max()*0.9)"
   ]
  },
  {
   "cell_type": "code",
   "execution_count": 13,
   "metadata": {},
   "outputs": [
    {
     "data": {
      "text/plain": [
       "(0.23608398, 0.17523193)"
      ]
     },
     "execution_count": 13,
     "metadata": {},
     "output_type": "execute_result"
    }
   ],
   "source": [
    "saved_sad.flatten()[17452], this_sad.flatten()[17452]"
   ]
  },
  {
   "cell_type": "code",
   "execution_count": null,
   "metadata": {},
   "outputs": [],
   "source": []
  }
 ],
 "metadata": {
  "kernelspec": {
   "display_name": "Python 3",
   "language": "python",
   "name": "python3"
  },
  "language_info": {
   "codemirror_mode": {
    "name": "ipython",
    "version": 3
   },
   "file_extension": ".py",
   "mimetype": "text/x-python",
   "name": "python",
   "nbconvert_exporter": "python",
   "pygments_lexer": "ipython3",
   "version": "3.7.2"
  }
 },
 "nbformat": 4,
 "nbformat_minor": 2
}
