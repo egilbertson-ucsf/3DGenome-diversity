{
 "cells": [
  {
   "cell_type": "code",
   "execution_count": 48,
   "id": "9e7abfb9",
   "metadata": {},
   "outputs": [],
   "source": [
    "import os\n",
    "import configparser"
   ]
  },
  {
   "cell_type": "code",
   "execution_count": 49,
   "id": "8aa7807c",
   "metadata": {},
   "outputs": [
    {
     "name": "stdout",
     "output_type": "stream",
     "text": [
      "/wynton/group/capra/projects/modern_human_3Dgenome\n"
     ]
    }
   ],
   "source": [
    "!pwd"
   ]
  },
  {
   "cell_type": "code",
   "execution_count": 50,
   "id": "4224969f",
   "metadata": {},
   "outputs": [],
   "source": [
    "BASE_PATH = os.getcwd()\n",
    "configfile_name = os.path.join(\"/wynton/group/capra/projects/modern_human_3Dgenome/bin/configs/config_pairwise_comps_all_1KG_divergent_windows.ini\") #name the config file"
   ]
  },
  {
   "cell_type": "code",
   "execution_count": 51,
   "id": "aa338e68",
   "metadata": {},
   "outputs": [],
   "source": [
    "config = configparser.ConfigParser()"
   ]
  },
  {
   "cell_type": "code",
   "execution_count": 52,
   "id": "10a51f8f",
   "metadata": {},
   "outputs": [
    {
     "data": {
      "text/plain": [
       "'/wynton/group/capra/projects/modern_human_3Dgenome'"
      ]
     },
     "execution_count": 52,
     "metadata": {},
     "output_type": "execute_result"
    }
   ],
   "source": [
    "BASE_PATH"
   ]
  },
  {
   "cell_type": "markdown",
   "id": "33a95956",
   "metadata": {},
   "source": [
    "## set params and paths"
   ]
  },
  {
   "cell_type": "code",
   "execution_count": 53,
   "id": "c192c38a",
   "metadata": {},
   "outputs": [],
   "source": [
    "# Paths\n",
    "\n",
    "BIN_PATH = os.path.join(BASE_PATH, \"bin\")  # where my scripts live\n",
    "DATA_PATH = os.path.join(BASE_PATH, \"data\")  # where I dump new data.\n",
    "RESULTS_PATH = os.path.join(BASE_PATH, \"results\")  # where I analyze results\n",
    "\n",
    "SRC_PATH = os.path.join(BASE_PATH, \"src\")  # where any packages needed to run analyses live. I haven't started structuring things this way yet. \n"
   ]
  },
  {
   "cell_type": "code",
   "execution_count": 54,
   "id": "a833f3dd",
   "metadata": {},
   "outputs": [],
   "source": [
    "INPUT_PATH = os.path.join(DATA_PATH,\"akitaPreds/3dpreds/HFF_original\")\n",
    "OUT_PATH = os.path.join(DATA_PATH,\"pairwise/divergent_windows\")"
   ]
  },
  {
   "cell_type": "code",
   "execution_count": 55,
   "id": "9c0be016",
   "metadata": {},
   "outputs": [],
   "source": [
    "LAUNCH_RUN_COMPS = os.path.join(BIN_PATH, 'comparingAkitaPreds', 'run3dComps.sh')\n",
    "\n",
    "RUN_COMPS_INDIV = os.path.join(BIN_PATH, 'comparingAkitaPreds', 'run3dComparisons_simple_window_list.py')"
   ]
  },
  {
   "cell_type": "code",
   "execution_count": 56,
   "id": "c52bae1a",
   "metadata": {},
   "outputs": [
    {
     "data": {
      "text/plain": [
       "1228.432352"
      ]
     },
     "execution_count": 56,
     "metadata": {},
     "output_type": "execute_result"
    }
   ],
   "source": [
    "(3133756 * 392) / 1000000"
   ]
  },
  {
   "cell_type": "code",
   "execution_count": 57,
   "id": "875882c3",
   "metadata": {},
   "outputs": [
    {
     "data": {
      "text/plain": [
       "15270.792988"
      ]
     },
     "execution_count": 57,
     "metadata": {},
     "output_type": "execute_result"
    }
   ],
   "source": [
    "(3133756 * 4873) / 1000000"
   ]
  },
  {
   "cell_type": "code",
   "execution_count": 58,
   "id": "c4adc747",
   "metadata": {},
   "outputs": [],
   "source": [
    "COMP_LIST = '/wynton/group/capra/projects/modern_human_3Dgenome/data/reference/lists/listOfPairwiseComps.txt'\n"
   ]
  },
  {
   "cell_type": "markdown",
   "id": "fb1d6daf",
   "metadata": {},
   "source": [
    "### Writing .ini file"
   ]
  },
  {
   "cell_type": "code",
   "execution_count": 59,
   "id": "be52fc79",
   "metadata": {},
   "outputs": [],
   "source": [
    "config[\"FILE\"] = {\n",
    "    \"COMP_LIST\":COMP_LIST\n",
    "}\n",
    "\n",
    "config[\"PATH\"] = {\n",
    "    \"BASE_PATH\":BASE_PATH,\n",
    "    \"BIN_PATH\":BIN_PATH,\n",
    "    \"DATA_PATH\":DATA_PATH,\n",
    "    \"RESULTS_PATH\":RESULTS_PATH,\n",
    "    \"SRC_PATH\":SRC_PATH,\n",
    "    \"INPUT_PATH\":INPUT_PATH,\n",
    "    \"OUT_PATH\":OUT_PATH\n",
    "}\n",
    "\n",
    "config[\"BIN\"] = {\n",
    "    \"LAUNCH_RUN_COMPS\":LAUNCH_RUN_COMPS,\n",
    "    \"RUN_COMPS_INDIV\":RUN_COMPS_INDIV\n",
    "}"
   ]
  },
  {
   "cell_type": "markdown",
   "id": "89a19aaf",
   "metadata": {},
   "source": [
    "### Write config file"
   ]
  },
  {
   "cell_type": "code",
   "execution_count": 60,
   "id": "7ded1d3f",
   "metadata": {},
   "outputs": [],
   "source": [
    "if not os.path.isfile(configfile_name):\n",
    "    with open(configfile_name, 'w') as configfile:\n",
    "        config.write(configfile)  # write the config\n",
    "        configfile.close()"
   ]
  },
  {
   "cell_type": "code",
   "execution_count": 61,
   "id": "414955cc",
   "metadata": {},
   "outputs": [
    {
     "data": {
      "text/plain": [
       "'/wynton/group/capra/projects/modern_human_3Dgenome'"
      ]
     },
     "execution_count": 61,
     "metadata": {},
     "output_type": "execute_result"
    }
   ],
   "source": [
    "BASE_PATH"
   ]
  },
  {
   "cell_type": "code",
   "execution_count": null,
   "id": "4b0c61d1",
   "metadata": {},
   "outputs": [],
   "source": []
  }
 ],
 "metadata": {
  "kernelspec": {
   "display_name": "Python 3 (ipykernel)",
   "language": "python",
   "name": "python3"
  },
  "vscode": {
   "interpreter": {
    "hash": "f46e2c836e5bf05537a649933a2b4fa95e1eca7738f51dce3dfe321ed30c13c3"
   }
  }
 },
 "nbformat": 4,
 "nbformat_minor": 5
}
