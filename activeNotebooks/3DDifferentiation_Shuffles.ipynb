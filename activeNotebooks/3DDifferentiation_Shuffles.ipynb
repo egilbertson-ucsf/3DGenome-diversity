{
 "cells": [
  {
   "cell_type": "code",
   "execution_count": 1,
   "id": "79c4be72",
   "metadata": {},
   "outputs": [],
   "source": [
    "import pandas as pd\n",
    "import os\n",
    "\n",
    "import pickle\n",
    "\n",
    "import matplotlib.pyplot as plt\n",
    "import seaborn as sns\n",
    "\n",
    "import random\n",
    "\n",
    "import numpy as np \n",
    "from upsetplot import plot, from_indicators\n",
    "import pybedtools\n",
    "sns.set(color_codes=True) # Seaborn desaturates matplotlib colors (this is useful if you use both seaborn and basic matplot lib and want colors to be consistent)\n",
    "sns.set(palette='husl', context = 'poster', style='white', color_codes=True)"
   ]
  },
  {
   "cell_type": "code",
   "execution_count": 2,
   "id": "6efba168",
   "metadata": {},
   "outputs": [],
   "source": [
    "BASE_PATH = \"/\".join(os.getcwd().split(\"/\")[:-2]) # base directory level\n",
    "\n",
    "BIN_PATH = os.path.join(BASE_PATH, \"bin\")  # where my scripts live\n",
    "DATA_PATH = os.path.join(BASE_PATH, \"data\")  # where I dump new data.\n",
    "RESULTS_PATH = os.path.join(BASE_PATH, \"results\")  # where I analyze results\n",
    "\n",
    "SRC_PATH = os.path.join(BASE_PATH, \"src\")  # where any packages needed to run analyses live. I haven't started structuring things this way yet. \n",
    "\n",
    "COMP_PATH = os.path.join(DATA_PATH,\"pairwise\")"
   ]
  },
  {
   "cell_type": "markdown",
   "id": "06460459",
   "metadata": {},
   "source": [
    "# Visualize shuffles"
   ]
  },
  {
   "cell_type": "code",
   "execution_count": 3,
   "id": "3eb4316f",
   "metadata": {},
   "outputs": [],
   "source": [
    "num_shuffles=10000\n",
    "all_pops = pd.read_csv('%s/differentiation_shuffles/basic_%s_shuffles_differentiation_all.csv' %(RESULTS_PATH, num_shuffles), index_col=[0,1])#names=range(1,num_shuffles+1))\n",
    "non_afr = pd.read_csv('%s/differentiation_shuffles/basic_%s_shuffles_differentiation_nonAFR.csv' %(RESULTS_PATH, num_shuffles), index_col=[ 0,1])\n"
   ]
  },
  {
   "cell_type": "code",
   "execution_count": 4,
   "id": "4c308cae",
   "metadata": {},
   "outputs": [
    {
     "data": {
      "text/html": [
       "<div>\n",
       "<style scoped>\n",
       "    .dataframe tbody tr th:only-of-type {\n",
       "        vertical-align: middle;\n",
       "    }\n",
       "\n",
       "    .dataframe tbody tr th {\n",
       "        vertical-align: top;\n",
       "    }\n",
       "\n",
       "    .dataframe thead th {\n",
       "        text-align: right;\n",
       "    }\n",
       "</style>\n",
       "<table border=\"1\" class=\"dataframe\">\n",
       "  <thead>\n",
       "    <tr style=\"text-align: right;\">\n",
       "      <th></th>\n",
       "      <th></th>\n",
       "      <th>1</th>\n",
       "      <th>2</th>\n",
       "      <th>3</th>\n",
       "      <th>4</th>\n",
       "      <th>5</th>\n",
       "      <th>6</th>\n",
       "      <th>7</th>\n",
       "      <th>8</th>\n",
       "      <th>9</th>\n",
       "      <th>10</th>\n",
       "      <th>...</th>\n",
       "      <th>9991</th>\n",
       "      <th>9992</th>\n",
       "      <th>9993</th>\n",
       "      <th>9994</th>\n",
       "      <th>9995</th>\n",
       "      <th>9996</th>\n",
       "      <th>9997</th>\n",
       "      <th>9998</th>\n",
       "      <th>9999</th>\n",
       "      <th>10000</th>\n",
       "    </tr>\n",
       "  </thead>\n",
       "  <tbody>\n",
       "    <tr>\n",
       "      <th rowspan=\"5\" valign=\"top\">chr1</th>\n",
       "      <th>1048576</th>\n",
       "      <td>0.064627</td>\n",
       "      <td>-0.100459</td>\n",
       "      <td>-0.221535</td>\n",
       "      <td>0.054717</td>\n",
       "      <td>-0.082374</td>\n",
       "      <td>0.119827</td>\n",
       "      <td>-0.115846</td>\n",
       "      <td>0.021116</td>\n",
       "      <td>0.024124</td>\n",
       "      <td>-0.028022</td>\n",
       "      <td>...</td>\n",
       "      <td>0.212250</td>\n",
       "      <td>0.097442</td>\n",
       "      <td>-0.162093</td>\n",
       "      <td>-0.264346</td>\n",
       "      <td>0.153555</td>\n",
       "      <td>0.047242</td>\n",
       "      <td>-0.238339</td>\n",
       "      <td>-0.151565</td>\n",
       "      <td>0.018406</td>\n",
       "      <td>-0.189377</td>\n",
       "    </tr>\n",
       "    <tr>\n",
       "      <th>1572864</th>\n",
       "      <td>-0.166902</td>\n",
       "      <td>-0.133400</td>\n",
       "      <td>-0.300064</td>\n",
       "      <td>0.302971</td>\n",
       "      <td>-0.161319</td>\n",
       "      <td>0.047770</td>\n",
       "      <td>-0.025568</td>\n",
       "      <td>0.089644</td>\n",
       "      <td>0.097326</td>\n",
       "      <td>-0.045043</td>\n",
       "      <td>...</td>\n",
       "      <td>0.182881</td>\n",
       "      <td>0.177746</td>\n",
       "      <td>-0.133422</td>\n",
       "      <td>-0.307104</td>\n",
       "      <td>0.107998</td>\n",
       "      <td>0.074901</td>\n",
       "      <td>-0.292615</td>\n",
       "      <td>-0.042207</td>\n",
       "      <td>0.082448</td>\n",
       "      <td>0.046191</td>\n",
       "    </tr>\n",
       "    <tr>\n",
       "      <th>3145728</th>\n",
       "      <td>0.075949</td>\n",
       "      <td>0.160701</td>\n",
       "      <td>0.102741</td>\n",
       "      <td>-0.114205</td>\n",
       "      <td>-0.277302</td>\n",
       "      <td>-0.161380</td>\n",
       "      <td>-0.145573</td>\n",
       "      <td>0.067269</td>\n",
       "      <td>0.113401</td>\n",
       "      <td>-0.078219</td>\n",
       "      <td>...</td>\n",
       "      <td>0.082419</td>\n",
       "      <td>0.150544</td>\n",
       "      <td>0.106123</td>\n",
       "      <td>-0.144882</td>\n",
       "      <td>0.100193</td>\n",
       "      <td>-0.127178</td>\n",
       "      <td>-0.034425</td>\n",
       "      <td>-0.089390</td>\n",
       "      <td>-0.005710</td>\n",
       "      <td>-0.091084</td>\n",
       "    </tr>\n",
       "    <tr>\n",
       "      <th>3670016</th>\n",
       "      <td>-0.104035</td>\n",
       "      <td>-0.082304</td>\n",
       "      <td>-0.028316</td>\n",
       "      <td>0.064174</td>\n",
       "      <td>-0.114452</td>\n",
       "      <td>0.081143</td>\n",
       "      <td>0.033845</td>\n",
       "      <td>0.016826</td>\n",
       "      <td>-0.083432</td>\n",
       "      <td>0.013139</td>\n",
       "      <td>...</td>\n",
       "      <td>0.118194</td>\n",
       "      <td>0.064988</td>\n",
       "      <td>-0.047524</td>\n",
       "      <td>-0.033433</td>\n",
       "      <td>-0.020688</td>\n",
       "      <td>0.044241</td>\n",
       "      <td>0.165959</td>\n",
       "      <td>-0.018218</td>\n",
       "      <td>0.071496</td>\n",
       "      <td>0.194383</td>\n",
       "    </tr>\n",
       "    <tr>\n",
       "      <th>4194304</th>\n",
       "      <td>0.001640</td>\n",
       "      <td>0.012137</td>\n",
       "      <td>0.069866</td>\n",
       "      <td>0.013608</td>\n",
       "      <td>-0.065319</td>\n",
       "      <td>0.116128</td>\n",
       "      <td>0.008431</td>\n",
       "      <td>0.046962</td>\n",
       "      <td>-0.145643</td>\n",
       "      <td>-0.008937</td>\n",
       "      <td>...</td>\n",
       "      <td>-0.036217</td>\n",
       "      <td>-0.006149</td>\n",
       "      <td>-0.069918</td>\n",
       "      <td>0.001721</td>\n",
       "      <td>-0.049018</td>\n",
       "      <td>0.013234</td>\n",
       "      <td>0.236722</td>\n",
       "      <td>0.006515</td>\n",
       "      <td>-0.042273</td>\n",
       "      <td>0.267165</td>\n",
       "    </tr>\n",
       "    <tr>\n",
       "      <th>...</th>\n",
       "      <th>...</th>\n",
       "      <td>...</td>\n",
       "      <td>...</td>\n",
       "      <td>...</td>\n",
       "      <td>...</td>\n",
       "      <td>...</td>\n",
       "      <td>...</td>\n",
       "      <td>...</td>\n",
       "      <td>...</td>\n",
       "      <td>...</td>\n",
       "      <td>...</td>\n",
       "      <td>...</td>\n",
       "      <td>...</td>\n",
       "      <td>...</td>\n",
       "      <td>...</td>\n",
       "      <td>...</td>\n",
       "      <td>...</td>\n",
       "      <td>...</td>\n",
       "      <td>...</td>\n",
       "      <td>...</td>\n",
       "      <td>...</td>\n",
       "      <td>...</td>\n",
       "    </tr>\n",
       "    <tr>\n",
       "      <th rowspan=\"5\" valign=\"top\">chr22</th>\n",
       "      <th>46661632</th>\n",
       "      <td>0.000197</td>\n",
       "      <td>0.044710</td>\n",
       "      <td>0.137366</td>\n",
       "      <td>0.219604</td>\n",
       "      <td>0.219624</td>\n",
       "      <td>0.002035</td>\n",
       "      <td>-0.058740</td>\n",
       "      <td>-0.172409</td>\n",
       "      <td>0.085584</td>\n",
       "      <td>0.087862</td>\n",
       "      <td>...</td>\n",
       "      <td>-0.143777</td>\n",
       "      <td>0.035997</td>\n",
       "      <td>-0.435656</td>\n",
       "      <td>-0.164163</td>\n",
       "      <td>-0.193193</td>\n",
       "      <td>0.322511</td>\n",
       "      <td>-0.320616</td>\n",
       "      <td>-0.144610</td>\n",
       "      <td>0.041308</td>\n",
       "      <td>-0.239630</td>\n",
       "    </tr>\n",
       "    <tr>\n",
       "      <th>47185920</th>\n",
       "      <td>0.228821</td>\n",
       "      <td>0.378444</td>\n",
       "      <td>0.458905</td>\n",
       "      <td>0.628946</td>\n",
       "      <td>0.449180</td>\n",
       "      <td>0.576252</td>\n",
       "      <td>0.267074</td>\n",
       "      <td>0.428926</td>\n",
       "      <td>0.651443</td>\n",
       "      <td>0.510949</td>\n",
       "      <td>...</td>\n",
       "      <td>0.379433</td>\n",
       "      <td>-1.473362</td>\n",
       "      <td>0.381984</td>\n",
       "      <td>0.254945</td>\n",
       "      <td>0.316999</td>\n",
       "      <td>-1.354579</td>\n",
       "      <td>0.049698</td>\n",
       "      <td>-0.006948</td>\n",
       "      <td>0.432862</td>\n",
       "      <td>0.103543</td>\n",
       "    </tr>\n",
       "    <tr>\n",
       "      <th>47710208</th>\n",
       "      <td>-0.339014</td>\n",
       "      <td>-0.205088</td>\n",
       "      <td>-0.281619</td>\n",
       "      <td>-0.282816</td>\n",
       "      <td>-0.023959</td>\n",
       "      <td>0.279528</td>\n",
       "      <td>0.255346</td>\n",
       "      <td>0.267598</td>\n",
       "      <td>0.204445</td>\n",
       "      <td>0.099177</td>\n",
       "      <td>...</td>\n",
       "      <td>0.389425</td>\n",
       "      <td>0.191749</td>\n",
       "      <td>-0.104579</td>\n",
       "      <td>-0.274097</td>\n",
       "      <td>0.229701</td>\n",
       "      <td>-0.092827</td>\n",
       "      <td>-0.062485</td>\n",
       "      <td>-0.198230</td>\n",
       "      <td>0.031746</td>\n",
       "      <td>0.244923</td>\n",
       "    </tr>\n",
       "    <tr>\n",
       "      <th>48234496</th>\n",
       "      <td>-0.128226</td>\n",
       "      <td>0.285271</td>\n",
       "      <td>-0.503330</td>\n",
       "      <td>-0.067565</td>\n",
       "      <td>-0.051848</td>\n",
       "      <td>0.506193</td>\n",
       "      <td>0.440843</td>\n",
       "      <td>0.400939</td>\n",
       "      <td>0.077561</td>\n",
       "      <td>0.263696</td>\n",
       "      <td>...</td>\n",
       "      <td>0.425716</td>\n",
       "      <td>0.541307</td>\n",
       "      <td>-0.446991</td>\n",
       "      <td>-0.190796</td>\n",
       "      <td>0.077923</td>\n",
       "      <td>-0.291938</td>\n",
       "      <td>-0.372652</td>\n",
       "      <td>-0.846243</td>\n",
       "      <td>-0.325535</td>\n",
       "      <td>0.019761</td>\n",
       "    </tr>\n",
       "    <tr>\n",
       "      <th>48758784</th>\n",
       "      <td>-0.072308</td>\n",
       "      <td>0.039537</td>\n",
       "      <td>-0.097273</td>\n",
       "      <td>0.156484</td>\n",
       "      <td>-0.036560</td>\n",
       "      <td>-0.004518</td>\n",
       "      <td>0.242313</td>\n",
       "      <td>-0.191190</td>\n",
       "      <td>-0.044980</td>\n",
       "      <td>-0.086784</td>\n",
       "      <td>...</td>\n",
       "      <td>0.140593</td>\n",
       "      <td>0.037545</td>\n",
       "      <td>-0.065288</td>\n",
       "      <td>-0.042928</td>\n",
       "      <td>-0.023558</td>\n",
       "      <td>-0.041120</td>\n",
       "      <td>0.079360</td>\n",
       "      <td>0.027557</td>\n",
       "      <td>0.036886</td>\n",
       "      <td>-0.244854</td>\n",
       "    </tr>\n",
       "  </tbody>\n",
       "</table>\n",
       "<p>4873 rows × 10000 columns</p>\n",
       "</div>"
      ],
      "text/plain": [
       "                       1         2         3         4         5         6  \\\n",
       "chr1  1048576   0.064627 -0.100459 -0.221535  0.054717 -0.082374  0.119827   \n",
       "      1572864  -0.166902 -0.133400 -0.300064  0.302971 -0.161319  0.047770   \n",
       "      3145728   0.075949  0.160701  0.102741 -0.114205 -0.277302 -0.161380   \n",
       "      3670016  -0.104035 -0.082304 -0.028316  0.064174 -0.114452  0.081143   \n",
       "      4194304   0.001640  0.012137  0.069866  0.013608 -0.065319  0.116128   \n",
       "...                  ...       ...       ...       ...       ...       ...   \n",
       "chr22 46661632  0.000197  0.044710  0.137366  0.219604  0.219624  0.002035   \n",
       "      47185920  0.228821  0.378444  0.458905  0.628946  0.449180  0.576252   \n",
       "      47710208 -0.339014 -0.205088 -0.281619 -0.282816 -0.023959  0.279528   \n",
       "      48234496 -0.128226  0.285271 -0.503330 -0.067565 -0.051848  0.506193   \n",
       "      48758784 -0.072308  0.039537 -0.097273  0.156484 -0.036560 -0.004518   \n",
       "\n",
       "                       7         8         9        10  ...      9991  \\\n",
       "chr1  1048576  -0.115846  0.021116  0.024124 -0.028022  ...  0.212250   \n",
       "      1572864  -0.025568  0.089644  0.097326 -0.045043  ...  0.182881   \n",
       "      3145728  -0.145573  0.067269  0.113401 -0.078219  ...  0.082419   \n",
       "      3670016   0.033845  0.016826 -0.083432  0.013139  ...  0.118194   \n",
       "      4194304   0.008431  0.046962 -0.145643 -0.008937  ... -0.036217   \n",
       "...                  ...       ...       ...       ...  ...       ...   \n",
       "chr22 46661632 -0.058740 -0.172409  0.085584  0.087862  ... -0.143777   \n",
       "      47185920  0.267074  0.428926  0.651443  0.510949  ...  0.379433   \n",
       "      47710208  0.255346  0.267598  0.204445  0.099177  ...  0.389425   \n",
       "      48234496  0.440843  0.400939  0.077561  0.263696  ...  0.425716   \n",
       "      48758784  0.242313 -0.191190 -0.044980 -0.086784  ...  0.140593   \n",
       "\n",
       "                    9992      9993      9994      9995      9996      9997  \\\n",
       "chr1  1048576   0.097442 -0.162093 -0.264346  0.153555  0.047242 -0.238339   \n",
       "      1572864   0.177746 -0.133422 -0.307104  0.107998  0.074901 -0.292615   \n",
       "      3145728   0.150544  0.106123 -0.144882  0.100193 -0.127178 -0.034425   \n",
       "      3670016   0.064988 -0.047524 -0.033433 -0.020688  0.044241  0.165959   \n",
       "      4194304  -0.006149 -0.069918  0.001721 -0.049018  0.013234  0.236722   \n",
       "...                  ...       ...       ...       ...       ...       ...   \n",
       "chr22 46661632  0.035997 -0.435656 -0.164163 -0.193193  0.322511 -0.320616   \n",
       "      47185920 -1.473362  0.381984  0.254945  0.316999 -1.354579  0.049698   \n",
       "      47710208  0.191749 -0.104579 -0.274097  0.229701 -0.092827 -0.062485   \n",
       "      48234496  0.541307 -0.446991 -0.190796  0.077923 -0.291938 -0.372652   \n",
       "      48758784  0.037545 -0.065288 -0.042928 -0.023558 -0.041120  0.079360   \n",
       "\n",
       "                    9998      9999     10000  \n",
       "chr1  1048576  -0.151565  0.018406 -0.189377  \n",
       "      1572864  -0.042207  0.082448  0.046191  \n",
       "      3145728  -0.089390 -0.005710 -0.091084  \n",
       "      3670016  -0.018218  0.071496  0.194383  \n",
       "      4194304   0.006515 -0.042273  0.267165  \n",
       "...                  ...       ...       ...  \n",
       "chr22 46661632 -0.144610  0.041308 -0.239630  \n",
       "      47185920 -0.006948  0.432862  0.103543  \n",
       "      47710208 -0.198230  0.031746  0.244923  \n",
       "      48234496 -0.846243 -0.325535  0.019761  \n",
       "      48758784  0.027557  0.036886 -0.244854  \n",
       "\n",
       "[4873 rows x 10000 columns]"
      ]
     },
     "execution_count": 4,
     "metadata": {},
     "output_type": "execute_result"
    }
   ],
   "source": [
    "all_pops"
   ]
  },
  {
   "cell_type": "code",
   "execution_count": 5,
   "id": "84e5a59e",
   "metadata": {},
   "outputs": [
    {
     "data": {
      "text/html": [
       "<div>\n",
       "<style scoped>\n",
       "    .dataframe tbody tr th:only-of-type {\n",
       "        vertical-align: middle;\n",
       "    }\n",
       "\n",
       "    .dataframe tbody tr th {\n",
       "        vertical-align: top;\n",
       "    }\n",
       "\n",
       "    .dataframe thead th {\n",
       "        text-align: right;\n",
       "    }\n",
       "</style>\n",
       "<table border=\"1\" class=\"dataframe\">\n",
       "  <thead>\n",
       "    <tr style=\"text-align: right;\">\n",
       "      <th></th>\n",
       "      <th></th>\n",
       "      <th>1</th>\n",
       "      <th>2</th>\n",
       "      <th>3</th>\n",
       "      <th>4</th>\n",
       "      <th>5</th>\n",
       "      <th>6</th>\n",
       "      <th>7</th>\n",
       "      <th>8</th>\n",
       "      <th>9</th>\n",
       "      <th>10</th>\n",
       "      <th>...</th>\n",
       "      <th>9991</th>\n",
       "      <th>9992</th>\n",
       "      <th>9993</th>\n",
       "      <th>9994</th>\n",
       "      <th>9995</th>\n",
       "      <th>9996</th>\n",
       "      <th>9997</th>\n",
       "      <th>9998</th>\n",
       "      <th>9999</th>\n",
       "      <th>10000</th>\n",
       "    </tr>\n",
       "  </thead>\n",
       "  <tbody>\n",
       "    <tr>\n",
       "      <th rowspan=\"5\" valign=\"top\">chr1</th>\n",
       "      <th>1048576</th>\n",
       "      <td>-0.022278</td>\n",
       "      <td>0.051015</td>\n",
       "      <td>-0.108752</td>\n",
       "      <td>0.005847</td>\n",
       "      <td>0.073727</td>\n",
       "      <td>-0.036259</td>\n",
       "      <td>-0.180425</td>\n",
       "      <td>0.078716</td>\n",
       "      <td>-0.092041</td>\n",
       "      <td>0.166617</td>\n",
       "      <td>...</td>\n",
       "      <td>-0.048314</td>\n",
       "      <td>0.002307</td>\n",
       "      <td>0.130097</td>\n",
       "      <td>0.036189</td>\n",
       "      <td>-0.018435</td>\n",
       "      <td>-0.031691</td>\n",
       "      <td>-0.076889</td>\n",
       "      <td>-0.224545</td>\n",
       "      <td>0.137279</td>\n",
       "      <td>0.015556</td>\n",
       "    </tr>\n",
       "    <tr>\n",
       "      <th>1572864</th>\n",
       "      <td>-0.033565</td>\n",
       "      <td>0.149379</td>\n",
       "      <td>-0.019936</td>\n",
       "      <td>-0.007982</td>\n",
       "      <td>0.154109</td>\n",
       "      <td>0.026627</td>\n",
       "      <td>-0.074320</td>\n",
       "      <td>0.022998</td>\n",
       "      <td>0.050629</td>\n",
       "      <td>-0.034382</td>\n",
       "      <td>...</td>\n",
       "      <td>0.052541</td>\n",
       "      <td>0.038296</td>\n",
       "      <td>-0.102202</td>\n",
       "      <td>-0.083037</td>\n",
       "      <td>-0.035976</td>\n",
       "      <td>0.078155</td>\n",
       "      <td>0.111732</td>\n",
       "      <td>-0.103208</td>\n",
       "      <td>0.251100</td>\n",
       "      <td>0.110179</td>\n",
       "    </tr>\n",
       "    <tr>\n",
       "      <th>3145728</th>\n",
       "      <td>-0.018111</td>\n",
       "      <td>-0.115575</td>\n",
       "      <td>0.048660</td>\n",
       "      <td>0.042786</td>\n",
       "      <td>-0.046912</td>\n",
       "      <td>0.010175</td>\n",
       "      <td>0.091084</td>\n",
       "      <td>-0.016991</td>\n",
       "      <td>0.249761</td>\n",
       "      <td>-0.106867</td>\n",
       "      <td>...</td>\n",
       "      <td>0.075339</td>\n",
       "      <td>-0.018721</td>\n",
       "      <td>0.008628</td>\n",
       "      <td>0.082081</td>\n",
       "      <td>0.162047</td>\n",
       "      <td>-0.039210</td>\n",
       "      <td>0.077631</td>\n",
       "      <td>-0.004771</td>\n",
       "      <td>0.110459</td>\n",
       "      <td>0.145274</td>\n",
       "    </tr>\n",
       "    <tr>\n",
       "      <th>3670016</th>\n",
       "      <td>-0.030693</td>\n",
       "      <td>0.039573</td>\n",
       "      <td>-0.002944</td>\n",
       "      <td>0.031077</td>\n",
       "      <td>0.059537</td>\n",
       "      <td>-0.110826</td>\n",
       "      <td>0.035425</td>\n",
       "      <td>0.077851</td>\n",
       "      <td>0.004660</td>\n",
       "      <td>0.048265</td>\n",
       "      <td>...</td>\n",
       "      <td>-0.065162</td>\n",
       "      <td>0.006037</td>\n",
       "      <td>-0.014411</td>\n",
       "      <td>-0.012865</td>\n",
       "      <td>0.052867</td>\n",
       "      <td>-0.063315</td>\n",
       "      <td>0.292173</td>\n",
       "      <td>0.080877</td>\n",
       "      <td>-0.047368</td>\n",
       "      <td>0.006711</td>\n",
       "    </tr>\n",
       "    <tr>\n",
       "      <th>4194304</th>\n",
       "      <td>-0.005538</td>\n",
       "      <td>0.017247</td>\n",
       "      <td>-0.025317</td>\n",
       "      <td>0.054768</td>\n",
       "      <td>-0.074939</td>\n",
       "      <td>-0.034607</td>\n",
       "      <td>0.029110</td>\n",
       "      <td>0.053304</td>\n",
       "      <td>-0.010331</td>\n",
       "      <td>-0.018006</td>\n",
       "      <td>...</td>\n",
       "      <td>-0.081325</td>\n",
       "      <td>-0.018029</td>\n",
       "      <td>0.030139</td>\n",
       "      <td>-0.075721</td>\n",
       "      <td>0.036876</td>\n",
       "      <td>-0.078910</td>\n",
       "      <td>0.278338</td>\n",
       "      <td>0.112758</td>\n",
       "      <td>-0.006900</td>\n",
       "      <td>-0.058179</td>\n",
       "    </tr>\n",
       "    <tr>\n",
       "      <th>...</th>\n",
       "      <th>...</th>\n",
       "      <td>...</td>\n",
       "      <td>...</td>\n",
       "      <td>...</td>\n",
       "      <td>...</td>\n",
       "      <td>...</td>\n",
       "      <td>...</td>\n",
       "      <td>...</td>\n",
       "      <td>...</td>\n",
       "      <td>...</td>\n",
       "      <td>...</td>\n",
       "      <td>...</td>\n",
       "      <td>...</td>\n",
       "      <td>...</td>\n",
       "      <td>...</td>\n",
       "      <td>...</td>\n",
       "      <td>...</td>\n",
       "      <td>...</td>\n",
       "      <td>...</td>\n",
       "      <td>...</td>\n",
       "      <td>...</td>\n",
       "      <td>...</td>\n",
       "    </tr>\n",
       "    <tr>\n",
       "      <th rowspan=\"5\" valign=\"top\">chr22</th>\n",
       "      <th>46661632</th>\n",
       "      <td>-0.132709</td>\n",
       "      <td>-0.130069</td>\n",
       "      <td>0.031125</td>\n",
       "      <td>-0.010705</td>\n",
       "      <td>0.029848</td>\n",
       "      <td>0.017052</td>\n",
       "      <td>-0.201580</td>\n",
       "      <td>0.008917</td>\n",
       "      <td>-0.090813</td>\n",
       "      <td>0.060262</td>\n",
       "      <td>...</td>\n",
       "      <td>0.088377</td>\n",
       "      <td>0.114101</td>\n",
       "      <td>-0.081435</td>\n",
       "      <td>0.006507</td>\n",
       "      <td>-0.087060</td>\n",
       "      <td>0.103786</td>\n",
       "      <td>0.048061</td>\n",
       "      <td>0.049487</td>\n",
       "      <td>-0.101619</td>\n",
       "      <td>-0.147502</td>\n",
       "    </tr>\n",
       "    <tr>\n",
       "      <th>47185920</th>\n",
       "      <td>0.713740</td>\n",
       "      <td>0.621152</td>\n",
       "      <td>0.594839</td>\n",
       "      <td>0.433481</td>\n",
       "      <td>-1.657233</td>\n",
       "      <td>0.635401</td>\n",
       "      <td>0.651567</td>\n",
       "      <td>-1.758518</td>\n",
       "      <td>0.599770</td>\n",
       "      <td>-1.602385</td>\n",
       "      <td>...</td>\n",
       "      <td>0.645221</td>\n",
       "      <td>0.577292</td>\n",
       "      <td>-1.673852</td>\n",
       "      <td>0.666792</td>\n",
       "      <td>0.562732</td>\n",
       "      <td>0.690932</td>\n",
       "      <td>-1.628232</td>\n",
       "      <td>0.589805</td>\n",
       "      <td>-1.698883</td>\n",
       "      <td>0.652537</td>\n",
       "    </tr>\n",
       "    <tr>\n",
       "      <th>47710208</th>\n",
       "      <td>-0.020138</td>\n",
       "      <td>-0.045548</td>\n",
       "      <td>-0.422835</td>\n",
       "      <td>-0.140026</td>\n",
       "      <td>0.294329</td>\n",
       "      <td>0.114534</td>\n",
       "      <td>0.059956</td>\n",
       "      <td>-0.255640</td>\n",
       "      <td>-0.025180</td>\n",
       "      <td>0.055636</td>\n",
       "      <td>...</td>\n",
       "      <td>-0.189255</td>\n",
       "      <td>0.097059</td>\n",
       "      <td>-0.141873</td>\n",
       "      <td>-0.116002</td>\n",
       "      <td>-0.152537</td>\n",
       "      <td>-0.238188</td>\n",
       "      <td>-0.271185</td>\n",
       "      <td>-0.275149</td>\n",
       "      <td>0.196480</td>\n",
       "      <td>0.247508</td>\n",
       "    </tr>\n",
       "    <tr>\n",
       "      <th>48234496</th>\n",
       "      <td>-0.395309</td>\n",
       "      <td>-0.323260</td>\n",
       "      <td>-0.519841</td>\n",
       "      <td>-0.424068</td>\n",
       "      <td>0.272552</td>\n",
       "      <td>-0.257449</td>\n",
       "      <td>-0.253090</td>\n",
       "      <td>0.001302</td>\n",
       "      <td>0.286103</td>\n",
       "      <td>-0.183589</td>\n",
       "      <td>...</td>\n",
       "      <td>-0.689486</td>\n",
       "      <td>-0.294020</td>\n",
       "      <td>0.063748</td>\n",
       "      <td>-0.761194</td>\n",
       "      <td>0.061308</td>\n",
       "      <td>-0.078088</td>\n",
       "      <td>-0.690140</td>\n",
       "      <td>-0.083411</td>\n",
       "      <td>0.506069</td>\n",
       "      <td>0.125928</td>\n",
       "    </tr>\n",
       "    <tr>\n",
       "      <th>48758784</th>\n",
       "      <td>-0.055658</td>\n",
       "      <td>0.019832</td>\n",
       "      <td>-0.025417</td>\n",
       "      <td>0.111689</td>\n",
       "      <td>0.104231</td>\n",
       "      <td>-0.133101</td>\n",
       "      <td>-0.122696</td>\n",
       "      <td>0.068455</td>\n",
       "      <td>0.001398</td>\n",
       "      <td>0.099341</td>\n",
       "      <td>...</td>\n",
       "      <td>-0.133519</td>\n",
       "      <td>-0.076886</td>\n",
       "      <td>0.003412</td>\n",
       "      <td>-0.046222</td>\n",
       "      <td>-0.047095</td>\n",
       "      <td>-0.190384</td>\n",
       "      <td>-0.110858</td>\n",
       "      <td>0.065550</td>\n",
       "      <td>-0.236944</td>\n",
       "      <td>0.060830</td>\n",
       "    </tr>\n",
       "  </tbody>\n",
       "</table>\n",
       "<p>4873 rows × 10000 columns</p>\n",
       "</div>"
      ],
      "text/plain": [
       "                       1         2         3         4         5         6  \\\n",
       "chr1  1048576  -0.022278  0.051015 -0.108752  0.005847  0.073727 -0.036259   \n",
       "      1572864  -0.033565  0.149379 -0.019936 -0.007982  0.154109  0.026627   \n",
       "      3145728  -0.018111 -0.115575  0.048660  0.042786 -0.046912  0.010175   \n",
       "      3670016  -0.030693  0.039573 -0.002944  0.031077  0.059537 -0.110826   \n",
       "      4194304  -0.005538  0.017247 -0.025317  0.054768 -0.074939 -0.034607   \n",
       "...                  ...       ...       ...       ...       ...       ...   \n",
       "chr22 46661632 -0.132709 -0.130069  0.031125 -0.010705  0.029848  0.017052   \n",
       "      47185920  0.713740  0.621152  0.594839  0.433481 -1.657233  0.635401   \n",
       "      47710208 -0.020138 -0.045548 -0.422835 -0.140026  0.294329  0.114534   \n",
       "      48234496 -0.395309 -0.323260 -0.519841 -0.424068  0.272552 -0.257449   \n",
       "      48758784 -0.055658  0.019832 -0.025417  0.111689  0.104231 -0.133101   \n",
       "\n",
       "                       7         8         9        10  ...      9991  \\\n",
       "chr1  1048576  -0.180425  0.078716 -0.092041  0.166617  ... -0.048314   \n",
       "      1572864  -0.074320  0.022998  0.050629 -0.034382  ...  0.052541   \n",
       "      3145728   0.091084 -0.016991  0.249761 -0.106867  ...  0.075339   \n",
       "      3670016   0.035425  0.077851  0.004660  0.048265  ... -0.065162   \n",
       "      4194304   0.029110  0.053304 -0.010331 -0.018006  ... -0.081325   \n",
       "...                  ...       ...       ...       ...  ...       ...   \n",
       "chr22 46661632 -0.201580  0.008917 -0.090813  0.060262  ...  0.088377   \n",
       "      47185920  0.651567 -1.758518  0.599770 -1.602385  ...  0.645221   \n",
       "      47710208  0.059956 -0.255640 -0.025180  0.055636  ... -0.189255   \n",
       "      48234496 -0.253090  0.001302  0.286103 -0.183589  ... -0.689486   \n",
       "      48758784 -0.122696  0.068455  0.001398  0.099341  ... -0.133519   \n",
       "\n",
       "                    9992      9993      9994      9995      9996      9997  \\\n",
       "chr1  1048576   0.002307  0.130097  0.036189 -0.018435 -0.031691 -0.076889   \n",
       "      1572864   0.038296 -0.102202 -0.083037 -0.035976  0.078155  0.111732   \n",
       "      3145728  -0.018721  0.008628  0.082081  0.162047 -0.039210  0.077631   \n",
       "      3670016   0.006037 -0.014411 -0.012865  0.052867 -0.063315  0.292173   \n",
       "      4194304  -0.018029  0.030139 -0.075721  0.036876 -0.078910  0.278338   \n",
       "...                  ...       ...       ...       ...       ...       ...   \n",
       "chr22 46661632  0.114101 -0.081435  0.006507 -0.087060  0.103786  0.048061   \n",
       "      47185920  0.577292 -1.673852  0.666792  0.562732  0.690932 -1.628232   \n",
       "      47710208  0.097059 -0.141873 -0.116002 -0.152537 -0.238188 -0.271185   \n",
       "      48234496 -0.294020  0.063748 -0.761194  0.061308 -0.078088 -0.690140   \n",
       "      48758784 -0.076886  0.003412 -0.046222 -0.047095 -0.190384 -0.110858   \n",
       "\n",
       "                    9998      9999     10000  \n",
       "chr1  1048576  -0.224545  0.137279  0.015556  \n",
       "      1572864  -0.103208  0.251100  0.110179  \n",
       "      3145728  -0.004771  0.110459  0.145274  \n",
       "      3670016   0.080877 -0.047368  0.006711  \n",
       "      4194304   0.112758 -0.006900 -0.058179  \n",
       "...                  ...       ...       ...  \n",
       "chr22 46661632  0.049487 -0.101619 -0.147502  \n",
       "      47185920  0.589805 -1.698883  0.652537  \n",
       "      47710208 -0.275149  0.196480  0.247508  \n",
       "      48234496 -0.083411  0.506069  0.125928  \n",
       "      48758784  0.065550 -0.236944  0.060830  \n",
       "\n",
       "[4873 rows x 10000 columns]"
      ]
     },
     "execution_count": 5,
     "metadata": {},
     "output_type": "execute_result"
    }
   ],
   "source": [
    "non_afr"
   ]
  },
  {
   "cell_type": "code",
   "execution_count": 6,
   "id": "b4f4a377",
   "metadata": {},
   "outputs": [],
   "source": [
    "def prep_shuffleDF(s):\n",
    "    s = s.dropna(axis=1, how='all')\n",
    "    save = s.copy()\n",
    "    s.columns = names=range(1,num_shuffles+1)\n",
    "    s.loc[('genome_avg','all'),] = s.mean(axis=0)\n",
    "    s['shuffle_avg'] = s.mean(axis=1)\n",
    "    return s"
   ]
  },
  {
   "cell_type": "code",
   "execution_count": 7,
   "id": "39ecfd85",
   "metadata": {},
   "outputs": [
    {
     "name": "stderr",
     "output_type": "stream",
     "text": [
      "/wynton/home/capra/egilbertson/envs/akita/lib/python3.6/site-packages/IPython/core/interactiveshell.py:2895: PerformanceWarning: indexing past lexsort depth may impact performance.\n",
      "  return runner(coro)\n",
      "/wynton/home/capra/egilbertson/envs/akita/lib/python3.6/site-packages/IPython/core/interactiveshell.py:2895: PerformanceWarning: indexing past lexsort depth may impact performance.\n",
      "  return runner(coro)\n"
     ]
    }
   ],
   "source": [
    "all_pops = prep_shuffleDF(all_pops)\n",
    "non_afr = prep_shuffleDF(non_afr)"
   ]
  },
  {
   "cell_type": "code",
   "execution_count": 8,
   "id": "86f3a6e3",
   "metadata": {},
   "outputs": [],
   "source": [
    "def plot_distDFs(s, t):\n",
    "    dists_1000 = pd.DataFrame()\n",
    "    p = 0\n",
    "    for i in range(0,10000+1,1000):\n",
    "        print(i)\n",
    "        if i >1:\n",
    "            d=s.loc[('genome_avg','all'),][0:i]\n",
    "            dists_1000[str(i)]=d\n",
    "            p +=1\n",
    "    dists_100 = pd.DataFrame()\n",
    "    p = 0\n",
    "    for i in range(0,1000+1,100):\n",
    "        print(i)\n",
    "        if i >1:\n",
    "            d=s.loc[('genome_avg','all'),][0:i]\n",
    "            dists_100[str(i)]=d\n",
    "            p +=1\n",
    "        \n",
    "    plt.figure(figsize=(15,5))\n",
    "    sns.boxplot(x='variable',y='value',data=dists_100.melt())\n",
    "    plt.xlabel('num_shuffles')\n",
    "    plt.ylabel('genome-avg fst')\n",
    "    plt.title(\"%s: first 1K by 100\" % t)\n",
    "    \n",
    "    plt.figure(figsize=(15,5))\n",
    "    sns.boxplot(x='variable',y='value',data=dists_1000.melt())\n",
    "    plt.xlabel('num_shuffles')\n",
    "    plt.ylabel('genome-avg fst')\n",
    "    plt.title(\"%s: first 10K by 1K\" % t)\n",
    "    return"
   ]
  },
  {
   "cell_type": "code",
   "execution_count": 9,
   "id": "b995e477",
   "metadata": {},
   "outputs": [
    {
     "name": "stdout",
     "output_type": "stream",
     "text": [
      "0\n",
      "1000\n",
      "2000\n",
      "3000\n",
      "4000\n",
      "5000\n",
      "6000\n",
      "7000\n",
      "8000\n",
      "9000\n",
      "10000\n",
      "0\n",
      "100\n",
      "200\n",
      "300\n",
      "400\n",
      "500\n",
      "600\n",
      "700\n",
      "800\n",
      "900\n",
      "1000\n",
      "0\n",
      "1000\n",
      "2000\n",
      "3000\n",
      "4000\n",
      "5000\n",
      "6000\n",
      "7000\n",
      "8000\n",
      "9000\n",
      "10000\n",
      "0\n",
      "100\n",
      "200\n",
      "300\n",
      "400\n",
      "500\n",
      "600\n",
      "700\n",
      "800\n",
      "900\n",
      "1000\n"
     ]
    },
    {
     "data": {
      "image/png": "[encoded data removed]",
      "text/plain": [
       "<Figure size 1080x360 with 1 Axes>"
      ]
     },
     "metadata": {},
     "output_type": "display_data"
    },
    {
     "data": {
      "image/png": "[encoded data removed]",
      "text/plain": [
       "<Figure size 1080x360 with 1 Axes>"
      ]
     },
     "metadata": {},
     "output_type": "display_data"
    },
    {
     "data": {
      "image/png": "[encoded data removed]",
      "text/plain": [
       "<Figure size 1080x360 with 1 Axes>"
      ]
     },
     "metadata": {},
     "output_type": "display_data"
    },
    {
     "data": {
      "image/png": "[encoded data removed]",
      "text/plain": [
       "<Figure size 1080x360 with 1 Axes>"
      ]
     },
     "metadata": {},
     "output_type": "display_data"
    }
   ],
   "source": [
    "plot_distDFs(all_pops, \"all_pops\")\n",
    "plot_distDFs(non_afr, \"non_afr\")"
   ]
  },
  {
   "cell_type": "code",
   "execution_count": null,
   "id": "2668f1eb",
   "metadata": {},
   "outputs": [],
   "source": []
  },
  {
   "cell_type": "code",
   "execution_count": null,
   "id": "530d29f2",
   "metadata": {},
   "outputs": [],
   "source": []
  },
  {
   "cell_type": "code",
   "execution_count": null,
   "id": "71c31c7c",
   "metadata": {},
   "outputs": [],
   "source": [
    "#plt.hist(dists_1000['10000'])\n",
    "# fig, axs = plt.subplots(10, figsize=(10,120))\n",
    "\n",
    "# plt.title('Genome Average')\n",
    "# p = 0\n",
    "# for i in range(0,1000+1,100):\n",
    "#     print(i)\n",
    "#     if i >1:\n",
    "#         sd = s.loc[('genome_avg','all'),][0:i].std()\n",
    "#         axs[p].hist(s.loc[('genome_avg','all'),][0:i], bins=50)\n",
    "#         axs[p].set_title('num_suffles = ' + str(i) + '\\n' + 'sd = ' + str(sd))\n",
    "#         p +=1\n",
    "\n",
    "# fig, axs = plt.subplots(10, figsize=(10,120))\n",
    "\n",
    "# p = 0\n",
    "# for i in range(0,1000+1,100):\n",
    "#     print(i)\n",
    "#     if i >1:\n",
    "#         h = s.iloc[: , :i].mean(axis=1).drop(index=['genome_avg'])\n",
    "#         sd = h.std()\n",
    "#         axs[p].hist(h, bins=50)\n",
    "#         axs[p].set_title('num_suffles = ' + str(i) + '\\n' + 'sd = ' + str(sd))\n",
    "#         p +=1\n",
    "\n",
    "# fig, axs = plt.subplots(10, figsize=(10,120))\n",
    "\n",
    "# plt.title('Genome Average')\n",
    "# p = 0\n",
    "# for i in range(0,num_shuffles+1,1000):\n",
    "#     print(i)\n",
    "#     if i > 1:\n",
    "#         sd = s.loc[('genome_avg','all'),][0:i].std()\n",
    "#         axs[p].hist(s.loc[('genome_avg','all'),][0:i], bins=50)\n",
    "#         axs[p].set_title('num_suffles = ' + str(i) + '\\n' + 'sd = ' + str(sd))\n",
    "#         p +=1\n",
    "\n",
    "# h = s.iloc[: , :1].mean(axis=1).drop(index=['genome_avg'])\n",
    "\n",
    "# fig, axs = plt.subplots(10, figsize=(10,120))\n",
    "\n",
    "# p = 0\n",
    "# for i in range(0,num_shuffles+1,1000):\n",
    "#     print(i)\n",
    "#     if i >1:\n",
    "#         h = s.iloc[: , :i].mean(axis=1).drop(index=['genome_avg'])\n",
    "#         sd = h.std()\n",
    "#         axs[p].hist(h, bins=50)\n",
    "#         axs[p].set_title('num_suffles = ' + str(i) + '\\n' + 'sd = ' + str(sd))\n",
    "#         p +=1"
   ]
  },
  {
   "cell_type": "markdown",
   "id": "231c8ef6",
   "metadata": {},
   "source": [
    "# Find outlier regions"
   ]
  },
  {
   "cell_type": "code",
   "execution_count": 10,
   "id": "fc114dce",
   "metadata": {},
   "outputs": [],
   "source": [
    "def format_shuffles(s):\n",
    "    level_to_change = 1\n",
    "    s.index = s.index.set_levels(s.index.levels[level_to_change].astype(str), level=level_to_change)\n",
    "    s['minimum'] = s.min(axis=1)\n",
    "    s['maximum'] = s.max(axis=1)\n",
    "    shuff_range = s[['minimum','maximum']]\n",
    "    \n",
    "    return s, shuff_range"
   ]
  },
  {
   "cell_type": "code",
   "execution_count": 11,
   "id": "9868baf3",
   "metadata": {},
   "outputs": [],
   "source": [
    "all_pops, all_range = format_shuffles(all_pops)\n",
    "non_afr, nonAFR_range = format_shuffles(non_afr)"
   ]
  },
  {
   "cell_type": "code",
   "execution_count": 12,
   "id": "7b490c88",
   "metadata": {},
   "outputs": [],
   "source": [
    "pops = pickle.load( open( \"pops_dict.p\", \"rb\" ) )"
   ]
  },
  {
   "cell_type": "code",
   "execution_count": 13,
   "id": "ab88e4ec",
   "metadata": {},
   "outputs": [],
   "source": [
    "pop_diffs_all = pd.DataFrame()\n",
    "pop_diffs_nonAFR = pd.DataFrame()\n",
    "for pop in pops.keys():\n",
    "    if pop == \"AFR\":\n",
    "        pop_diffs_all[pop] = pops[pop]['new_fst']\n",
    "    else:\n",
    "        pop_diffs_all[pop] = pops[pop]['new_fst']\n",
    "        pop_diffs_nonAFR[pop] = pops[pop]['new_fst_nonAFR']"
   ]
  },
  {
   "cell_type": "code",
   "execution_count": 14,
   "id": "852e501e",
   "metadata": {},
   "outputs": [],
   "source": [
    "pop_diffs_all = pd.concat([all_range, pop_diffs_all], axis=1)\n",
    "pop_diffs_nonAFR = pd.concat([nonAFR_range, pop_diffs_nonAFR], axis=1)"
   ]
  },
  {
   "cell_type": "code",
   "execution_count": 15,
   "id": "172769f9",
   "metadata": {},
   "outputs": [],
   "source": [
    "def check_outside_shuffle(pop_diffs):\n",
    "    for pop in pops.keys():\n",
    "        if pop in pop_diffs.columns:\n",
    "            pop_diffs['%s_out'%pop] = (pop_diffs[pop].between(pop_diffs.minimum, pop_diffs.maximum)==False)\n",
    "    return pop_diffs"
   ]
  },
  {
   "cell_type": "code",
   "execution_count": 16,
   "id": "ba1da9bb",
   "metadata": {},
   "outputs": [],
   "source": [
    "pop_diffs_all = check_outside_shuffle(pop_diffs_all)\n",
    "pop_diffs_nonAFR = check_outside_shuffle(pop_diffs_nonAFR)"
   ]
  },
  {
   "cell_type": "code",
   "execution_count": 17,
   "id": "96838037",
   "metadata": {},
   "outputs": [],
   "source": [
    "pops_out_all=pop_diffs_all[['AFR_out', 'AMR_out','EUR_out','EAS_out','SAS_out']]\n",
    "pops_out_nonAFR=pop_diffs_nonAFR[['AMR_out','EUR_out','EAS_out','SAS_out']]"
   ]
  },
  {
   "cell_type": "code",
   "execution_count": 18,
   "id": "5b113590",
   "metadata": {},
   "outputs": [],
   "source": [
    "pops_out_all = pops_out_all[(pops_out_all ==True).any(axis=1)]\n",
    "pops_out_nonAFR = pops_out_nonAFR[(pops_out_nonAFR ==True).any(axis=1)]"
   ]
  },
  {
   "cell_type": "code",
   "execution_count": 19,
   "id": "9fe02458",
   "metadata": {},
   "outputs": [
    {
     "data": {
      "text/html": [
       "<div>\n",
       "<style scoped>\n",
       "    .dataframe tbody tr th:only-of-type {\n",
       "        vertical-align: middle;\n",
       "    }\n",
       "\n",
       "    .dataframe tbody tr th {\n",
       "        vertical-align: top;\n",
       "    }\n",
       "\n",
       "    .dataframe thead th {\n",
       "        text-align: right;\n",
       "    }\n",
       "</style>\n",
       "<table border=\"1\" class=\"dataframe\">\n",
       "  <thead>\n",
       "    <tr style=\"text-align: right;\">\n",
       "      <th></th>\n",
       "      <th>level_0</th>\n",
       "      <th>level_1</th>\n",
       "      <th>AFR_out</th>\n",
       "      <th>AMR_out</th>\n",
       "      <th>EUR_out</th>\n",
       "      <th>EAS_out</th>\n",
       "      <th>SAS_out</th>\n",
       "    </tr>\n",
       "  </thead>\n",
       "  <tbody>\n",
       "    <tr>\n",
       "      <th>0</th>\n",
       "      <td>chr1</td>\n",
       "      <td>101187584</td>\n",
       "      <td>False</td>\n",
       "      <td>False</td>\n",
       "      <td>False</td>\n",
       "      <td>True</td>\n",
       "      <td>False</td>\n",
       "    </tr>\n",
       "    <tr>\n",
       "      <th>1</th>\n",
       "      <td>chr1</td>\n",
       "      <td>103284736</td>\n",
       "      <td>False</td>\n",
       "      <td>False</td>\n",
       "      <td>False</td>\n",
       "      <td>True</td>\n",
       "      <td>False</td>\n",
       "    </tr>\n",
       "    <tr>\n",
       "      <th>2</th>\n",
       "      <td>chr1</td>\n",
       "      <td>107479040</td>\n",
       "      <td>False</td>\n",
       "      <td>False</td>\n",
       "      <td>False</td>\n",
       "      <td>True</td>\n",
       "      <td>False</td>\n",
       "    </tr>\n",
       "    <tr>\n",
       "      <th>3</th>\n",
       "      <td>chr1</td>\n",
       "      <td>108003328</td>\n",
       "      <td>False</td>\n",
       "      <td>False</td>\n",
       "      <td>False</td>\n",
       "      <td>True</td>\n",
       "      <td>False</td>\n",
       "    </tr>\n",
       "    <tr>\n",
       "      <th>4</th>\n",
       "      <td>chr1</td>\n",
       "      <td>109051904</td>\n",
       "      <td>False</td>\n",
       "      <td>False</td>\n",
       "      <td>False</td>\n",
       "      <td>True</td>\n",
       "      <td>False</td>\n",
       "    </tr>\n",
       "    <tr>\n",
       "      <th>...</th>\n",
       "      <td>...</td>\n",
       "      <td>...</td>\n",
       "      <td>...</td>\n",
       "      <td>...</td>\n",
       "      <td>...</td>\n",
       "      <td>...</td>\n",
       "      <td>...</td>\n",
       "    </tr>\n",
       "    <tr>\n",
       "      <th>1638</th>\n",
       "      <td>chr9</td>\n",
       "      <td>94896128</td>\n",
       "      <td>False</td>\n",
       "      <td>True</td>\n",
       "      <td>False</td>\n",
       "      <td>False</td>\n",
       "      <td>False</td>\n",
       "    </tr>\n",
       "    <tr>\n",
       "      <th>1639</th>\n",
       "      <td>chr9</td>\n",
       "      <td>95420416</td>\n",
       "      <td>False</td>\n",
       "      <td>False</td>\n",
       "      <td>False</td>\n",
       "      <td>True</td>\n",
       "      <td>False</td>\n",
       "    </tr>\n",
       "    <tr>\n",
       "      <th>1640</th>\n",
       "      <td>chr9</td>\n",
       "      <td>98041856</td>\n",
       "      <td>False</td>\n",
       "      <td>False</td>\n",
       "      <td>False</td>\n",
       "      <td>True</td>\n",
       "      <td>True</td>\n",
       "    </tr>\n",
       "    <tr>\n",
       "      <th>1641</th>\n",
       "      <td>chr9</td>\n",
       "      <td>9961472</td>\n",
       "      <td>True</td>\n",
       "      <td>False</td>\n",
       "      <td>False</td>\n",
       "      <td>True</td>\n",
       "      <td>False</td>\n",
       "    </tr>\n",
       "    <tr>\n",
       "      <th>1642</th>\n",
       "      <td>genome_avg</td>\n",
       "      <td>all</td>\n",
       "      <td>True</td>\n",
       "      <td>True</td>\n",
       "      <td>True</td>\n",
       "      <td>True</td>\n",
       "      <td>True</td>\n",
       "    </tr>\n",
       "  </tbody>\n",
       "</table>\n",
       "<p>1643 rows × 7 columns</p>\n",
       "</div>"
      ],
      "text/plain": [
       "         level_0    level_1  AFR_out  AMR_out  EUR_out  EAS_out  SAS_out\n",
       "0           chr1  101187584    False    False    False     True    False\n",
       "1           chr1  103284736    False    False    False     True    False\n",
       "2           chr1  107479040    False    False    False     True    False\n",
       "3           chr1  108003328    False    False    False     True    False\n",
       "4           chr1  109051904    False    False    False     True    False\n",
       "...          ...        ...      ...      ...      ...      ...      ...\n",
       "1638        chr9   94896128    False     True    False    False    False\n",
       "1639        chr9   95420416    False    False    False     True    False\n",
       "1640        chr9   98041856    False    False    False     True     True\n",
       "1641        chr9    9961472     True    False    False     True    False\n",
       "1642  genome_avg        all     True     True     True     True     True\n",
       "\n",
       "[1643 rows x 7 columns]"
      ]
     },
     "execution_count": 19,
     "metadata": {},
     "output_type": "execute_result"
    }
   ],
   "source": [
    "pops_out_all.reset_index()"
   ]
  },
  {
   "cell_type": "code",
   "execution_count": 20,
   "id": "2a398fb8",
   "metadata": {
    "code_folding": []
   },
   "outputs": [],
   "source": [
    "def upset(pops_out, title):\n",
    "    indicators = pops_out.reset_index().drop(columns=['level_0','level_1'])\n",
    "    listy = pops_out.index\n",
    "    listx=[]\n",
    "    for i in listy:\n",
    "        listx.append(str(i))\n",
    "    data = pd.DataFrame({\"value\": listx, **indicators})\n",
    "    ind_dict = {}\n",
    "    for pop in indicators.columns:\n",
    "        ind_dict[pop] = list(indicators[pop].values)\n",
    "    e = from_indicators(ind_dict, data = data)\n",
    "    fig= plt.figure(figsize=(20,10))\n",
    "    plot(e, fig=fig, element_size=None, sort_by='cardinality', show_counts=True)\n",
    "    plt.title(title)\n",
    "    return"
   ]
  },
  {
   "cell_type": "code",
   "execution_count": 21,
   "id": "d4ac0035",
   "metadata": {
    "scrolled": true
   },
   "outputs": [
    {
     "data": {
      "image/png": "[encoded data removed]",
      "text/plain": [
       "<Figure size 1440x720 with 4 Axes>"
      ]
     },
     "metadata": {},
     "output_type": "display_data"
    },
    {
     "data": {
      "image/png": "[encoded data removed]",
      "text/plain": [
       "<Figure size 1440x720 with 4 Axes>"
      ]
     },
     "metadata": {},
     "output_type": "display_data"
    }
   ],
   "source": [
    "upset(pops_out_all, \"all_pops\")\n",
    "upset(pops_out_nonAFR, \"nonAFR\")"
   ]
  },
  {
   "cell_type": "code",
   "execution_count": 58,
   "id": "22dcc51a",
   "metadata": {},
   "outputs": [
    {
     "name": "stderr",
     "output_type": "stream",
     "text": [
      "/wynton/home/capra/egilbertson/envs/akita/lib/python3.6/site-packages/ipykernel_launcher.py:1: UserWarning: Boolean Series key will be reindexed to match DataFrame index.\n",
      "  \"\"\"Entry point for launching an IPython kernel.\n",
      "/wynton/home/capra/egilbertson/envs/akita/lib/python3.6/site-packages/ipykernel_launcher.py:1: UserWarning: Boolean Series key will be reindexed to match DataFrame index.\n",
      "  \"\"\"Entry point for launching an IPython kernel.\n",
      "/wynton/home/capra/egilbertson/envs/akita/lib/python3.6/site-packages/ipykernel_launcher.py:1: UserWarning: Boolean Series key will be reindexed to match DataFrame index.\n",
      "  \"\"\"Entry point for launching an IPython kernel.\n"
     ]
    }
   ],
   "source": [
    "eas_only = pops_out_nonAFR[pops_out_nonAFR[\"EAS_out\"]][pops_out_nonAFR[\"AMR_out\"]==False][pops_out_nonAFR[\"EUR_out\"]==False][pops_out_nonAFR[\"SAS_out\"]==False]"
   ]
  },
  {
   "cell_type": "code",
   "execution_count": 62,
   "id": "7009a1ae",
   "metadata": {},
   "outputs": [
    {
     "data": {
      "text/plain": [
       "<AxesSubplot:>"
      ]
     },
     "execution_count": 62,
     "metadata": {},
     "output_type": "execute_result"
    },
    {
     "data": {
      "image/png": "[encoded data removed]",
      "text/plain": [
       "<Figure size 432x288 with 1 Axes>"
      ]
     },
     "metadata": {},
     "output_type": "display_data"
    }
   ],
   "source": [
    "pd.Series(eas_only.index.get_level_values(1).astype('int')).hist()"
   ]
  },
  {
   "cell_type": "markdown",
   "id": "7eb1642d",
   "metadata": {
    "heading_collapsed": true
   },
   "source": [
    "# gene list"
   ]
  },
  {
   "cell_type": "code",
   "execution_count": null,
   "id": "a21666a1",
   "metadata": {
    "hidden": true
   },
   "outputs": [],
   "source": [
    "pop_diffs"
   ]
  },
  {
   "cell_type": "code",
   "execution_count": null,
   "id": "5cb561b4",
   "metadata": {
    "hidden": true
   },
   "outputs": [],
   "source": [
    "all_windows = pd.DataFrame(index=pop_diffs.index).reset_index()\n",
    "all_windows.columns = ['chr','start']"
   ]
  },
  {
   "cell_type": "code",
   "execution_count": null,
   "id": "4222a4c3",
   "metadata": {
    "hidden": true
   },
   "outputs": [],
   "source": [
    "all_windows['end'] = all_windows['start'] + 2**20"
   ]
  },
  {
   "cell_type": "code",
   "execution_count": null,
   "id": "f36bae1c",
   "metadata": {
    "hidden": true
   },
   "outputs": [],
   "source": [
    "all_windows"
   ]
  },
  {
   "cell_type": "code",
   "execution_count": null,
   "id": "0112cb7e",
   "metadata": {
    "hidden": true
   },
   "outputs": [],
   "source": []
  },
  {
   "cell_type": "code",
   "execution_count": null,
   "id": "96f12f06",
   "metadata": {
    "hidden": true
   },
   "outputs": [],
   "source": [
    "all_bed = pybedtools.BedTool.from_dataframe(all_windows)"
   ]
  },
  {
   "cell_type": "code",
   "execution_count": null,
   "id": "aaaf3ba2",
   "metadata": {
    "hidden": true
   },
   "outputs": [],
   "source": [
    "all_bed.saveas('/wynton/group/capra/projects/modern_human_3Dgenome/data/phenotype_enrichment/data/all_windows.bed')"
   ]
  },
  {
   "cell_type": "code",
   "execution_count": null,
   "id": "841f3eb6",
   "metadata": {
    "hidden": true
   },
   "outputs": [],
   "source": [
    "gene_df = genes.to_dataframe(disable_auto_names=True, header=None)"
   ]
  },
  {
   "cell_type": "code",
   "execution_count": null,
   "id": "172e1218",
   "metadata": {
    "hidden": true
   },
   "outputs": [],
   "source": [
    "shuffled = all_windows.sample(n=windows.shape[0], random_state=1)\n",
    "shuffled_bed = pybedtools.BedTool.from_dataframe(shuffled)"
   ]
  },
  {
   "cell_type": "code",
   "execution_count": null,
   "id": "deca8da3",
   "metadata": {
    "hidden": true
   },
   "outputs": [],
   "source": [
    "genes = pybedtools.BedTool('/wynton/group/capra/projects/modern_human_3Dgenome/data/phenotype_enrichment/data/grch38_gene_annotations.bed')"
   ]
  },
  {
   "cell_type": "code",
   "execution_count": null,
   "id": "7e5abe56",
   "metadata": {
    "hidden": true
   },
   "outputs": [],
   "source": []
  },
  {
   "cell_type": "code",
   "execution_count": null,
   "id": "0e580c4c",
   "metadata": {
    "hidden": true
   },
   "outputs": [],
   "source": []
  },
  {
   "cell_type": "code",
   "execution_count": null,
   "id": "0c64a490",
   "metadata": {
    "hidden": true
   },
   "outputs": [],
   "source": [
    "intersect = all_bed.intersect(shuffled_bed, wo = True).intersect(genes, loj = True).to_dataframe(disable_auto_names=True, header=None)"
   ]
  },
  {
   "cell_type": "code",
   "execution_count": null,
   "id": "625287b9",
   "metadata": {
    "hidden": true
   },
   "outputs": [],
   "source": [
    "intersect"
   ]
  },
  {
   "cell_type": "code",
   "execution_count": null,
   "id": "1af42bff",
   "metadata": {
    "hidden": true
   },
   "outputs": [],
   "source": []
  },
  {
   "cell_type": "code",
   "execution_count": null,
   "id": "ce7ddb4d",
   "metadata": {
    "hidden": true
   },
   "outputs": [],
   "source": []
  },
  {
   "cell_type": "code",
   "execution_count": null,
   "id": "07cde64d",
   "metadata": {
    "hidden": true
   },
   "outputs": [],
   "source": []
  },
  {
   "cell_type": "code",
   "execution_count": null,
   "id": "e2928388",
   "metadata": {
    "hidden": true
   },
   "outputs": [],
   "source": []
  },
  {
   "cell_type": "code",
   "execution_count": null,
   "id": "176f00b8",
   "metadata": {
    "hidden": true
   },
   "outputs": [],
   "source": [
    "\n",
    "windows = pd.DataFrame(index=pops_out.index).reset_index()\n",
    "windows.columns = ['chr','start']"
   ]
  },
  {
   "cell_type": "code",
   "execution_count": null,
   "id": "19e10c62",
   "metadata": {
    "hidden": true
   },
   "outputs": [],
   "source": [
    "windows"
   ]
  },
  {
   "cell_type": "code",
   "execution_count": null,
   "id": "e41e3948",
   "metadata": {
    "hidden": true
   },
   "outputs": [],
   "source": [
    "windows['end'] = windows['start'] + 2**20"
   ]
  },
  {
   "cell_type": "code",
   "execution_count": null,
   "id": "a98067e4",
   "metadata": {
    "hidden": true
   },
   "outputs": [],
   "source": [
    "windows['chr'] = windows['chr'].str.strip('chr')"
   ]
  },
  {
   "cell_type": "code",
   "execution_count": null,
   "id": "a410da80",
   "metadata": {
    "hidden": true
   },
   "outputs": [],
   "source": [
    "windows"
   ]
  },
  {
   "cell_type": "code",
   "execution_count": null,
   "id": "a5e3cdaa",
   "metadata": {
    "hidden": true
   },
   "outputs": [],
   "source": [
    "genes = pybedtools.BedTool('/wynton/group/capra/projects/archaic_splicing/data/annotations/grch38_gene_annotations.bed')"
   ]
  },
  {
   "cell_type": "code",
   "execution_count": null,
   "id": "eaddaaee",
   "metadata": {
    "hidden": true
   },
   "outputs": [],
   "source": [
    "window_bed = pybedtools.BedTool.from_dataframe(windows)"
   ]
  },
  {
   "cell_type": "code",
   "execution_count": null,
   "id": "5548649a",
   "metadata": {
    "hidden": true
   },
   "outputs": [],
   "source": [
    "window_bed.saveas('/wynton/group/capra/projects/modern_human_3Dgenome/data/phenotype_enrichment/data/diff_windows.bed')"
   ]
  },
  {
   "cell_type": "code",
   "execution_count": null,
   "id": "84cc57dc",
   "metadata": {
    "hidden": true
   },
   "outputs": [],
   "source": [
    "gene_overlap = window_bed.intersect(genes, wao=True).to_dataframe(names=['window_chrm','start','end','gene_chr','gene_start','gene_end','gene_name','overlap'])"
   ]
  },
  {
   "cell_type": "code",
   "execution_count": null,
   "id": "c18b5185",
   "metadata": {
    "hidden": true
   },
   "outputs": [],
   "source": [
    "gene_overlap.gene_name.unique().shape"
   ]
  },
  {
   "cell_type": "code",
   "execution_count": null,
   "id": "492bb407",
   "metadata": {
    "hidden": true
   },
   "outputs": [],
   "source": [
    "gene_overlap"
   ]
  },
  {
   "cell_type": "code",
   "execution_count": null,
   "id": "6190f043",
   "metadata": {
    "hidden": true
   },
   "outputs": [],
   "source": [
    "gene_map = gene_overlap.drop(columns=['gene_chr','gene_start','gene_end','overlap'])"
   ]
  },
  {
   "cell_type": "code",
   "execution_count": null,
   "id": "7d1a8b52",
   "metadata": {
    "hidden": true
   },
   "outputs": [],
   "source": [
    "gene_map['chr'] = 'chr' + gene_map['window_chrm'].astype('str')"
   ]
  },
  {
   "cell_type": "code",
   "execution_count": null,
   "id": "2a8755b6",
   "metadata": {
    "hidden": true
   },
   "outputs": [],
   "source": [
    "gene_map = gene_map.drop(columns=['window_chrm'])"
   ]
  },
  {
   "cell_type": "code",
   "execution_count": null,
   "id": "d4a91a66",
   "metadata": {
    "hidden": true
   },
   "outputs": [],
   "source": [
    "a = gene_map['gene_name'].unique()"
   ]
  },
  {
   "cell_type": "code",
   "execution_count": null,
   "id": "3c1cacad",
   "metadata": {
    "hidden": true
   },
   "outputs": [],
   "source": [
    "pd.DataFrame(a).to_csv('/wynton/group/capra/projects/modern_human_3Dgenome/data/phenotype_enrichment/data/diff_window_genes_observed.txt', header=None, index=False)"
   ]
  },
  {
   "cell_type": "code",
   "execution_count": null,
   "id": "f12ec726",
   "metadata": {
    "hidden": true
   },
   "outputs": [],
   "source": [
    "np.savetxt('diff_window_genes_observed.txt', a, delimiter='\\n')"
   ]
  },
  {
   "cell_type": "code",
   "execution_count": null,
   "id": "d386fd7b",
   "metadata": {
    "hidden": true
   },
   "outputs": [],
   "source": [
    "gene_map.set_index(['chr','start'])"
   ]
  },
  {
   "cell_type": "code",
   "execution_count": null,
   "id": "cc472a27",
   "metadata": {
    "hidden": true
   },
   "outputs": [],
   "source": [
    "pops_out[pops_out.AFR_out].index"
   ]
  },
  {
   "cell_type": "code",
   "execution_count": null,
   "id": "1d83b0a1",
   "metadata": {
    "hidden": true
   },
   "outputs": [],
   "source": [
    "popsgene_map"
   ]
  },
  {
   "cell_type": "code",
   "execution_count": null,
   "id": "da351a7d",
   "metadata": {
    "hidden": true
   },
   "outputs": [],
   "source": [
    "def get_gene():\n",
    "    gene_list=[]\n",
    "    \n"
   ]
  }
 ],
 "metadata": {
  "kernelspec": {
   "display_name": "Python 3",
   "language": "python",
   "name": "python3"
  },
  "language_info": {
   "codemirror_mode": {
    "name": "ipython",
    "version": 3
   },
   "file_extension": ".py",
   "mimetype": "text/x-python",
   "name": "python",
   "nbconvert_exporter": "python",
   "pygments_lexer": "ipython3",
   "version": "3.6.8"
  }
 },
 "nbformat": 4,
 "nbformat_minor": 5
}
