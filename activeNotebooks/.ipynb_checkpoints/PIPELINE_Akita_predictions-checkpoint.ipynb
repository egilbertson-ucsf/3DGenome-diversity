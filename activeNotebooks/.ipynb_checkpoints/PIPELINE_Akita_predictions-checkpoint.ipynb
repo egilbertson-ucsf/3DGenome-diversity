{
 "cells": [
  {
   "cell_type": "code",
   "execution_count": 1,
   "id": "48fa3ec9",
   "metadata": {},
   "outputs": [],
   "source": [
    "import configparser\n",
    "import os\n",
    "import sys\n",
    "import subprocess\n",
    "import numpy as np"
   ]
  },
  {
   "cell_type": "markdown",
   "id": "db5a932f",
   "metadata": {},
   "source": [
    "#### Set up"
   ]
  },
  {
   "cell_type": "code",
   "execution_count": 2,
   "id": "557dfe17",
   "metadata": {},
   "outputs": [],
   "source": [
    "BASE_PATH = os.getcwd()"
   ]
  },
  {
   "cell_type": "markdown",
   "id": "f7953823",
   "metadata": {
    "heading_collapsed": true
   },
   "source": [
    "### Launch jobs to make FASTA genomes from VCF"
   ]
  },
  {
   "cell_type": "markdown",
   "id": "66556dd2",
   "metadata": {
    "hidden": true
   },
   "source": [
    "The FASTA genomes generated will be \"flattened\" with any copy of a non-reference allele in the VCF being inserted into the reference genome FASTA. \n",
    "(Some things might need to be updated for non 1KG naming schemes in the future)"
   ]
  },
  {
   "cell_type": "code",
   "execution_count": 7,
   "id": "a177dc3e",
   "metadata": {
    "hidden": true
   },
   "outputs": [
    {
     "name": "stdout",
     "output_type": "stream",
     "text": [
      "Your job-array 1629782.334-334:1 (\"launch.make.genome.1KG.sh\") has been submitted\n",
      "Your job-array 1629783.1507-1507:1 (\"launch.make.genome.1KG.sh\") has been submitted\n",
      "Your job-array 1629784.1704-1704:1 (\"launch.make.genome.1KG.sh\") has been submitted\n",
      "Your job-array 1629785.1889-1889:1 (\"launch.make.genome.1KG.sh\") has been submitted\n",
      "Your job-array 1629786.2232-2232:1 (\"launch.make.genome.1KG.sh\") has been submitted\n",
      "Your job-array 1629787.2461-2461:1 (\"launch.make.genome.1KG.sh\") has been submitted\n"
     ]
    }
   ],
   "source": [
    "configfile_name = os.path.join(BASE_PATH, \"config_makeFASTA_1KG_SNVs.ini\") \n",
    "\n",
    "config = configparser.ConfigParser()\n",
    "config.read(configfile_name)\n",
    "\n",
    "FASTA_LAUNCHER=config[\"BIN\"][\"LAUNCH_MAKE_FASTA\"]\n",
    "\n",
    "#!qsub -t 65 $FASTA_LAUNCHER\n",
    "!qsub -t 334 $FASTA_LAUNCHER\n",
    "!qsub -t 1507 $FASTA_LAUNCHER\n",
    "!qsub -t 1704 $FASTA_LAUNCHER\n",
    "!qsub -t 1889 $FASTA_LAUNCHER\n",
    "!qsub -t 2232 $FASTA_LAUNCHER\n",
    "!qsub -t 2461 $FASTA_LAUNCHER"
   ]
  },
  {
   "cell_type": "code",
   "execution_count": null,
   "id": "b521caa5",
   "metadata": {
    "hidden": true
   },
   "outputs": [],
   "source": [
    "failed = [65,334,1507,1704,1889,2232,2461]"
   ]
  },
  {
   "cell_type": "markdown",
   "id": "265cd8d0",
   "metadata": {},
   "source": [
    "### Launch jobs to make Akita preds"
   ]
  },
  {
   "cell_type": "code",
   "execution_count": 3,
   "id": "a10b1435",
   "metadata": {},
   "outputs": [
    {
     "name": "stdout",
     "output_type": "stream",
     "text": [
      "Your job-array 40530.1-1:1 (\"runAkitaIndiv\") has been submitted\r\n"
     ]
    }
   ],
   "source": [
    "configfile_name = os.path.join(BASE_PATH, \"config_runAkita_ensembl-ancestral.ini\") \n",
    "\n",
    "config = configparser.ConfigParser()\n",
    "config.read(configfile_name)\n",
    "\n",
    "AKITA_LAUNCHER=config[\"BIN\"][\"LAUNCH_RUN_AKITA\"]\n",
    "\n",
    "!qsub -t 1 -v CONFIGPATH=$configfile_name $AKITA_LAUNCHER "
   ]
  },
  {
   "cell_type": "code",
   "execution_count": 7,
   "id": "bf76989b",
   "metadata": {},
   "outputs": [
    {
     "name": "stdout",
     "output_type": "stream",
     "text": [
      "Your job-array 13377.1-1:1 (\"runAkitaIndiv\") has been submitted\r\n"
     ]
    }
   ],
   "source": [
    "configfile_name = os.path.join(BASE_PATH, \"config_runAkita_gagp.ini\") \n",
    "\n",
    "config = configparser.ConfigParser()\n",
    "config.read(configfile_name)\n",
    "\n",
    "AKITA_LAUNCHER=config[\"BIN\"][\"LAUNCH_RUN_AKITA\"]\n",
    "\n",
    "!qsub -t 1 $AKITA_LAUNCHER"
   ]
  },
  {
   "cell_type": "code",
   "execution_count": 16,
   "id": "5fdb1743",
   "metadata": {},
   "outputs": [],
   "source": [
    "redo=np.loadtxt('/wynton/group/capra/projects/modern_human_3Dgenome/stdout/runAkitaIndiv/fix2')"
   ]
  },
  {
   "cell_type": "code",
   "execution_count": 17,
   "id": "2ad1c3a8",
   "metadata": {},
   "outputs": [],
   "source": [
    "redo = list(redo.astype('int'))"
   ]
  },
  {
   "cell_type": "code",
   "execution_count": 20,
   "id": "55b49304",
   "metadata": {},
   "outputs": [],
   "source": [
    "configfile_name = os.path.join(BASE_PATH, \"config_runAkita_1kg.ini\") \n",
    "\n",
    "config = configparser.ConfigParser()\n",
    "config.read(configfile_name)\n",
    "\n",
    "AKITA_LAUNCHER=config[\"BIN\"][\"LAUNCH_RUN_AKITA\"]"
   ]
  },
  {
   "cell_type": "code",
   "execution_count": 22,
   "id": "44f9f56c",
   "metadata": {},
   "outputs": [
    {
     "name": "stdout",
     "output_type": "stream",
     "text": [
      "Your job-array 84798.2422-2422:1 (\"runAkitaIndiv\") has been submitted\r\n"
     ]
    }
   ],
   "source": [
    "!qsub -t 2422 -v CONFIGPATH=$configfile_name $AKITA_LAUNCHER "
   ]
  },
  {
   "cell_type": "code",
   "execution_count": 21,
   "id": "224cbe77",
   "metadata": {},
   "outputs": [
    {
     "name": "stdout",
     "output_type": "stream",
     "text": [
      "Your job-array 83566.147-147:1 (\"runAkitaIndiv\") has been submitted\n",
      "Your job-array 83567.194-194:1 (\"runAkitaIndiv\") has been submitted\n",
      "Your job-array 83568.55-55:1 (\"runAkitaIndiv\") has been submitted\n",
      "Your job-array 83569.73-73:1 (\"runAkitaIndiv\") has been submitted\n",
      "Your job-array 83570.75-75:1 (\"runAkitaIndiv\") has been submitted\n",
      "Your job-array 83571.85-85:1 (\"runAkitaIndiv\") has been submitted\n",
      "Your job-array 83572.538-538:1 (\"runAkitaIndiv\") has been submitted\n",
      "Your job-array 83573.1072-1072:1 (\"runAkitaIndiv\") has been submitted\n",
      "Your job-array 83574.1082-1082:1 (\"runAkitaIndiv\") has been submitted\n",
      "Your job-array 83575.1083-1083:1 (\"runAkitaIndiv\") has been submitted\n",
      "Your job-array 83576.1088-1088:1 (\"runAkitaIndiv\") has been submitted\n",
      "Your job-array 83577.1094-1094:1 (\"runAkitaIndiv\") has been submitted\n",
      "Your job-array 83578.1122-1122:1 (\"runAkitaIndiv\") has been submitted\n",
      "Your job-array 83579.1124-1124:1 (\"runAkitaIndiv\") has been submitted\n",
      "Your job-array 83580.1773-1773:1 (\"runAkitaIndiv\") has been submitted\n",
      "Your job-array 83581.1829-1829:1 (\"runAkitaIndiv\") has been submitted\n",
      "Your job-array 83582.1830-1830:1 (\"runAkitaIndiv\") has been submitted\n",
      "Your job-array 83583.1845-1845:1 (\"runAkitaIndiv\") has been submitted\n",
      "Your job-array 83584.1848-1848:1 (\"runAkitaIndiv\") has been submitted\n",
      "Your job-array 83585.1936-1936:1 (\"runAkitaIndiv\") has been submitted\n",
      "Your job-array 83586.1975-1975:1 (\"runAkitaIndiv\") has been submitted\n",
      "Your job-array 83587.2139-2139:1 (\"runAkitaIndiv\") has been submitted\n",
      "Your job-array 83588.2249-2249:1 (\"runAkitaIndiv\") has been submitted\n",
      "Your job-array 83589.2250-2250:1 (\"runAkitaIndiv\") has been submitted\n",
      "Your job-array 83590.2299-2299:1 (\"runAkitaIndiv\") has been submitted\n",
      "Your job-array 83591.2305-2305:1 (\"runAkitaIndiv\") has been submitted\n",
      "Your job-array 83592.2317-2317:1 (\"runAkitaIndiv\") has been submitted\n",
      "Your job-array 83593.2411-2411:1 (\"runAkitaIndiv\") has been submitted\n",
      "Your job-array 83594.2422-2422:1 (\"runAkitaIndiv\") has been submitted\n",
      "Your job-array 83595.2428-2428:1 (\"runAkitaIndiv\") has been submitted\n",
      "Your job-array 83596.2476-2476:1 (\"runAkitaIndiv\") has been submitted\n"
     ]
    }
   ],
   "source": [
    "for i in redo:\n",
    "    !qsub -t $i -v CONFIGPATH=$configfile_name $AKITA_LAUNCHER "
   ]
  },
  {
   "cell_type": "code",
   "execution_count": 18,
   "id": "8650fcef",
   "metadata": {},
   "outputs": [
    {
     "data": {
      "text/plain": [
       "31"
      ]
     },
     "execution_count": 18,
     "metadata": {},
     "output_type": "execute_result"
    }
   ],
   "source": [
    "len(redo)"
   ]
  },
  {
   "cell_type": "code",
   "execution_count": 19,
   "id": "6e8061d2",
   "metadata": {},
   "outputs": [
    {
     "data": {
      "text/plain": [
       "[147,\n",
       " 194,\n",
       " 55,\n",
       " 73,\n",
       " 75,\n",
       " 85,\n",
       " 538,\n",
       " 1072,\n",
       " 1082,\n",
       " 1083,\n",
       " 1088,\n",
       " 1094,\n",
       " 1122,\n",
       " 1124,\n",
       " 1773,\n",
       " 1829,\n",
       " 1830,\n",
       " 1845,\n",
       " 1848,\n",
       " 1936,\n",
       " 1975,\n",
       " 2139,\n",
       " 2249,\n",
       " 2250,\n",
       " 2299,\n",
       " 2305,\n",
       " 2317,\n",
       " 2411,\n",
       " 2422,\n",
       " 2428,\n",
       " 2476]"
      ]
     },
     "execution_count": 19,
     "metadata": {},
     "output_type": "execute_result"
    }
   ],
   "source": [
    "redo"
   ]
  },
  {
   "cell_type": "code",
   "execution_count": null,
   "id": "ff9226ef",
   "metadata": {},
   "outputs": [],
   "source": []
  }
 ],
 "metadata": {
  "kernelspec": {
   "display_name": "Python 3",
   "language": "python",
   "name": "python3"
  },
  "language_info": {
   "codemirror_mode": {
    "name": "ipython",
    "version": 3
   },
   "file_extension": ".py",
   "mimetype": "text/x-python",
   "name": "python",
   "nbconvert_exporter": "python",
   "pygments_lexer": "ipython3",
   "version": "3.6.8"
  }
 },
 "nbformat": 4,
 "nbformat_minor": 5
}
