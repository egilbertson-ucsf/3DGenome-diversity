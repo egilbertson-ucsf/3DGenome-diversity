{
 "cells": [
  {
   "cell_type": "code",
   "execution_count": 1,
   "id": "04917a46",
   "metadata": {},
   "outputs": [],
   "source": [
    "import tskit\n",
    "import json"
   ]
  },
  {
   "cell_type": "code",
   "execution_count": 3,
   "id": "f2e93a3c",
   "metadata": {},
   "outputs": [],
   "source": [
    "DATA_PATH = '/wynton/group/capra/projects/modern_human_3Dgenome/data/tree_sequences'\n"
   ]
  },
  {
   "cell_type": "code",
   "execution_count": 5,
   "id": "f2d70028",
   "metadata": {},
   "outputs": [
    {
     "name": "stdout",
     "output_type": "stream",
     "text": [
      "The short arm of chromosome 1 contains 221785 trees\n"
     ]
    }
   ],
   "source": [
    "ts = tskit.load(\"%s/hgdp_tgp_sgdp_high_cov_ancients_chr1_p.dated.trees\" % DATA_PATH)\n",
    "# ts is an instance of tskit.TreeSequence \n",
    "print(\"The short arm of chromosome 1 contains {} trees\".format(ts.num_trees))"
   ]
  },
  {
   "cell_type": "code",
   "execution_count": 12,
   "id": "c33e9406",
   "metadata": {},
   "outputs": [
    {
     "data": {
      "text/html": [
       "\n",
       "            <div>\n",
       "              <style>\n",
       "                .tskit-table thead tr th {text-align: left;}\n",
       "                .tskit-table tbody tr td:first-of-type {text-align: left;}\n",
       "                .tskit-details-label {vertical-align: top; padding-right:5px;}\n",
       "                .tskit-table-set {display: inline-flex;flex-wrap: wrap;margin: -12px 0 0 -12px;width: calc(100% + 12px);}\n",
       "                .tskit-table-set-table {margin: 12px 0 0 12px;}\n",
       "                details {display: inline-block;}\n",
       "                summary {cursor: pointer; outline: 0; display: list-item;}\n",
       "              </style>\n",
       "              <div class=\"tskit-table-set\">\n",
       "                <div class=\"tskit-table-set-table\">\n",
       "                  <table class=\"tskit-table\">\n",
       "                    <thead>\n",
       "                      <tr>\n",
       "                        <th style=\"padding:0;line-height:21px;\">\n",
       "                          <img style=\"height: 32px;display: inline-block;padding: 3px 5px 3px 0;\"src=\"https://raw.githubusercontent.com/tskit-dev/administrative/main/tskit_logo.svg\"/>\n",
       "                          <a target=\"_blank\" href=\"https://tskit.readthedocs.io/en/latest/python-api.html#the-treesequence-class\"> Tree Sequence\n",
       "                        </th>\n",
       "                      </tr>\n",
       "                    </thead>\n",
       "                    <tbody>\n",
       "                      <tr><td>Trees</td><td>221785</td></tr>\n",
       "                      <tr><td>Sequence Length</td><td>123400000.0</td></tr>\n",
       "                      <tr><td>Sample Nodes</td><td>7524</td></tr>\n",
       "                      <tr><td>Total Size</td><td>968.1 MiB</td></tr>\n",
       "                      <tr>\n",
       "                        <td>Metadata</td><td style=\"text-align: left;\">No Metadata</td></tr>\n",
       "                    </tbody>\n",
       "                  </table>\n",
       "                </div>\n",
       "                <div class=\"tskit-table-set-table\">\n",
       "                  <table class=\"tskit-table\">\n",
       "                    <thead>\n",
       "                      <tr>\n",
       "                        <th style=\"line-height:21px;\">Table</th>\n",
       "                        <th>Rows</th>\n",
       "                        <th>Size</th>\n",
       "                        <th>Has Metadata</th>\n",
       "                      </tr>\n",
       "                    </thead>\n",
       "                    <tbody>\n",
       "                    \n",
       "                  <tr>\n",
       "                    <td>Edges</td>\n",
       "                      <td>9858280</td>\n",
       "                      <td>263.2 MiB</td>\n",
       "                      <td style=\"text-align: center;\">\n",
       "                        \n",
       "                      </td>\n",
       "                    </tr>\n",
       "                \n",
       "                  <tr>\n",
       "                    <td>Individuals</td>\n",
       "                      <td>3762</td>\n",
       "                      <td>1023.6 KiB</td>\n",
       "                      <td style=\"text-align: center;\">\n",
       "                        ✅\n",
       "                      </td>\n",
       "                    </tr>\n",
       "                \n",
       "                  <tr>\n",
       "                    <td>Migrations</td>\n",
       "                      <td>0</td>\n",
       "                      <td>4 Bytes</td>\n",
       "                      <td style=\"text-align: center;\">\n",
       "                        \n",
       "                      </td>\n",
       "                    </tr>\n",
       "                \n",
       "                  <tr>\n",
       "                    <td>Mutations</td>\n",
       "                      <td>10571067</td>\n",
       "                      <td>292.4 MiB</td>\n",
       "                      <td style=\"text-align: center;\">\n",
       "                        \n",
       "                      </td>\n",
       "                    </tr>\n",
       "                \n",
       "                  <tr>\n",
       "                    <td>Nodes</td>\n",
       "                      <td>1162997</td>\n",
       "                      <td>55.1 MiB</td>\n",
       "                      <td style=\"text-align: center;\">\n",
       "                        ✅\n",
       "                      </td>\n",
       "                    </tr>\n",
       "                \n",
       "                  <tr>\n",
       "                    <td>Populations</td>\n",
       "                      <td>215</td>\n",
       "                      <td>11.0 KiB</td>\n",
       "                      <td style=\"text-align: center;\">\n",
       "                        ✅\n",
       "                      </td>\n",
       "                    </tr>\n",
       "                \n",
       "                  <tr>\n",
       "                    <td>Provenances</td>\n",
       "                      <td>18</td>\n",
       "                      <td>12.5 KiB</td>\n",
       "                      <td style=\"text-align: center;\">\n",
       "                        \n",
       "                      </td>\n",
       "                    </tr>\n",
       "                \n",
       "                  <tr>\n",
       "                    <td>Sites</td>\n",
       "                      <td>3995383</td>\n",
       "                      <td>281.1 MiB</td>\n",
       "                      <td style=\"text-align: center;\">\n",
       "                        ✅\n",
       "                      </td>\n",
       "                    </tr>\n",
       "                \n",
       "                    </tbody>\n",
       "                  </table>\n",
       "                </div>\n",
       "              </div>\n",
       "            </div>\n",
       "            "
      ],
      "text/plain": [
       "<tskit.trees.TreeSequence at 0x7fdf1406b630>"
      ]
     },
     "execution_count": 12,
     "metadata": {},
     "output_type": "execute_result"
    }
   ],
   "source": [
    "ts"
   ]
  },
  {
   "cell_type": "code",
   "execution_count": 6,
   "id": "b855417d",
   "metadata": {},
   "outputs": [
    {
     "name": "stdout",
     "output_type": "stream",
     "text": [
      "The position of site 1000 is 956632.0 and its ID is rs58879223.\n"
     ]
    }
   ],
   "source": [
    "site = ts.site(1000)\n",
    "site_metadata = json.loads(site.metadata)\n",
    "print(\"The position of site 1000 is {} and its ID is {}.\".format(site.position, site_metadata[\"ID\"]))"
   ]
  },
  {
   "cell_type": "code",
   "execution_count": 16,
   "id": "0d8c6c64",
   "metadata": {},
   "outputs": [
    {
     "data": {
      "text/plain": [
       "{'id': 1000, 'position': 956632.0, 'ancestral_state': 'C', 'mutations': [{'id': 6371, 'site': 1000, 'node': 692492, 'time': nan, 'derived_state': 'T', 'parent': -1, 'metadata': b''}, {'id': 6372, 'site': 1000, 'node': 60240, 'time': nan, 'derived_state': 'T', 'parent': -1, 'metadata': b''}, {'id': 6373, 'site': 1000, 'node': 130, 'time': nan, 'derived_state': 'T', 'parent': -1, 'metadata': b''}, {'id': 6374, 'site': 1000, 'node': 2759, 'time': nan, 'derived_state': 'T', 'parent': -1, 'metadata': b''}, {'id': 6375, 'site': 1000, 'node': 3511, 'time': nan, 'derived_state': 'T', 'parent': -1, 'metadata': b''}, {'id': 6376, 'site': 1000, 'node': 4075, 'time': nan, 'derived_state': 'T', 'parent': -1, 'metadata': b''}, {'id': 6377, 'site': 1000, 'node': 4327, 'time': nan, 'derived_state': 'T', 'parent': -1, 'metadata': b''}, {'id': 6378, 'site': 1000, 'node': 4510, 'time': nan, 'derived_state': 'T', 'parent': -1, 'metadata': b''}], 'metadata': b'{\"inference_type\": \"full\", \"ID\": \"rs58879223\", \"REF\": \"C\"}'}"
      ]
     },
     "execution_count": 16,
     "metadata": {},
     "output_type": "execute_result"
    }
   ],
   "source": [
    "site"
   ]
  },
  {
   "cell_type": "code",
   "execution_count": 17,
   "id": "5d3b1c61",
   "metadata": {},
   "outputs": [
    {
     "data": {
      "text/plain": [
       "'C'"
      ]
     },
     "execution_count": 17,
     "metadata": {},
     "output_type": "execute_result"
    }
   ],
   "source": [
    "site.ancestral_state"
   ]
  },
  {
   "cell_type": "code",
   "execution_count": 14,
   "id": "175b5f33",
   "metadata": {},
   "outputs": [
    {
     "data": {
      "text/plain": [
       "{'inference_type': 'full', 'ID': 'rs58879223', 'REF': 'C'}"
      ]
     },
     "execution_count": 14,
     "metadata": {},
     "output_type": "execute_result"
    }
   ],
   "source": [
    "site_metadata"
   ]
  },
  {
   "cell_type": "code",
   "execution_count": 7,
   "id": "33901441",
   "metadata": {},
   "outputs": [],
   "source": [
    "ind = ts.individual(0)\n",
    "metadata_dict = json.loads(ind.metadata)"
   ]
  },
  {
   "cell_type": "code",
   "execution_count": 18,
   "id": "239057b6",
   "metadata": {},
   "outputs": [
    {
     "data": {
      "text/plain": [
       "{'id': 0, 'flags': 0, 'location': array([ 12., -12.]), 'nodes': array([0, 1], dtype=int32), 'metadata': b'{\"array_non_reference_discordance\": \"0.111741\", \"capmq\": \"29\", \"coverage\": \"29.71\", \"freemix\": \"0.00137\", \"insert_size_average\": \"500.1\", \"library\": \"HGDP01201.11144852\", \"library_type\": \"PCR\", \"region\": \"AFRICA\", \"sample\": \"HGDP01201\", \"sample_accession\": \"ERS474141\", \"sex\": \"F\", \"source\": \"sanger\"}'}"
      ]
     },
     "execution_count": 18,
     "metadata": {},
     "output_type": "execute_result"
    }
   ],
   "source": [
    "ind"
   ]
  },
  {
   "cell_type": "code",
   "execution_count": 8,
   "id": "4780001e",
   "metadata": {},
   "outputs": [
    {
     "data": {
      "text/plain": [
       "{'array_non_reference_discordance': '0.111741',\n",
       " 'capmq': '29',\n",
       " 'coverage': '29.71',\n",
       " 'freemix': '0.00137',\n",
       " 'insert_size_average': '500.1',\n",
       " 'library': 'HGDP01201.11144852',\n",
       " 'library_type': 'PCR',\n",
       " 'region': 'AFRICA',\n",
       " 'sample': 'HGDP01201',\n",
       " 'sample_accession': 'ERS474141',\n",
       " 'sex': 'F',\n",
       " 'source': 'sanger'}"
      ]
     },
     "execution_count": 8,
     "metadata": {},
     "output_type": "execute_result"
    }
   ],
   "source": [
    "metadata_dict"
   ]
  },
  {
   "cell_type": "code",
   "execution_count": 10,
   "id": "2a031458",
   "metadata": {},
   "outputs": [],
   "source": [
    "pop_metadata = [json.loads(pop.metadata) for pop in ts.populations()]\n",
    "ind_node = ts.node(ind.nodes[0])\n",
    "ind_pop_metadata = pop_metadata[ind_node.population]"
   ]
  },
  {
   "cell_type": "code",
   "execution_count": 11,
   "id": "f5b40248",
   "metadata": {},
   "outputs": [
    {
     "data": {
      "text/plain": [
       "[{'name': 'Adygei', 'region': 'EUROPE'},\n",
       " {'name': 'Balochi', 'region': 'CENTRAL_SOUTH_ASIA'},\n",
       " {'name': 'BantuKenya', 'region': 'AFRICA'},\n",
       " {'name': 'BantuSouthAfrica', 'region': 'AFRICA'},\n",
       " {'name': 'Basque', 'region': 'EUROPE'},\n",
       " {'name': 'Bedouin', 'region': 'MIDDLE_EAST'},\n",
       " {'name': 'BergamoItalian', 'region': 'EUROPE'},\n",
       " {'name': 'Biaka', 'region': 'AFRICA'},\n",
       " {'name': 'Bougainville', 'region': 'OCEANIA'},\n",
       " {'name': 'Brahui', 'region': 'CENTRAL_SOUTH_ASIA'},\n",
       " {'name': 'Burusho', 'region': 'CENTRAL_SOUTH_ASIA'},\n",
       " {'name': 'Cambodian', 'region': 'EAST_ASIA'},\n",
       " {'name': 'Colombian', 'region': 'AMERICA'},\n",
       " {'name': 'Dai', 'region': 'EAST_ASIA'},\n",
       " {'name': 'Daur', 'region': 'EAST_ASIA'},\n",
       " {'name': 'Druze', 'region': 'MIDDLE_EAST'},\n",
       " {'name': 'French', 'region': 'EUROPE'},\n",
       " {'name': 'Han', 'region': 'EAST_ASIA'},\n",
       " {'name': 'Hazara', 'region': 'CENTRAL_SOUTH_ASIA'},\n",
       " {'name': 'Hezhen', 'region': 'EAST_ASIA'},\n",
       " {'name': 'Japanese', 'region': 'EAST_ASIA'},\n",
       " {'name': 'Kalash', 'region': 'CENTRAL_SOUTH_ASIA'},\n",
       " {'name': 'Karitiana', 'region': 'AMERICA'},\n",
       " {'name': 'Lahu', 'region': 'EAST_ASIA'},\n",
       " {'name': 'Makrani', 'region': 'CENTRAL_SOUTH_ASIA'},\n",
       " {'name': 'Mandenka', 'region': 'AFRICA'},\n",
       " {'name': 'Maya', 'region': 'AMERICA'},\n",
       " {'name': 'Mbuti', 'region': 'AFRICA'},\n",
       " {'name': 'Miao', 'region': 'EAST_ASIA'},\n",
       " {'name': 'Mongolian', 'region': 'EAST_ASIA'},\n",
       " {'name': 'Mozabite', 'region': 'MIDDLE_EAST'},\n",
       " {'name': 'Naxi', 'region': 'EAST_ASIA'},\n",
       " {'name': 'NorthernHan', 'region': 'EAST_ASIA'},\n",
       " {'name': 'Orcadian', 'region': 'EUROPE'},\n",
       " {'name': 'Oroqen', 'region': 'EAST_ASIA'},\n",
       " {'name': 'Palestinian', 'region': 'MIDDLE_EAST'},\n",
       " {'name': 'PapuanHighlands', 'region': 'OCEANIA'},\n",
       " {'name': 'PapuanSepik', 'region': 'OCEANIA'},\n",
       " {'name': 'Pathan', 'region': 'CENTRAL_SOUTH_ASIA'},\n",
       " {'name': 'Pima', 'region': 'AMERICA'},\n",
       " {'name': 'Russian', 'region': 'EUROPE'},\n",
       " {'name': 'San', 'region': 'AFRICA'},\n",
       " {'name': 'Sardinian', 'region': 'EUROPE'},\n",
       " {'name': 'She', 'region': 'EAST_ASIA'},\n",
       " {'name': 'Sindhi', 'region': 'CENTRAL_SOUTH_ASIA'},\n",
       " {'name': 'Surui', 'region': 'AMERICA'},\n",
       " {'name': 'Tu', 'region': 'EAST_ASIA'},\n",
       " {'name': 'Tujia', 'region': 'EAST_ASIA'},\n",
       " {'name': 'Tuscan', 'region': 'EUROPE'},\n",
       " {'name': 'Uygur', 'region': 'CENTRAL_SOUTH_ASIA'},\n",
       " {'name': 'Xibo', 'region': 'EAST_ASIA'},\n",
       " {'name': 'Yakut', 'region': 'EAST_ASIA'},\n",
       " {'name': 'Yi', 'region': 'EAST_ASIA'},\n",
       " {'name': 'Yoruba', 'region': 'AFRICA'},\n",
       " {'description': 'Han Chinese in Beijing, China',\n",
       "  'name': 'CHB',\n",
       "  'super_population': 'EAS'},\n",
       " {'description': 'Japanese in Tokyo, Japan',\n",
       "  'name': 'JPT',\n",
       "  'super_population': 'EAS'},\n",
       " {'description': 'Southern Han Chinese',\n",
       "  'name': 'CHS',\n",
       "  'super_population': 'EAS'},\n",
       " {'description': 'Chinese Dai in Xishuangbanna, China',\n",
       "  'name': 'CDX',\n",
       "  'super_population': 'EAS'},\n",
       " {'description': 'Kinh in Ho Chi Minh City, Vietnam',\n",
       "  'name': 'KHV',\n",
       "  'super_population': 'EAS'},\n",
       " {'description': 'Utah Residents (CEPH) with Northern and Western European Ancestry',\n",
       "  'name': 'CEU',\n",
       "  'super_population': 'EUR'},\n",
       " {'description': 'Toscani in Italia',\n",
       "  'name': 'TSI',\n",
       "  'super_population': 'EUR'},\n",
       " {'description': 'Finnish in Finland',\n",
       "  'name': 'FIN',\n",
       "  'super_population': 'EUR'},\n",
       " {'description': 'British in England and Scotland',\n",
       "  'name': 'GBR',\n",
       "  'super_population': 'EUR'},\n",
       " {'description': 'Iberian Population in Spain',\n",
       "  'name': 'IBS',\n",
       "  'super_population': 'EUR'},\n",
       " {'description': 'Yoruba in Ibadan, Nigeria',\n",
       "  'name': 'YRI',\n",
       "  'super_population': 'AFR'},\n",
       " {'description': 'Luhya in Webuye, Kenya',\n",
       "  'name': 'LWK',\n",
       "  'super_population': 'AFR'},\n",
       " {'description': 'Gambian in Western Divisions in the Gambia',\n",
       "  'name': 'GWD',\n",
       "  'super_population': 'AFR'},\n",
       " {'description': 'Mende in Sierra Leone',\n",
       "  'name': 'MSL',\n",
       "  'super_population': 'AFR'},\n",
       " {'description': 'Esan in Nigeria', 'name': 'ESN', 'super_population': 'AFR'},\n",
       " {'description': 'Americans of African Ancestry in SW USA',\n",
       "  'name': 'ASW',\n",
       "  'super_population': 'AFR'},\n",
       " {'description': 'African Caribbeans in Barbados',\n",
       "  'name': 'ACB',\n",
       "  'super_population': 'AFR'},\n",
       " {'description': 'Mexican Ancestry from Los Angeles USA',\n",
       "  'name': 'MXL',\n",
       "  'super_population': 'AMR'},\n",
       " {'description': 'Puerto Ricans from Puerto Rico',\n",
       "  'name': 'PUR',\n",
       "  'super_population': 'AMR'},\n",
       " {'description': 'Colombians from Medellin, Colombia',\n",
       "  'name': 'CLM',\n",
       "  'super_population': 'AMR'},\n",
       " {'description': 'Peruvians from Lima, Peru',\n",
       "  'name': 'PEL',\n",
       "  'super_population': 'AMR'},\n",
       " {'description': 'Gujarati Indian from Houston, Texas',\n",
       "  'name': 'GIH',\n",
       "  'super_population': 'SAS'},\n",
       " {'description': 'Punjabi from Lahore, Pakistan',\n",
       "  'name': 'PJL',\n",
       "  'super_population': 'SAS'},\n",
       " {'description': 'Bengali from Bangladesh',\n",
       "  'name': 'BEB',\n",
       "  'super_population': 'SAS'},\n",
       " {'description': 'Sri Lankan Tamil from the UK',\n",
       "  'name': 'STU',\n",
       "  'super_population': 'SAS'},\n",
       " {'description': 'Indian Telugu from the UK',\n",
       "  'name': 'ITU',\n",
       "  'super_population': 'SAS'},\n",
       " {'name': 'Abkhasian', 'region': 'WestEurasia'},\n",
       " {'name': 'Adygei', 'region': 'WestEurasia'},\n",
       " {'name': 'Albanian', 'region': 'WestEurasia'},\n",
       " {'name': 'Aleut', 'region': 'CentralAsiaSiberia'},\n",
       " {'name': 'Altaian', 'region': 'CentralAsiaSiberia'},\n",
       " {'name': 'Ami', 'region': 'EastAsia'},\n",
       " {'name': 'Armenian', 'region': 'WestEurasia'},\n",
       " {'name': 'Atayal', 'region': 'EastAsia'},\n",
       " {'name': 'Australian', 'region': 'Oceania'},\n",
       " {'name': 'Balochi', 'region': 'SouthAsia'},\n",
       " {'name': 'BantuHerero', 'region': 'Africa'},\n",
       " {'name': 'BantuKenya', 'region': 'Africa'},\n",
       " {'name': 'BantuTswana', 'region': 'Africa'},\n",
       " {'name': 'Basque', 'region': 'WestEurasia'},\n",
       " {'name': 'BedouinB', 'region': 'WestEurasia'},\n",
       " {'name': 'Bengali', 'region': 'SouthAsia'},\n",
       " {'name': 'Bergamo', 'region': 'WestEurasia'},\n",
       " {'name': 'Biaka', 'region': 'Africa'},\n",
       " {'name': 'Bougainville', 'region': 'Oceania'},\n",
       " {'name': 'Brahmin', 'region': 'SouthAsia'},\n",
       " {'name': 'Brahui', 'region': 'SouthAsia'},\n",
       " {'name': 'Bulgarian', 'region': 'WestEurasia'},\n",
       " {'name': 'Burmese', 'region': 'EastAsia'},\n",
       " {'name': 'Burusho', 'region': 'SouthAsia'},\n",
       " {'name': 'Cambodian', 'region': 'EastAsia'},\n",
       " {'name': 'Chane', 'region': 'America'},\n",
       " {'name': 'Chechen', 'region': 'WestEurasia'},\n",
       " {'name': 'Chukchi', 'region': 'CentralAsiaSiberia'},\n",
       " {'name': 'Crete', 'region': 'WestEurasia'},\n",
       " {'name': 'Czech', 'region': 'WestEurasia'},\n",
       " {'name': 'Dai', 'region': 'EastAsia'},\n",
       " {'name': 'Daur', 'region': 'EastAsia'},\n",
       " {'name': 'Dinka', 'region': 'Africa'},\n",
       " {'name': 'Druze', 'region': 'WestEurasia'},\n",
       " {'name': 'Dusun', 'region': 'Oceania'},\n",
       " {'name': 'English', 'region': 'WestEurasia'},\n",
       " {'name': 'Esan', 'region': 'Africa'},\n",
       " {'name': 'Eskimo_Chaplin', 'region': 'CentralAsiaSiberia'},\n",
       " {'name': 'Eskimo_Naukan', 'region': 'CentralAsiaSiberia'},\n",
       " {'name': 'Eskimo_Sireniki', 'region': 'CentralAsiaSiberia'},\n",
       " {'name': 'Estonian', 'region': 'WestEurasia'},\n",
       " {'name': 'Even', 'region': 'CentralAsiaSiberia'},\n",
       " {'name': 'Finnish', 'region': 'WestEurasia'},\n",
       " {'name': 'French', 'region': 'WestEurasia'},\n",
       " {'name': 'Gambian', 'region': 'Africa'},\n",
       " {'name': 'Georgian', 'region': 'WestEurasia'},\n",
       " {'name': 'Greek', 'region': 'WestEurasia'},\n",
       " {'name': 'Han', 'region': 'EastAsia'},\n",
       " {'name': 'Hawaiian', 'region': 'Oceania'},\n",
       " {'name': 'Hazara', 'region': 'SouthAsia'},\n",
       " {'name': 'Hezhen', 'region': 'EastAsia'},\n",
       " {'name': 'Hungarian', 'region': 'WestEurasia'},\n",
       " {'name': 'Icelandic', 'region': 'WestEurasia'},\n",
       " {'name': 'Igorot', 'region': 'Oceania'},\n",
       " {'name': 'Iranian', 'region': 'WestEurasia'},\n",
       " {'name': 'Iraqi_Jew', 'region': 'WestEurasia'},\n",
       " {'name': 'Irula', 'region': 'SouthAsia'},\n",
       " {'name': 'Itelman', 'region': 'CentralAsiaSiberia'},\n",
       " {'name': 'Japanese', 'region': 'EastAsia'},\n",
       " {'name': 'Jordanian', 'region': 'WestEurasia'},\n",
       " {'name': 'Ju_hoan_North', 'region': 'Africa'},\n",
       " {'name': 'Kalash', 'region': 'SouthAsia'},\n",
       " {'name': 'Kapu', 'region': 'SouthAsia'},\n",
       " {'name': 'Karitiana', 'region': 'America'},\n",
       " {'name': 'Khomani_San', 'region': 'Africa'},\n",
       " {'name': 'Khonda_Dora', 'region': 'SouthAsia'},\n",
       " {'name': 'Kinh', 'region': 'EastAsia'},\n",
       " {'name': 'Korean', 'region': 'EastAsia'},\n",
       " {'name': 'Kusunda', 'region': 'SouthAsia'},\n",
       " {'name': 'Kyrgyz', 'region': 'CentralAsiaSiberia'},\n",
       " {'name': 'Lahu', 'region': 'EastAsia'},\n",
       " {'name': 'Lezgin', 'region': 'WestEurasia'},\n",
       " {'name': 'Luhya', 'region': 'Africa'},\n",
       " {'name': 'Luo', 'region': 'Africa'},\n",
       " {'name': 'Madiga', 'region': 'SouthAsia'},\n",
       " {'name': 'Makrani', 'region': 'SouthAsia'},\n",
       " {'name': 'Mala', 'region': 'SouthAsia'},\n",
       " {'name': 'Mandenka', 'region': 'Africa'},\n",
       " {'name': 'Mansi', 'region': 'CentralAsiaSiberia'},\n",
       " {'name': 'Maori', 'region': 'Oceania'},\n",
       " {'name': 'Masai', 'region': 'Africa'},\n",
       " {'name': 'Mayan', 'region': 'America'},\n",
       " {'name': 'Mbuti', 'region': 'Africa'},\n",
       " {'name': 'Mende', 'region': 'Africa'},\n",
       " {'name': 'Miao', 'region': 'EastAsia'},\n",
       " {'name': 'Mixe', 'region': 'America'},\n",
       " {'name': 'Mixtec', 'region': 'America'},\n",
       " {'name': 'Mongola', 'region': 'CentralAsiaSiberia'},\n",
       " {'name': 'Mozabite', 'region': 'Africa'},\n",
       " {'name': 'Naxi', 'region': 'EastAsia'},\n",
       " {'name': 'North_Ossetian', 'region': 'WestEurasia'},\n",
       " {'name': 'Norwegian', 'region': 'WestEurasia'},\n",
       " {'name': 'Orcadian', 'region': 'WestEurasia'},\n",
       " {'name': 'Oroqen', 'region': 'EastAsia'},\n",
       " {'name': 'Palestinian', 'region': 'WestEurasia'},\n",
       " {'name': 'Papuan', 'region': 'Oceania'},\n",
       " {'name': 'Pathan', 'region': 'SouthAsia'},\n",
       " {'name': 'Piapoco', 'region': 'America'},\n",
       " {'name': 'Pima', 'region': 'America'},\n",
       " {'name': 'Polish', 'region': 'WestEurasia'},\n",
       " {'name': 'Punjabi', 'region': 'SouthAsia'},\n",
       " {'name': 'Quechua', 'region': 'America'},\n",
       " {'name': 'Relli', 'region': 'SouthAsia'},\n",
       " {'name': 'Russian', 'region': 'WestEurasia'},\n",
       " {'name': 'Saami', 'region': 'WestEurasia'},\n",
       " {'name': 'Saharawi', 'region': 'Africa'},\n",
       " {'name': 'Samaritan', 'region': 'WestEurasia'},\n",
       " {'name': 'Sardinian', 'region': 'WestEurasia'},\n",
       " {'name': 'She', 'region': 'EastAsia'},\n",
       " {'name': 'Sindhi', 'region': 'SouthAsia'},\n",
       " {'name': 'Somali', 'region': 'Africa'},\n",
       " {'name': 'Spanish', 'region': 'WestEurasia'},\n",
       " {'name': 'Surui', 'region': 'America'},\n",
       " {'name': 'Tajik', 'region': 'WestEurasia'},\n",
       " {'name': 'Thai', 'region': 'EastAsia'},\n",
       " {'name': 'Tlingit', 'region': 'CentralAsiaSiberia'},\n",
       " {'name': 'Tu', 'region': 'EastAsia'},\n",
       " {'name': 'Tubalar', 'region': 'CentralAsiaSiberia'},\n",
       " {'name': 'Tujia', 'region': 'EastAsia'},\n",
       " {'name': 'Turkish', 'region': 'WestEurasia'},\n",
       " {'name': 'Tuscan', 'region': 'WestEurasia'},\n",
       " {'name': 'Ulchi', 'region': 'CentralAsiaSiberia'},\n",
       " {'name': 'Uygur', 'region': 'EastAsia'},\n",
       " {'name': 'Xibo', 'region': 'EastAsia'},\n",
       " {'name': 'Yadava', 'region': 'SouthAsia'},\n",
       " {'name': 'Yakut', 'region': 'CentralAsiaSiberia'},\n",
       " {'name': 'Yemenite_Jew', 'region': 'WestEurasia'},\n",
       " {'name': 'Yi', 'region': 'EastAsia'},\n",
       " {'name': 'Yoruba', 'region': 'Africa'},\n",
       " {'name': 'Zapotec', 'region': 'America'},\n",
       " {'name': 'Afanasievo', 'super_population': 'Afanasievo'},\n",
       " {'name': 'Altai', 'super_population': 'Max Planck'},\n",
       " {'name': 'Chagyrskaya', 'super_population': 'Max Planck'},\n",
       " {'name': 'Denisovan', 'super_population': 'Max Planck'},\n",
       " {'name': 'Vindija', 'super_population': 'Max Planck'}]"
      ]
     },
     "execution_count": 11,
     "metadata": {},
     "output_type": "execute_result"
    }
   ],
   "source": [
    "pop_metadata"
   ]
  },
  {
   "cell_type": "code",
   "execution_count": 19,
   "id": "0aae67c7",
   "metadata": {},
   "outputs": [
    {
     "data": {
      "text/plain": [
       "{'id': 0, 'time': 0.0, 'population': 25, 'individual': 0, 'flags': 1, 'metadata': b''}"
      ]
     },
     "execution_count": 19,
     "metadata": {},
     "output_type": "execute_result"
    }
   ],
   "source": [
    "ind_node"
   ]
  },
  {
   "cell_type": "code",
   "execution_count": 20,
   "id": "b25b691e",
   "metadata": {},
   "outputs": [
    {
     "data": {
      "text/plain": [
       "{'name': 'Mandenka', 'region': 'AFRICA'}"
      ]
     },
     "execution_count": 20,
     "metadata": {},
     "output_type": "execute_result"
    }
   ],
   "source": [
    "ind_pop_metadata"
   ]
  },
  {
   "cell_type": "code",
   "execution_count": 22,
   "id": "7cd9e634",
   "metadata": {},
   "outputs": [
    {
     "name": "stdout",
     "output_type": "stream",
     "text": [
      "Tree 0 covers Interval(left=0.0, right=39203.0)\n",
      "Tree 1 covers Interval(left=39203.0, right=55565.0)\n",
      "Tree 2 covers Interval(left=55565.0, right=55816.0)\n",
      "Tree 3 covers Interval(left=55816.0, right=56381.0)\n",
      "Tree 4 covers Interval(left=56381.0, right=71381.0)\n",
      "...\n",
      "Tree 221784 covers Interval(left=121560594.0, right=123400000.0)\n"
     ]
    }
   ],
   "source": [
    "for tree in ts.trees():\n",
    "    print(f\"Tree {tree.index} covers {tree.interval}\")\n",
    "    if tree.index >= 4:\n",
    "        print(\"...\")\n",
    "        break\n",
    "print(f\"Tree {ts.last().index} covers {ts.last().interval}\")"
   ]
  },
  {
   "cell_type": "code",
   "execution_count": 44,
   "id": "ad13bcd7",
   "metadata": {},
   "outputs": [],
   "source": [
    "anc_alleles = [('position','ancestral_state')]\n",
    "for site in ts.sites():\n",
    "    anc_state = site.ancestral_state\n",
    "    pos = site.position\n",
    "    anc_alleles.append((pos,anc_state))"
   ]
  },
  {
   "cell_type": "code",
   "execution_count": 45,
   "id": "7a5c7189",
   "metadata": {},
   "outputs": [
    {
     "data": {
      "text/plain": [
       "3995384"
      ]
     },
     "execution_count": 45,
     "metadata": {},
     "output_type": "execute_result"
    }
   ],
   "source": [
    "len(anc_alleles)"
   ]
  },
  {
   "cell_type": "code",
   "execution_count": 46,
   "id": "f45dd593",
   "metadata": {},
   "outputs": [
    {
     "data": {
      "text/plain": [
       "[(121567678.0, 'G'),\n",
       " (121567688.0, 'A'),\n",
       " (121567758.0, 'C'),\n",
       " (121567766.0, 'C'),\n",
       " (121567787.0, 'G'),\n",
       " (121567881.0, 'C'),\n",
       " (121567895.0, 'T'),\n",
       " (121568008.0, 'A'),\n",
       " (121568103.0, 'A'),\n",
       " (121568149.0, 'A')]"
      ]
     },
     "execution_count": 46,
     "metadata": {},
     "output_type": "execute_result"
    }
   ],
   "source": [
    "anc_alleles[-10:]"
   ]
  },
  {
   "cell_type": "code",
   "execution_count": null,
   "id": "9dde00a4",
   "metadata": {},
   "outputs": [],
   "source": [
    "import sys\n",
    "ts.write_vcf(sys.stdout).as_vcf()"
   ]
  },
  {
   "cell_type": "code",
   "execution_count": 60,
   "id": "25b6468d",
   "metadata": {},
   "outputs": [
    {
     "name": "stdout",
     "output_type": "stream",
     "text": [
      "Genotypes\n",
      "Site 0: [0 0 0 ... 0 0 0]\n",
      "Site 1: [0 0 0 ... 0 0 0]\n",
      "Site 2: [0 0 0 ... 0 0 0]\n",
      "Site 3: [0 0 0 ... 0 0 0]\n",
      "Site 4: [0 0 0 ... 0 0 0]\n",
      "...\n"
     ]
    }
   ],
   "source": [
    "import numpy as np\n",
    "np.set_printoptions(linewidth=200)  # print genotypes on a single line\n",
    "\n",
    "print(\"Genotypes\")\n",
    "for v in ts.variants():\n",
    "    print(f\"Site {v.site.id}: {v.genotypes}\")\n",
    "    a=v\n",
    "    if v.site.id >= 4:  # only print up to site ID 4\n",
    "        print(\"...\")\n",
    "        break"
   ]
  },
  {
   "cell_type": "code",
   "execution_count": 66,
   "id": "9aa4a93f",
   "metadata": {},
   "outputs": [
    {
     "data": {
      "text/plain": [
       "{'site': {'id': 4, 'position': 31488.0, 'ancestral_state': 'C', 'mutations': [{'id': 11, 'site': 4, 'node': 579579, 'time': nan, 'derived_state': 'G', 'parent': -1, 'metadata': b''}, {'id': 12, 'site': 4, 'node': 553523, 'time': nan, 'derived_state': 'G', 'parent': -1, 'metadata': b''}, {'id': 13, 'site': 4, 'node': 496243, 'time': nan, 'derived_state': 'G', 'parent': -1, 'metadata': b''}, {'id': 14, 'site': 4, 'node': 165870, 'time': nan, 'derived_state': 'G', 'parent': -1, 'metadata': b''}, {'id': 15, 'site': 4, 'node': 382042, 'time': nan, 'derived_state': 'G', 'parent': -1, 'metadata': b''}, {'id': 16, 'site': 4, 'node': 337409, 'time': nan, 'derived_state': 'G', 'parent': -1, 'metadata': b''}, {'id': 17, 'site': 4, 'node': 284284, 'time': nan, 'derived_state': 'G', 'parent': -1, 'metadata': b''}, {'id': 18, 'site': 4, 'node': 257052, 'time': nan, 'derived_state': 'G', 'parent': -1, 'metadata': b''}, {'id': 19, 'site': 4, 'node': 214719, 'time': nan, 'derived_state': 'G', 'parent': -1, 'metadata': b''}, {'id': 20, 'site': 4, 'node': 206717, 'time': nan, 'derived_state': 'G', 'parent': -1, 'metadata': b''}, {'id': 21, 'site': 4, 'node': 1847, 'time': nan, 'derived_state': 'G', 'parent': -1, 'metadata': b''}, {'id': 22, 'site': 4, 'node': 180487, 'time': nan, 'derived_state': 'G', 'parent': -1, 'metadata': b''}, {'id': 23, 'site': 4, 'node': 173635, 'time': nan, 'derived_state': 'G', 'parent': -1, 'metadata': b''}, {'id': 24, 'site': 4, 'node': 97, 'time': nan, 'derived_state': 'G', 'parent': -1, 'metadata': b''}, {'id': 25, 'site': 4, 'node': 48, 'time': nan, 'derived_state': 'G', 'parent': -1, 'metadata': b''}, {'id': 26, 'site': 4, 'node': 68, 'time': nan, 'derived_state': 'G', 'parent': -1, 'metadata': b''}, {'id': 27, 'site': 4, 'node': 69, 'time': nan, 'derived_state': 'G', 'parent': -1, 'metadata': b''}, {'id': 28, 'site': 4, 'node': 80, 'time': nan, 'derived_state': 'G', 'parent': -1, 'metadata': b''}, {'id': 29, 'site': 4, 'node': 96, 'time': nan, 'derived_state': 'G', 'parent': -1, 'metadata': b''}, {'id': 30, 'site': 4, 'node': 108, 'time': nan, 'derived_state': 'C', 'parent': 15, 'metadata': b''}, {'id': 31, 'site': 4, 'node': 505, 'time': nan, 'derived_state': 'G', 'parent': -1, 'metadata': b''}, {'id': 32, 'site': 4, 'node': 1146, 'time': nan, 'derived_state': 'G', 'parent': -1, 'metadata': b''}, {'id': 33, 'site': 4, 'node': 1847, 'time': nan, 'derived_state': 'C', 'parent': 21, 'metadata': b''}], 'metadata': b'{\"inference_type\": \"full\", \"ID\": \"rs753672820\", \"REF\": \"C\"}'}, 'alleles': ('C', 'G'), 'has_missing_data': False, 'num_alleles': 2, 'genotypes': array([0, 0, 0, ..., 0, 0, 0], dtype=int8), 'position': 31488.0, 'index': 4}"
      ]
     },
     "execution_count": 66,
     "metadata": {},
     "output_type": "execute_result"
    }
   ],
   "source": [
    "a"
   ]
  },
  {
   "cell_type": "code",
   "execution_count": null,
   "id": "818d18b8",
   "metadata": {},
   "outputs": [],
   "source": []
  }
 ],
 "metadata": {
  "kernelspec": {
   "display_name": "Python 3",
   "language": "python",
   "name": "python3"
  },
  "language_info": {
   "codemirror_mode": {
    "name": "ipython",
    "version": 3
   },
   "file_extension": ".py",
   "mimetype": "text/x-python",
   "name": "python",
   "nbconvert_exporter": "python",
   "pygments_lexer": "ipython3",
   "version": "3.6.8"
  }
 },
 "nbformat": 4,
 "nbformat_minor": 5
}
