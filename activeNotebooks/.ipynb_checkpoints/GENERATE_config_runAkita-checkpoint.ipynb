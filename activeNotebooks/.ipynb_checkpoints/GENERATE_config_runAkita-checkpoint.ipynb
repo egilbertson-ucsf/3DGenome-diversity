{
 "cells": [
  {
   "cell_type": "code",
   "execution_count": 1,
   "id": "9e7abfb9",
   "metadata": {},
   "outputs": [],
   "source": [
    "import os\n",
    "import configparser"
   ]
  },
  {
   "cell_type": "code",
   "execution_count": 2,
   "id": "4224969f",
   "metadata": {},
   "outputs": [],
   "source": [
    "BASE_PATH = os.getcwd()\n",
    "configfile_name = os.path.join(BASE_PATH, \"config_runAkita_ensembl-ancestral.ini\") #name the config file"
   ]
  },
  {
   "cell_type": "code",
   "execution_count": 3,
   "id": "aa338e68",
   "metadata": {},
   "outputs": [],
   "source": [
    "config = configparser.ConfigParser()"
   ]
  },
  {
   "cell_type": "markdown",
   "id": "07875cac",
   "metadata": {},
   "source": [
    "## Akita params and paths"
   ]
  },
  {
   "cell_type": "code",
   "execution_count": 4,
   "id": "4d3431a5",
   "metadata": {},
   "outputs": [],
   "source": [
    "AKITA_PARAMS = 'params.json'\n",
    "\n",
    "MODEL = 'model_best.h5'\n",
    "\n",
    "TARGETS = \"targets.txt\"\n",
    "\n",
    "STATS = \"statistics.json\""
   ]
  },
  {
   "cell_type": "code",
   "execution_count": 5,
   "id": "e6ee036d",
   "metadata": {},
   "outputs": [],
   "source": [
    "MODEL_DIR = '/wynton/group/capra/projects/modern_human_3Dgenome/bin/basenji/manuscripts/akita/'\n",
    "DATA_DIR = '/wynton/group/capra/projects/modern_human_3Dgenome/bin/basenji/manuscripts/akita/data/'"
   ]
  },
  {
   "cell_type": "markdown",
   "id": "9d94b5ea",
   "metadata": {},
   "source": [
    "## Erin's params and paths that *shouldn't* change"
   ]
  },
  {
   "cell_type": "code",
   "execution_count": 6,
   "id": "3135ac44",
   "metadata": {},
   "outputs": [],
   "source": [
    "# Paths\n",
    "BASE_PATH = \"/\".join(os.getcwd().split(\"/\")[:-2]) # base directory level\n",
    "\n",
    "BIN_PATH = os.path.join(BASE_PATH, \"bin\")  # where my scripts live\n",
    "DATA_PATH = os.path.join(BASE_PATH, \"data\")  # where I dump new data.\n",
    "RESULTS_PATH = os.path.join(BASE_PATH, \"results\")  # where I analyze results\n",
    "\n",
    "SRC_PATH = os.path.join(BASE_PATH, \"src\")  # where any packages needed to run analyses live. I haven't started structuring things this way yet. \n"
   ]
  },
  {
   "cell_type": "code",
   "execution_count": 7,
   "id": "37cb1821",
   "metadata": {},
   "outputs": [],
   "source": [
    "# prefix on VCF files\n",
    "GENOME_CHUNKS = '/wynton/group/capra/projects/modern_human_3Dgenome/data/reference/genome_chunks_large.txt'"
   ]
  },
  {
   "cell_type": "code",
   "execution_count": 8,
   "id": "9da1ae23",
   "metadata": {},
   "outputs": [],
   "source": [
    "OUT_PREDS = '/wynton/group/capra/projects/modern_human_3Dgenome/data/akitaPreds/3dpreds/'\n",
    "OUT_COV = '/wynton/group/capra/projects/modern_human_3Dgenome/data/akitaPreds/coverage/'"
   ]
  },
  {
   "cell_type": "code",
   "execution_count": 9,
   "id": "69a55e1d",
   "metadata": {},
   "outputs": [],
   "source": [
    "LAUNCH_RUN_AKITA = os.path.join(BIN_PATH, 'runningAkita', 'runAkita.sh')\n",
    "\n",
    "RUN_AKITA_INDIV = os.path.join(BIN_PATH, 'runningAkita', 'runAkita.one_individual.py')"
   ]
  },
  {
   "cell_type": "markdown",
   "id": "1e22b10f",
   "metadata": {},
   "source": [
    "## Genome source dependent params and paths\n",
    "\n",
    "Just update the data source and file for list of individuals. If new data source, add relevant info to assignments below. "
   ]
  },
  {
   "cell_type": "code",
   "execution_count": 10,
   "id": "30b5a612",
   "metadata": {},
   "outputs": [],
   "source": [
    "IND_LIST = '/wynton/group/capra/projects/modern_human_3Dgenome/data/reference/lists/runAkitaLists/ensembl_106_ancestral.txt'\n",
    "source = '1KG'"
   ]
  },
  {
   "cell_type": "code",
   "execution_count": 11,
   "id": "d707366b",
   "metadata": {
    "code_folding": [
     18
    ]
   },
   "outputs": [],
   "source": [
    "data_sources = dict.fromkeys(['1KG','ensembl','GAGP'])\n",
    "\n",
    "#FASTA directories\n",
    "fasta_dir_1KG = '/wynton/group/capra/projects/modern_human_3Dgenome/data/genomes/'\n",
    "fasta_dir_ensembl = '/wynton/group/capra/data/hg38_ancestral/Ensembl_release_106/homo_sapiens_ancestor_GRCh38/'\n",
    "fasta_dir_GAGP = '/wynton/group/capra/data/hg38_ancestral/GAGP/' \n",
    "\n",
    "#Naming conventions for fasta files\n",
    "fasta_naming_1KG = '%%s/%%s/%%s_%%s_hg38_full.fa' \n",
    "naming_vars_1KG = '(pop,indiv,chrm,id)'\n",
    "\n",
    "fasta_naming_GAGP = '%%s_with_GAGP_ancestral.fa'\n",
    "naming_vars_GAGP = 'chrm'\n",
    "\n",
    "fasta_naming_ensembl = 'homo_sapiens_ancestor_%%s.fa'\n",
    "naming_vars_ensembl = 'chrm.strip(\"chr\")'\n",
    "\n",
    "for s in data_sources.keys():\n",
    "    data_sources[s] = {}\n",
    "    data_sources[s]['fasta_dir'] = eval(('fasta_dir_' + str(s)))\n",
    "    data_sources[s]['fasta_naming'] = eval(('fasta_naming_' + str(s)))\n",
    "    data_sources[s]['naming_vars'] = eval(('naming_vars_' + str(s)))"
   ]
  },
  {
   "cell_type": "code",
   "execution_count": 12,
   "id": "5868a5c3",
   "metadata": {},
   "outputs": [],
   "source": [
    "INPUT_FASTA_DIR = data_sources[source]['fasta_dir']\n",
    "FASTA_NAMING = data_sources[source]['fasta_naming']\n",
    "NAMING_VARS = data_sources[source]['naming_vars']"
   ]
  },
  {
   "cell_type": "markdown",
   "id": "fb1d6daf",
   "metadata": {},
   "source": [
    "### Writing .ini file"
   ]
  },
  {
   "cell_type": "code",
   "execution_count": 13,
   "id": "be52fc79",
   "metadata": {},
   "outputs": [],
   "source": [
    "config[\"FILE\"] = {\n",
    "    \"GENOME_CHUNKS\":GENOME_CHUNKS,\n",
    "    \"AKITA_PARAMS\":AKITA_PARAMS,\n",
    "    \"MODEL\":MODEL,\n",
    "    \"TARGETS\":TARGETS,\n",
    "    \"STATS\":STATS,\n",
    "    \"FASTA_NAMING\":FASTA_NAMING,\n",
    "    \"NAMING_VARS\":NAMING_VARS\n",
    "}\n",
    "\n",
    "config[\"PATH\"] = {\n",
    "    \"BASE_PATH\":BASE_PATH,\n",
    "    \"BIN_PATH\":BIN_PATH,\n",
    "    \"DATA_PATH\":DATA_PATH,\n",
    "    \"RESULTS_PATH\":RESULTS_PATH,\n",
    "    \"SRC_PATH\":SRC_PATH,\n",
    "    \"IND_LIST\":IND_LIST,\n",
    "    \"MODEL_DIR\":MODEL_DIR,\n",
    "    \"DATA_DIR\":DATA_DIR,\n",
    "    \"INPUT_FASTA_DIR\":INPUT_FASTA_DIR,\n",
    "    \"OUT_PREDS\":OUT_PREDS,\n",
    "    \"OUT_COV\":OUT_COV,\n",
    "}\n",
    "\n",
    "config[\"BIN\"] = {\n",
    "    \"LAUNCH_RUN_AKITA\":LAUNCH_RUN_AKITA,\n",
    "    \"RUN_AKITA_INDIV\":RUN_AKITA_INDIV\n",
    "}"
   ]
  },
  {
   "cell_type": "markdown",
   "id": "89a19aaf",
   "metadata": {},
   "source": [
    "### Write config file"
   ]
  },
  {
   "cell_type": "code",
   "execution_count": 14,
   "id": "7ded1d3f",
   "metadata": {},
   "outputs": [],
   "source": [
    "if not os.path.isfile(configfile_name):\n",
    "    with open(configfile_name, 'w') as configfile:\n",
    "        config.write(configfile)  # write the config\n",
    "        configfile.close()"
   ]
  },
  {
   "cell_type": "code",
   "execution_count": null,
   "id": "be9aeebc",
   "metadata": {},
   "outputs": [],
   "source": []
  }
 ],
 "metadata": {
  "kernelspec": {
   "display_name": "Python 3",
   "language": "python",
   "name": "python3"
  },
  "language_info": {
   "codemirror_mode": {
    "name": "ipython",
    "version": 3
   },
   "file_extension": ".py",
   "mimetype": "text/x-python",
   "name": "python",
   "nbconvert_exporter": "python",
   "pygments_lexer": "ipython3",
   "version": "3.6.8"
  }
 },
 "nbformat": 4,
 "nbformat_minor": 5
}
