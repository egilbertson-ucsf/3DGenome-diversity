{
 "cells": [
  {
   "cell_type": "code",
   "execution_count": 1,
   "metadata": {},
   "outputs": [],
   "source": [
    "!source activate /home/gilbee3/anaconda3/envs/akita"
   ]
  },
  {
   "cell_type": "code",
   "execution_count": 2,
   "metadata": {},
   "outputs": [],
   "source": [
    "BASE_PATH = \"/\".join(os.getcwd().split(\"/\")) # base directory level\n",
    "\n",
    "BIN_PATH = os.path.join(BASE_PATH, \"bin\")  # where my scripts live\n",
    "DATA_PATH = os.path.join(BASE_PATH, \"data\")  # where I dump new data.\n",
    "RESULTS_PATH = os.path.join(BASE_PATH, \"results\")  # where I analyze results\n",
    "\n"
   ]
  },
  {
   "attachments": {},
   "cell_type": "markdown",
   "metadata": {},
   "source": [
    "# Functions"
   ]
  },
  {
   "cell_type": "code",
   "execution_count": null,
   "metadata": {},
   "outputs": [],
   "source": [
    "def dictionary_of_baseline_comparison_dfs(list_of_indivs, baseline):\n",
    "    comp_dict = {}\n",
    "\n",
    "    for ind in list_of_indivs:\n",
    "        filename = '3dcomp_%s_vs_%s.txt' % (ind, baseline)\n",
    "        filepath = '%s/%s' % (COMP_PATH,filename)\n",
    "        if os.path.exists(filepath):\n",
    "            df = pd.read_table(filepath)\n",
    "            df = df[df.chr != 'chrX']\n",
    "            comp_dict[ind] = df\n",
    "    \n",
    "    return df\n",
    "\n",
    "def create_genomewide_and_windowwise_summary_dfs(comp_dict, windows_to_keep):\n",
    "    indivs = comp_dict.keys()\n",
    "    window_divergence = pd.DataFrame(index = windows_to_keep, columns = indivs)\n",
    "    genome_wide = pd.DataFrame(index = indivs, columns = ['genome_avg_divergence', 'genome_avg_spearman','genome_avg_mse'])\n",
    "\n",
    "    genome_wide['temp'] = genome_wide.index\n",
    "    new = genome_wide.temp.str.split(\"_\", expand = True)\n",
    "    genome_wide['super_pop'] = new[0]\n",
    "    genome_wide['sub_pop'] = new[1]\n",
    "    genome_wide['sex'] = new[2]\n",
    "    genome_wide['id'] = new[3]\n",
    "    genome_wide = genome_wide.drop(columns=['temp'])\n",
    "\n",
    "    for ind in indivs:\n",
    "        df = comp_dict[ind]\n",
    "\n",
    "        avg_mse =float(np.mean(df['mse']))\n",
    "        avg_spearman = float(np.mean(df['spearman']))\n",
    "        avg_divergence = 1 - avg_spearman\n",
    "\n",
    "        genome_wide['genome_avg_mse'].loc[ind] = avg_mse\n",
    "        genome_wide['genome_avg_spearman'].loc[ind] = avg_spearman\n",
    "        genome_wide['genome_avg_divergence'].loc[ind] = avg_divergence\n",
    "\n",
    "        df = df.set_index(['chr','windowStartPos'])\n",
    "\n",
    "        window_divergence[ind] = 1 - df['spearman']\n",
    "\n",
    "    window_divergence.columns = window_divergence.columns.str.split('_')\n",
    "\n",
    "    return genome_wide, window_divergence\n"
   ]
  },
  {
   "attachments": {},
   "cell_type": "markdown",
   "metadata": {},
   "source": [
    "# 1KG vs Ancestral "
   ]
  },
  {
   "attachments": {},
   "cell_type": "markdown",
   "metadata": {},
   "source": [
    "## 3D Predictions"
   ]
  },
  {
   "cell_type": "code",
   "execution_count": null,
   "metadata": {},
   "outputs": [],
   "source": []
  },
  {
   "attachments": {},
   "cell_type": "markdown",
   "metadata": {},
   "source": [
    "## Sequence Comparisons"
   ]
  },
  {
   "cell_type": "markdown",
   "metadata": {},
   "source": []
  }
 ],
 "metadata": {
  "kernelspec": {
   "display_name": "Python 3",
   "language": "python",
   "name": "python3"
  },
  "orig_nbformat": 4
 },
 "nbformat": 4,
 "nbformat_minor": 2
}
