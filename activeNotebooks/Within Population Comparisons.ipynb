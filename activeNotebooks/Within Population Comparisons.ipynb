{
 "cells": [
  {
   "cell_type": "markdown",
   "metadata": {},
   "source": [
    "# Startup"
   ]
  },
  {
   "cell_type": "markdown",
   "metadata": {},
   "source": [
    "## Functions"
   ]
  },
  {
   "cell_type": "code",
   "execution_count": 4,
   "metadata": {},
   "outputs": [
    {
     "ename": "NameError",
     "evalue": "name 'pairs' is not defined",
     "output_type": "error",
     "traceback": [
      "\u001b[0;31m---------------------------------------------------------------------------\u001b[0m",
      "\u001b[0;31mNameError\u001b[0m                                 Traceback (most recent call last)",
      "\u001b[0;32m<ipython-input-4-829c8e82c758>\u001b[0m in \u001b[0;36m<module>\u001b[0;34m\u001b[0m\n\u001b[0;32m----> 1\u001b[0;31m \u001b[0mlist\u001b[0m\u001b[0;34m(\u001b[0m\u001b[0mpairs\u001b[0m\u001b[0;34m.\u001b[0m\u001b[0mkeys\u001b[0m\u001b[0;34m(\u001b[0m\u001b[0;34m)\u001b[0m\u001b[0;34m)\u001b[0m\u001b[0;34m\u001b[0m\u001b[0;34m\u001b[0m\u001b[0m\n\u001b[0m",
      "\u001b[0;31mNameError\u001b[0m: name 'pairs' is not defined"
     ]
    }
   ],
   "source": [
    "list(pairs.keys())"
   ]
  },
  {
   "cell_type": "code",
   "execution_count": null,
   "metadata": {},
   "outputs": [],
   "source": [
    "def within_pop_spearman(pop, super_pop):\n",
    "    pop_spear = []\n",
    "    comp_pairs = []\n",
    "    for indiv in super_pop[pop]:\n",
    "        for jndiv in super_pop[pop]:\n",
    "            if indiv ==jndiv:\n",
    "                pass\n",
    "            elif [indiv,jndiv] not in comp_pairs and [jndiv,indiv] not in comp_pairs:\n",
    "                try:\n",
    "                    pop_spear.append(pairs[indiv,jndiv].spearman.mean())\n",
    "                    comp_pairs.append([indiv,jndiv])\n",
    "                except:\n",
    "                    pop_spear.append(pairs[jndiv,indiv].spearman.mean())\n",
    "                    comp_pairs.append([jndiv,indiv])\n",
    "    return pop_spear\n",
    "\n",
    "def within_pop_mse_one_region(pop, super_pop):\n",
    "    pop_mse = []\n",
    "    comp_pairs = []\n",
    "    for indiv in super_pop[pop]:\n",
    "        for jndiv in super_pop[pop]:\n",
    "            if indiv == jndiv:\n",
    "                pass\n",
    "            elif [indiv,jndiv] not in comp_pairs and [jndiv,indiv] not in comp_pairs:\n",
    "                try:\n",
    "                    pop_mse.append(mses[(indiv,jndiv)])\n",
    "                    comp_pairs.append([indiv,jndiv])\n",
    "                except:\n",
    "                    pop_mse.append(mses[(jndiv,indiv)])\n",
    "                    comp_pairs.append([jndiv,indiv])\n",
    "\n",
    "    return pop_mse\n",
    "\n",
    "def within_pop_spearman_regions(chrm):\n",
    "    chrm_spear = []\n",
    "    for pos in regions_dict[chrm]:\n",
    "        pos_spear=[]\n",
    "        for pair in pairs:\n",
    "            spear = pairs[pair].spearman\n",
    "            pos_spear.append(spear)\n",
    "        chrm_spear.append(pos_spear)\n",
    "    return chrm_spear"
   ]
  },
  {
   "cell_type": "code",
   "execution_count": null,
   "metadata": {},
   "outputs": [],
   "source": []
  },
  {
   "cell_type": "code",
   "execution_count": null,
   "metadata": {},
   "outputs": [],
   "source": []
  },
  {
   "cell_type": "code",
   "execution_count": null,
   "metadata": {},
   "outputs": [],
   "source": []
  },
  {
   "cell_type": "code",
   "execution_count": 2,
   "metadata": {},
   "outputs": [],
   "source": [
    "def make_metrics_dict_whole_genome(pops_dict, code, wg):\n",
    "    pop_spears = {}\n",
    "    pop_mses = {}\n",
    "    for pop in pops_dict.keys():\n",
    "        pop_spears[pop] = within_pop_spearman(pop, pops_dict)\n",
    "        pop_mses[pop] = within_pop_mse(pop, pops_dict)\n",
    "\n",
    "    all_spears = []\n",
    "    all_mse = []\n",
    "    for pair in pairs:\n",
    "        if pair[0].startswith(code) and pair[1].startswith(code):\n",
    "            all_spears.append(pairs[pair].spearman.mean())\n",
    "            all_mse.append(pairs[pair].mse.mean())\n",
    "    pop_spears[str('all_'+code)] = all_spears\n",
    "    pop_mses[str('all_'+code)] = all_mse\n",
    "    \n",
    "    return pop_spears, pop_mses\n",
    "\n",
    "def make_metrics_dict_one_region(pops_dict, code):\n",
    "    pop_mses = {}\n",
    "    for pop in pops_dict.keys():\n",
    "        pop_mses[pop] = within_pop_mse_one_region(pop, pops_dict)\n",
    "    all_mse = []\n",
    "    for pair in pairs:\n",
    "        if pair[0].split('_')[0] != pair[1].split('_')[0]:\n",
    "            all_mse.append(mses[pair])\n",
    "    pop_mses[str('all')] = all_mse\n",
    "    return pop_mses"
   ]
  },
  {
   "cell_type": "code",
   "execution_count": null,
   "metadata": {},
   "outputs": [],
   "source": []
  },
  {
   "cell_type": "code",
   "execution_count": null,
   "metadata": {},
   "outputs": [],
   "source": []
  },
  {
   "cell_type": "code",
   "execution_count": null,
   "metadata": {},
   "outputs": [],
   "source": []
  },
  {
   "cell_type": "code",
   "execution_count": 3,
   "metadata": {},
   "outputs": [
    {
     "ename": "NameError",
     "evalue": "name 'make_metrics_dict' is not defined",
     "output_type": "error",
     "traceback": [
      "\u001b[0;31m---------------------------------------------------------------------------\u001b[0m",
      "\u001b[0;31mNameError\u001b[0m                                 Traceback (most recent call last)",
      "\u001b[0;32m<ipython-input-3-0dd090326508>\u001b[0m in \u001b[0;36m<module>\u001b[0;34m\u001b[0m\n\u001b[0;32m----> 1\u001b[0;31m \u001b[0mafr_spears\u001b[0m\u001b[0;34m,\u001b[0m \u001b[0mafr_mses\u001b[0m \u001b[0;34m=\u001b[0m \u001b[0mmake_metrics_dict\u001b[0m\u001b[0;34m(\u001b[0m\u001b[0mafr_pops\u001b[0m\u001b[0;34m,\u001b[0m \u001b[0;34m'AFR'\u001b[0m\u001b[0;34m)\u001b[0m\u001b[0;34m\u001b[0m\u001b[0;34m\u001b[0m\u001b[0m\n\u001b[0m\u001b[1;32m      2\u001b[0m \u001b[0mplot_subpop_avgs\u001b[0m\u001b[0;34m(\u001b[0m\u001b[0mafr_spears\u001b[0m\u001b[0;34m,\u001b[0m \u001b[0;34m'all_AFR'\u001b[0m\u001b[0;34m,\u001b[0m \u001b[0;34m'African'\u001b[0m\u001b[0;34m,\u001b[0m \u001b[0;34m'Spearman'\u001b[0m\u001b[0;34m)\u001b[0m\u001b[0;34m\u001b[0m\u001b[0;34m\u001b[0m\u001b[0m\n\u001b[1;32m      3\u001b[0m \u001b[0mplot_subpop_avgs\u001b[0m\u001b[0;34m(\u001b[0m\u001b[0mafr_mses\u001b[0m\u001b[0;34m,\u001b[0m \u001b[0;34m'all_AFR'\u001b[0m\u001b[0;34m,\u001b[0m \u001b[0;34m'African'\u001b[0m\u001b[0;34m,\u001b[0m \u001b[0;34m'MSDiff'\u001b[0m\u001b[0;34m)\u001b[0m\u001b[0;34m\u001b[0m\u001b[0;34m\u001b[0m\u001b[0m\n",
      "\u001b[0;31mNameError\u001b[0m: name 'make_metrics_dict' is not defined"
     ]
    }
   ],
   "source": [
    "afr_spears, afr_mses = make_metrics_dict(afr_pops, 'AFR')\n",
    "plot_subpop_avgs(afr_spears, 'all_AFR', 'African', 'Spearman')\n",
    "plot_subpop_avgs(afr_mses, 'all_AFR', 'African', 'MSDiff')"
   ]
  },
  {
   "cell_type": "markdown",
   "metadata": {},
   "source": [
    "##"
   ]
  }
 ],
 "metadata": {
  "kernelspec": {
   "display_name": "Python 3",
   "language": "python",
   "name": "python3"
  },
  "language_info": {
   "codemirror_mode": {
    "name": "ipython",
    "version": 3
   },
   "file_extension": ".py",
   "mimetype": "text/x-python",
   "name": "python",
   "nbconvert_exporter": "python",
   "pygments_lexer": "ipython3",
   "version": "3.6.10"
  }
 },
 "nbformat": 4,
 "nbformat_minor": 4
}
