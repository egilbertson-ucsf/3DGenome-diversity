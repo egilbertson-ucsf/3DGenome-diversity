{
 "cells": [
  {
   "cell_type": "code",
   "execution_count": 2,
   "metadata": {},
   "outputs": [],
   "source": [
    "import os"
   ]
  },
  {
   "cell_type": "code",
   "execution_count": 4,
   "metadata": {},
   "outputs": [],
   "source": [
    "BASE_PATH = \"/\".join(os.getcwd().split(\"/\")) # base directory level\n",
    "#Wynton\n",
    "BIN_PATH = os.path.join(BASE_PATH, \"bin\")  # where my scripts live\n",
    "DATA_PATH = os.path.join(BASE_PATH, \"data\")  # where I dump new data \n",
    "RESULTS_PATH = os.path.join(BASE_PATH, \"results\")  # where I analyze results\n",
    "\n",
    "SRC_PATH = os.path.join(BASE_PATH, \"src\")  # where any packages needed to run analyses live. I haven't started structuring things this way yet. \n",
    "\n",
    "COMP_PATH = os.path.join(DATA_PATH,\"pairwise/hsmrca\")\n",
    "COMP_PATH = os.path.join(DATA_PATH,\"pairwise/reference\")\n",
    "\n",
    "EXP_PATH = os.path.join(DATA_PATH, \"experimental\")\n"
   ]
  },
  {
   "cell_type": "code",
   "execution_count": 5,
   "metadata": {},
   "outputs": [
    {
     "data": {
      "text/plain": [
       "'/wynton/group/capra/projects/modern_human_3Dgenome/data/experimental'"
      ]
     },
     "execution_count": 5,
     "metadata": {},
     "output_type": "execute_result"
    }
   ],
   "source": [
    "EXP_PATH"
   ]
  },
  {
   "cell_type": "code",
   "execution_count": 7,
   "metadata": {},
   "outputs": [],
   "source": [
    "sample = 'HG00864_GCAATTCC-CCACAACA_HF35FDSXY_L002_001'\n",
    "\n",
    "fastq1 = '%s/%s.R1.fastq' % (EXP_PATH, sample)\n",
    "fastq2 = '%s/%s.R2.fastq' % (EXP_PATH, sample)\n",
    "\n",
    "prefix = sample.split('_')[0]\n",
    "nThreads = 1\n",
    "outdir = EXP_PATH"
   ]
  },
  {
   "cell_type": "code",
   "execution_count": 17,
   "metadata": {},
   "outputs": [
    {
     "name": "stdout",
     "output_type": "stream",
     "text": [
      "\u001b[1;31mLmod has detected the following error: \u001b[0m Cannot load miniconda3\n",
      "module, because another conda installation is already enabled (detected\n",
      "environment variable\n",
      "CONDA_EXE='/wynton/home/cbi/shared/software/CBI/miniconda3-4.12.0-py39/bin/conda').\n",
      "Have you installed conda on your own? If so, run 'conda config --set\n",
      "auto_activate_base false' and then log out and log back in again. If that is\n",
      "not sufficient, please run 'conda init --reverse' and log out and back in\n",
      "again. \n",
      "While processing the following module(s):\n",
      "    Module fullname         Module Filename\n",
      "    ---------------         ---------------\n",
      "    miniconda3/4.12.0-py39  /wynton/home/cbi/shared/modulefiles/CBI/miniconda3/4.12.0-py39.lua\n",
      "\n",
      "\n",
      "CommandNotFoundError: Your shell has not been properly configured to use 'conda activate'.\n",
      "To initialize your shell, run\n",
      "\n",
      "    $ conda init <SHELL_NAME>\n",
      "\n",
      "Currently supported shells are:\n",
      "  - bash\n",
      "  - fish\n",
      "  - tcsh\n",
      "  - xonsh\n",
      "  - zsh\n",
      "  - powershell\n",
      "\n",
      "See 'conda init --help' for more information and options.\n",
      "\n",
      "IMPORTANT: You may need to close and restart your shell after running 'conda init'.\n",
      "\n",
      "\n",
      "mkdir: cannot create directory ‘QC_R1’: File exists\n",
      "mkdir: cannot create directory ‘QC_R2’: File exists\n"
     ]
    }
   ],
   "source": [
    "!bash bin/HiC_to_Akita/fastq_to_pairs.sh $fastq1 $fastq2 $prefix $nThreads $outdir"
   ]
  },
  {
   "cell_type": "code",
   "execution_count": 11,
   "metadata": {},
   "outputs": [
    {
     "name": "stdout",
     "output_type": "stream",
     "text": [
      "/wynton/group/capra/projects/modern_human_3Dgenome\n"
     ]
    }
   ],
   "source": [
    "!pwd"
   ]
  },
  {
   "cell_type": "code",
   "execution_count": null,
   "metadata": {},
   "outputs": [],
   "source": []
  },
  {
   "cell_type": "code",
   "execution_count": null,
   "metadata": {},
   "outputs": [],
   "source": []
  }
 ],
 "metadata": {
  "kernelspec": {
   "display_name": "Python 3 (ipykernel)",
   "language": "python",
   "name": "python3"
  },
  "language_info": {
   "codemirror_mode": {
    "name": "ipython",
    "version": 3
   },
   "file_extension": ".py",
   "mimetype": "text/x-python",
   "name": "python",
   "nbconvert_exporter": "python",
   "pygments_lexer": "ipython3",
   "version": "3.9.16"
  },
  "orig_nbformat": 4
 },
 "nbformat": 4,
 "nbformat_minor": 2
}
