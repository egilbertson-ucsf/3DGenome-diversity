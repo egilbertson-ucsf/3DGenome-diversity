{
 "cells": [
  {
   "cell_type": "code",
   "execution_count": 1,
   "metadata": {},
   "outputs": [],
   "source": [
    "import os"
   ]
  },
  {
   "cell_type": "code",
   "execution_count": 2,
   "metadata": {},
   "outputs": [],
   "source": [
    "BASE_PATH = \"/\".join(os.getcwd().split(\"/\")) # base directory level\n",
    "#Wynton\n",
    "BIN_PATH = os.path.join(BASE_PATH, \"bin\")  # where my scripts live\n",
    "DATA_PATH = os.path.join(BASE_PATH, \"data\")  # where I dump new data \n",
    "RESULTS_PATH = os.path.join(BASE_PATH, \"results\")  # where I analyze results\n",
    "\n",
    "SRC_PATH = os.path.join(BASE_PATH, \"src\")  # where any packages needed to run analyses live. I haven't started structuring things this way yet. \n",
    "\n",
    "COMP_PATH = os.path.join(DATA_PATH,\"pairwise/hsmrca\")\n",
    "COMP_PATH = os.path.join(DATA_PATH,\"pairwise/reference\")\n",
    "\n",
    "EXP_PATH = os.path.join(DATA_PATH, \"experimental\")\n"
   ]
  },
  {
   "cell_type": "code",
   "execution_count": 3,
   "metadata": {},
   "outputs": [
    {
     "data": {
      "text/plain": [
       "'/wynton/group/capra/projects/modern_human_3Dgenome/data/experimental'"
      ]
     },
     "execution_count": 3,
     "metadata": {},
     "output_type": "execute_result"
    }
   ],
   "source": [
    "EXP_PATH"
   ]
  },
  {
   "cell_type": "code",
   "execution_count": 4,
   "metadata": {},
   "outputs": [],
   "source": [
    "sample = 'HG00864_GCAATTCC-CCACAACA_HF35FDSXY_L002_001'\n",
    "\n",
    "fastq1 = '%s/%s.R1.fastq' % (EXP_PATH, sample)\n",
    "fastq2 = '%s/%s.R2.fastq' % (EXP_PATH, sample)\n",
    "\n",
    "prefix = sample.split('_')[0]\n",
    "nThreads = 1\n",
    "outdir = EXP_PATH"
   ]
  },
  {
   "cell_type": "code",
   "execution_count": 6,
   "metadata": {},
   "outputs": [
    {
     "name": "stdout",
     "output_type": "stream",
     "text": [
      "mkdir: cannot create directory ‘QC_R1’: File exists\n",
      "mkdir: cannot create directory ‘QC_R2’: File exists\n",
      "text/plain\n",
      "Started analysis of HG00864_GCAATTCC-CCACAACA_HF35FDSXY_L002_001.R1.fastq\n",
      "Analysis complete for HG00864_GCAATTCC-CCACAACA_HF35FDSXY_L002_001.R1.fastq\n",
      "text/plain\n",
      "Started analysis of HG00864_GCAATTCC-CCACAACA_HF35FDSXY_L002_001.R2.fastq\n",
      "Analysis complete for HG00864_GCAATTCC-CCACAACA_HF35FDSXY_L002_001.R2.fastq\n",
      "[M::bwa_idx_load_from_disk] read 0 ALT contigs\n",
      "[M::process] read 356 sequences (53400 bp)...\n",
      "[M::mem_pestat] # candidate unique pairs for (FF, FR, RF, RR): (3, 62, 6, 6)\n",
      "[M::mem_pestat] skip orientation FF as there are not enough pairs\n",
      "[M::mem_pestat] analyzing insert size distribution for orientation FR...\n",
      "[M::mem_pestat] (25, 50, 75) percentile: (142, 204, 314)\n",
      "[M::mem_pestat] low and high boundaries for computing mean and std.dev: (1, 658)\n",
      "[M::mem_pestat] mean and std.dev: (226.38, 117.51)\n",
      "[M::mem_pestat] low and high boundaries for proper pairs: (1, 830)\n",
      "[M::mem_pestat] skip orientation RF as there are not enough pairs\n",
      "[M::mem_pestat] skip orientation RR as there are not enough pairs\n",
      "[M::mem_process_seqs] Processed 356 reads in 0.678 CPU sec, 0.678 real sec\n",
      "[main] Version: 0.7.17-r1188\n",
      "[main] CMD: bwa mem -t 1 -SP5M /wynton/group/capra/projects/modern_human_3Dgenome/data/genomes/hg38_reference.fa /wynton/group/capra/projects/modern_human_3Dgenome/data/experimental/HG00864_GCAATTCC-CCACAACA_HF35FDSXY_L002_001.R1.fastq /wynton/group/capra/projects/modern_human_3Dgenome/data/experimental/HG00864_GCAATTCC-CCACAACA_HF35FDSXY_L002_001.R2.fastq\n",
      "[main] Real time: 17.303 sec; CPU: 6.759 sec\n"
     ]
    }
   ],
   "source": [
    "!bash bin/HiC_to_Akita/fastq_to_pairs.sh $fastq1 $fastq2 $prefix $nThreads $outdir"
   ]
  },
  {
   "cell_type": "code",
   "execution_count": null,
   "metadata": {},
   "outputs": [],
   "source": []
  },
  {
   "cell_type": "code",
   "execution_count": 11,
   "metadata": {},
   "outputs": [
    {
     "name": "stdout",
     "output_type": "stream",
     "text": [
      "/wynton/group/capra/projects/modern_human_3Dgenome\n"
     ]
    }
   ],
   "source": [
    "!pwd"
   ]
  },
  {
   "cell_type": "code",
   "execution_count": null,
   "metadata": {},
   "outputs": [],
   "source": []
  },
  {
   "cell_type": "code",
   "execution_count": null,
   "metadata": {},
   "outputs": [],
   "source": []
  }
 ],
 "metadata": {
  "kernelspec": {
   "display_name": "Python 3 (ipykernel)",
   "language": "python",
   "name": "python3"
  },
  "language_info": {
   "codemirror_mode": {
    "name": "ipython",
    "version": 3
   },
   "file_extension": ".py",
   "mimetype": "text/x-python",
   "name": "python",
   "nbconvert_exporter": "python",
   "pygments_lexer": "ipython3",
   "version": "3.9.16"
  },
  "orig_nbformat": 4
 },
 "nbformat": 4,
 "nbformat_minor": 2
}
