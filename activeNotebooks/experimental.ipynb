{
 "cells": [
  {
   "cell_type": "code",
   "execution_count": 2,
   "metadata": {},
   "outputs": [],
   "source": [
    "import os"
   ]
  },
  {
   "cell_type": "code",
   "execution_count": 4,
   "metadata": {},
   "outputs": [],
   "source": [
    "BASE_PATH = \"/\".join(os.getcwd().split(\"/\")) # base directory level\n",
    "#Wynton\n",
    "BIN_PATH = os.path.join(BASE_PATH, \"bin\")  # where my scripts live\n",
    "DATA_PATH = os.path.join(BASE_PATH, \"data\")  # where I dump new data \n",
    "RESULTS_PATH = os.path.join(BASE_PATH, \"results\")  # where I analyze results\n",
    "\n",
    "SRC_PATH = os.path.join(BASE_PATH, \"src\")  # where any packages needed to run analyses live. I haven't started structuring things this way yet. \n",
    "\n",
    "COMP_PATH = os.path.join(DATA_PATH,\"pairwise/hsmrca\")\n",
    "COMP_PATH = os.path.join(DATA_PATH,\"pairwise/reference\")\n",
    "\n",
    "EXP_PATH = os.path.join(DATA_PATH, \"experimental\")\n"
   ]
  },
  {
   "cell_type": "code",
   "execution_count": 5,
   "metadata": {},
   "outputs": [
    {
     "data": {
      "text/plain": [
       "'/wynton/group/capra/projects/modern_human_3Dgenome/data/experimental'"
      ]
     },
     "execution_count": 5,
     "metadata": {},
     "output_type": "execute_result"
    }
   ],
   "source": [
    "EXP_PATH"
   ]
  },
  {
   "cell_type": "code",
   "execution_count": 7,
   "metadata": {},
   "outputs": [],
   "source": [
    "sample = 'HG00864_GCAATTCC-CCACAACA_HF35FDSXY_L002_001'\n",
    "\n",
    "fastq1 = '%s/%s.R1.fastq' % (EXP_PATH, sample)\n",
    "fastq2 = '%s/%s.R2.fastq' % (EXP_PATH, sample)\n",
    "\n",
    "prefix = sample.split('_')[0]\n",
    "nThreads = 1\n",
    "outdir = EXP_PATH"
   ]
  },
  {
   "cell_type": "code",
   "execution_count": 23,
   "metadata": {},
   "outputs": [
    {
     "name": "stdout",
     "output_type": "stream",
     "text": [
      "mkdir: cannot create directory ‘QC_R1’: File exists\n",
      "mkdir: cannot create directory ‘QC_R2’: File exists\n",
      "[bwa_index] Pack FASTA... 33.69 sec\n",
      "[bwa_index] Construct BWT for the packed sequence...\n",
      "[BWTIncCreate] textLength=6544233900, availableWord=472476304\n",
      "[BWTIncConstructFromPacked] 10 iterations done. 99999996 characters processed.\n",
      "[BWTIncConstructFromPacked] 20 iterations done. 199999996 characters processed.\n",
      "[BWTIncConstructFromPacked] 30 iterations done. 299999996 characters processed.\n",
      "[BWTIncConstructFromPacked] 40 iterations done. 399999996 characters processed.\n",
      "[BWTIncConstructFromPacked] 50 iterations done. 499999996 characters processed.\n",
      "[BWTIncConstructFromPacked] 60 iterations done. 599999996 characters processed.\n",
      "[BWTIncConstructFromPacked] 70 iterations done. 699999996 characters processed.\n",
      "[BWTIncConstructFromPacked] 80 iterations done. 799999996 characters processed.\n",
      "[BWTIncConstructFromPacked] 90 iterations done. 899999996 characters processed.\n",
      "[BWTIncConstructFromPacked] 100 iterations done. 999999996 characters processed.\n",
      "[BWTIncConstructFromPacked] 110 iterations done. 1099999996 characters processed.\n",
      "[BWTIncConstructFromPacked] 120 iterations done. 1199999996 characters processed.\n",
      "[BWTIncConstructFromPacked] 130 iterations done. 1299999996 characters processed.\n",
      "[BWTIncConstructFromPacked] 140 iterations done. 1399999996 characters processed.\n",
      "[BWTIncConstructFromPacked] 150 iterations done. 1499999996 characters processed.\n",
      "[BWTIncConstructFromPacked] 160 iterations done. 1599999996 characters processed.\n"
     ]
    }
   ],
   "source": [
    "!bash bin/HiC_to_Akita/fastq_to_pairs.sh $fastq1 $fastq2 $prefix $nThreads $outdir"
   ]
  },
  {
   "cell_type": "code",
   "execution_count": null,
   "metadata": {},
   "outputs": [],
   "source": []
  },
  {
   "cell_type": "code",
   "execution_count": 11,
   "metadata": {},
   "outputs": [
    {
     "name": "stdout",
     "output_type": "stream",
     "text": [
      "/wynton/group/capra/projects/modern_human_3Dgenome\n"
     ]
    }
   ],
   "source": [
    "!pwd"
   ]
  },
  {
   "cell_type": "code",
   "execution_count": null,
   "metadata": {},
   "outputs": [],
   "source": []
  },
  {
   "cell_type": "code",
   "execution_count": null,
   "metadata": {},
   "outputs": [],
   "source": []
  }
 ],
 "metadata": {
  "kernelspec": {
   "display_name": "Python 3 (ipykernel)",
   "language": "python",
   "name": "python3"
  },
  "language_info": {
   "codemirror_mode": {
    "name": "ipython",
    "version": 3
   },
   "file_extension": ".py",
   "mimetype": "text/x-python",
   "name": "python",
   "nbconvert_exporter": "python",
   "pygments_lexer": "ipython3",
   "version": "3.9.16"
  },
  "orig_nbformat": 4
 },
 "nbformat": 4,
 "nbformat_minor": 2
}
