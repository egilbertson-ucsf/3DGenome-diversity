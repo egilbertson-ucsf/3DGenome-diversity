{
 "cells": [
  {
   "cell_type": "code",
   "execution_count": 11,
   "id": "9e7abfb9",
   "metadata": {},
   "outputs": [],
   "source": [
    "import os\n",
    "import configparser"
   ]
  },
  {
   "cell_type": "code",
   "execution_count": 12,
   "id": "4224969f",
   "metadata": {},
   "outputs": [],
   "source": [
    "BASE_PATH = os.getcwd()\n",
    "configfile_name = \"/wynton/group/capra/projects/modern_human_3Dgenome/bin/sequenceComps/config_pairwise_comps_sequence_1KGvsHSMRCA.ini\" #name the config file"
   ]
  },
  {
   "cell_type": "code",
   "execution_count": 13,
   "id": "aa338e68",
   "metadata": {},
   "outputs": [],
   "source": [
    "config = configparser.ConfigParser()"
   ]
  },
  {
   "cell_type": "code",
   "execution_count": 14,
   "id": "10a51f8f",
   "metadata": {},
   "outputs": [
    {
     "data": {
      "text/plain": [
       "'/wynton/group/capra/projects/modern_human_3Dgenome/bin/activeNotebooks'"
      ]
     },
     "execution_count": 14,
     "metadata": {},
     "output_type": "execute_result"
    }
   ],
   "source": [
    "BASE_PATH"
   ]
  },
  {
   "cell_type": "markdown",
   "id": "33a95956",
   "metadata": {},
   "source": [
    "## set params and paths"
   ]
  },
  {
   "cell_type": "code",
   "execution_count": 15,
   "id": "c192c38a",
   "metadata": {},
   "outputs": [],
   "source": [
    "# Paths\n",
    "BASE_PATH = \"/\".join(os.getcwd().split(\"/\")[:-2]) # base directory level\n",
    "\n",
    "BIN_PATH = os.path.join(BASE_PATH, \"bin\")  # where my scripts live\n",
    "DATA_PATH = os.path.join(BASE_PATH, \"data\")  # where I dump new data.\n",
    "RESULTS_PATH = os.path.join(BASE_PATH, \"results\")  # where I analyze results\n",
    "\n",
    "SRC_PATH = os.path.join(BASE_PATH, \"src\")  # where any packages needed to run analyses live. I haven't started structuring things this way yet. \n"
   ]
  },
  {
   "cell_type": "code",
   "execution_count": 16,
   "id": "a833f3dd",
   "metadata": {},
   "outputs": [],
   "source": [
    "FASTA_PATH = os.path.join(DATA_PATH,\"genomes\")\n",
    "OUT_PATH = os.path.join(DATA_PATH,\"pairwise/sequence/1KGvsHSMRCA\")"
   ]
  },
  {
   "cell_type": "code",
   "execution_count": 17,
   "id": "9c0be016",
   "metadata": {},
   "outputs": [],
   "source": [
    "LAUNCH_RUN_COMPS = os.path.join(BIN_PATH, 'sequenceComps', 'runSeqComps.sh')\n",
    "\n",
    "RUN_COMPS_INDIV = os.path.join(BIN_PATH, 'sequenceComps', 'runSeqComparisons.py')"
   ]
  },
  {
   "cell_type": "code",
   "execution_count": 18,
   "id": "c4adc747",
   "metadata": {},
   "outputs": [],
   "source": [
    "COMP_LIST = os.path.join(DATA_PATH,'reference/lists/listOfPairwiseComps_hsmrca.txt')\n",
    "GENOME_CHUNKS = '/wynton/group/capra/projects/modern_human_3Dgenome/data/reference/genome_chunks_large.txt'"
   ]
  },
  {
   "cell_type": "markdown",
   "id": "fb1d6daf",
   "metadata": {},
   "source": [
    "### Writing .ini file"
   ]
  },
  {
   "cell_type": "code",
   "execution_count": 19,
   "id": "be52fc79",
   "metadata": {},
   "outputs": [],
   "source": [
    "config[\"FILE\"] = {\n",
    "    \"GENOME_CHUNKS\":GENOME_CHUNKS,\n",
    "    \"COMP_LIST\":COMP_LIST\n",
    "}\n",
    "\n",
    "config[\"PATH\"] = {\n",
    "    \"BASE_PATH\":BASE_PATH,\n",
    "    \"BIN_PATH\":BIN_PATH,\n",
    "    \"DATA_PATH\":DATA_PATH,\n",
    "    \"RESULTS_PATH\":RESULTS_PATH,\n",
    "    \"SRC_PATH\":SRC_PATH,\n",
    "    \"FASTA_PATH\":FASTA_PATH,\n",
    "    \"OUT_PATH\":OUT_PATH\n",
    "}\n",
    "\n",
    "config[\"BIN\"] = {\n",
    "    \"LAUNCH_RUN_COMPS\":LAUNCH_RUN_COMPS,\n",
    "    \"RUN_COMPS_INDIV\":RUN_COMPS_INDIV\n",
    "}"
   ]
  },
  {
   "cell_type": "markdown",
   "id": "89a19aaf",
   "metadata": {},
   "source": [
    "### Write config file"
   ]
  },
  {
   "cell_type": "code",
   "execution_count": 20,
   "id": "7ded1d3f",
   "metadata": {},
   "outputs": [],
   "source": [
    "if not os.path.isfile(configfile_name):\n",
    "    with open(configfile_name, 'w') as configfile:\n",
    "        config.write(configfile)  # write the config\n",
    "        configfile.close()"
   ]
  },
  {
   "cell_type": "code",
   "execution_count": null,
   "id": "414955cc",
   "metadata": {},
   "outputs": [],
   "source": []
  },
  {
   "cell_type": "code",
   "execution_count": null,
   "id": "4b0c61d1",
   "metadata": {},
   "outputs": [],
   "source": []
  }
 ],
 "metadata": {
  "kernelspec": {
   "display_name": "Python 3",
   "language": "python",
   "name": "python3"
  },
  "language_info": {
   "codemirror_mode": {
    "name": "ipython",
    "version": 3
   },
   "file_extension": ".py",
   "mimetype": "text/x-python",
   "name": "python",
   "nbconvert_exporter": "python",
   "pygments_lexer": "ipython3",
   "version": "3.6.8"
  }
 },
 "nbformat": 4,
 "nbformat_minor": 5
}
