{
 "cells": [
  {
   "cell_type": "code",
   "execution_count": 1,
   "id": "9e7abfb9",
   "metadata": {},
   "outputs": [],
   "source": [
    "import os\n",
    "import configparser"
   ]
  },
  {
   "cell_type": "code",
   "execution_count": 2,
   "id": "4224969f",
   "metadata": {},
   "outputs": [],
   "source": [
    "BASE_PATH = os.getcwd()\n",
    "configfile_name = os.path.join(BASE_PATH, \"config_makeFASTA_1KG_related_SNVs.ini\") #name the config file"
   ]
  },
  {
   "cell_type": "code",
   "execution_count": 3,
   "id": "519f342f",
   "metadata": {},
   "outputs": [
    {
     "data": {
      "text/plain": [
       "'/wynton/group/capra/projects/modern_human_3Dgenome/bin/activeNotebooks'"
      ]
     },
     "execution_count": 3,
     "metadata": {},
     "output_type": "execute_result"
    }
   ],
   "source": [
    "BASE_PATH"
   ]
  },
  {
   "cell_type": "markdown",
   "id": "e633ff3c",
   "metadata": {},
   "source": [
    "### call configparser"
   ]
  },
  {
   "cell_type": "code",
   "execution_count": 4,
   "id": "aa338e68",
   "metadata": {},
   "outputs": [],
   "source": [
    "config = configparser.ConfigParser()"
   ]
  },
  {
   "cell_type": "markdown",
   "id": "15b73d31",
   "metadata": {},
   "source": [
    "### set parameters"
   ]
  },
  {
   "cell_type": "code",
   "execution_count": 5,
   "id": "b4634b72",
   "metadata": {},
   "outputs": [],
   "source": [
    "# prefix on VCF files\n",
    "VCF_PFX = 'ALL.chr'\n",
    "#suffix on VCF files\n",
    "VCF_SFX = '.shapeit2_integrated_snvindels_v2a_related_samples_27022019.GRCh38.phased.vcf.gz'\n",
    "LIST = '1kg_indivs_related.txt'"
   ]
  },
  {
   "cell_type": "markdown",
   "id": "c4376aba",
   "metadata": {},
   "source": [
    "### set paths"
   ]
  },
  {
   "cell_type": "code",
   "execution_count": 6,
   "id": "47133fa5",
   "metadata": {},
   "outputs": [],
   "source": [
    "# Paths\n",
    "BASE_PATH = \"/\".join(os.getcwd().split(\"/\")[:-2]) # base directory level\n",
    "\n",
    "BIN_PATH = os.path.join(BASE_PATH, \"bin\")  # where my scripts live\n",
    "DATA_PATH = os.path.join(BASE_PATH, \"data\")  # where I dump new data.\n",
    "RESULTS_PATH = os.path.join(BASE_PATH, \"results\")  # where I analyze results\n",
    "\n",
    "SRC_PATH = os.path.join(BASE_PATH, \"src\")  # where any packages needed to run analyses live. I haven't started structuring things this way yet. \n"
   ]
  },
  {
   "cell_type": "code",
   "execution_count": 7,
   "id": "1f690acb",
   "metadata": {},
   "outputs": [
    {
     "data": {
      "text/plain": [
       "'/wynton/group/capra/projects/modern_human_3Dgenome'"
      ]
     },
     "execution_count": 7,
     "metadata": {},
     "output_type": "execute_result"
    }
   ],
   "source": [
    "BASE_PATH"
   ]
  },
  {
   "cell_type": "code",
   "execution_count": 7,
   "id": "d707366b",
   "metadata": {},
   "outputs": [],
   "source": [
    "# lists of individuals to make FASTA genomes for, I have the 1KG set divided by population so there is an individual list file for each population\n",
    "LIST_PATH = os.path.join(DATA_PATH, 'reference','lists', 'makeFASTAlists')\n",
    "\n",
    "# path to VCF files for the individuals\n",
    "VCF_PATH='/wynton/group/capra/data/wynton_databases/1000_genomes/release/20190312_biallelic_SNV_and_INDEL/supporting/related_samples'\n",
    "#path to reference genome chromosome sizes\n",
    "CHR_PATH='/wynton/group/capra/data/wynton_databases/goldenPath/hg38/bigZips/latest/hg38.chrom.sizes'\n",
    "# path to file that just contains the VCF header for the relevant VCF files\n",
    "VCF_HEAD='/wynton/home/capra/egilbertson/data/vcf.header.txt'\n",
    "# path to human reference genome \n",
    "REF_PATH='/wynton/home/capra/egilbertson/data/human_genome/chrms'\n",
    "\n",
    "#path to output\n",
    "FASTA_OUT_PATH=os.path.join(DATA_PATH, \"genomes/1kg_related\")"
   ]
  },
  {
   "cell_type": "code",
   "execution_count": 8,
   "id": "63c7c842",
   "metadata": {},
   "outputs": [
    {
     "data": {
      "text/plain": [
       "'/wynton/group/capra/projects/modern_human_3Dgenome/data/genomes/1kg_related'"
      ]
     },
     "execution_count": 8,
     "metadata": {},
     "output_type": "execute_result"
    }
   ],
   "source": [
    "FASTA_OUT_PATH"
   ]
  },
  {
   "cell_type": "markdown",
   "id": "ea950532",
   "metadata": {},
   "source": [
    "### set path to scripts (bins)"
   ]
  },
  {
   "cell_type": "code",
   "execution_count": 9,
   "id": "4ada3010",
   "metadata": {},
   "outputs": [],
   "source": [
    "LAUNCH_MAKE_FASTA = os.path.join(BIN_PATH, 'makeFASTA', 'launch.make.genome.1KG.sh')\n",
    "\n",
    "MAKE_FASTA_INDIV = os.path.join(BIN_PATH, 'makeFASTA', '/wynton/group/capra/projects/modern_human_3Dgenome/bin/makeFASTA/make.genome.1KG.one_indiv.sh')\n",
    "\n",
    "MAKE_FASTA_CHRM = os.path.join(BIN_PATH, 'makeFASTA', 'make.genome.1KG.one_chromosome.sh')"
   ]
  },
  {
   "cell_type": "markdown",
   "id": "fb1d6daf",
   "metadata": {},
   "source": [
    "### Writing .ini file"
   ]
  },
  {
   "cell_type": "code",
   "execution_count": 10,
   "id": "be52fc79",
   "metadata": {},
   "outputs": [],
   "source": [
    "config[\"PARAMS\"] = {\n",
    "    \"VCF_PFX\":VCF_PFX, \n",
    "    \"VCF_SFX\":VCF_SFX,\n",
    "    \"LIST\":LIST\n",
    "}\n",
    "\n",
    "config[\"PATH\"] = {\n",
    "    \"BASE_PATH\":BASE_PATH,\n",
    "    \"BIN_PATH\":BIN_PATH,\n",
    "    \"DATA_PATH\":DATA_PATH,\n",
    "    \"RESULTS_PATH\":RESULTS_PATH,\n",
    "    \"SRC_PATH\":SRC_PATH,\n",
    "    \"LIST_PATH\":LIST_PATH,\n",
    "    \"VCF_PATH\":VCF_PATH,\n",
    "    \"CHR_PATH\":CHR_PATH,\n",
    "    \"VCF_HEAD\":VCF_HEAD,\n",
    "    \"REF_PATH\":REF_PATH,\n",
    "    \"FASTA_OUT_PATH\":FASTA_OUT_PATH\n",
    "}\n",
    "\n",
    "config[\"BIN\"] = {\n",
    "    \"LAUNCH_MAKE_FASTA\":LAUNCH_MAKE_FASTA,\n",
    "    \"MAKE_FASTA_INDIV\":MAKE_FASTA_INDIV,\n",
    "    \"MAKE_FASTA_CHRM\":MAKE_FASTA_CHRM\n",
    "}"
   ]
  },
  {
   "cell_type": "markdown",
   "id": "89a19aaf",
   "metadata": {},
   "source": [
    "### Write config file"
   ]
  },
  {
   "cell_type": "code",
   "execution_count": 11,
   "id": "7ded1d3f",
   "metadata": {},
   "outputs": [],
   "source": [
    "if not os.path.isfile(configfile_name):\n",
    "    with open(configfile_name, 'w') as configfile:\n",
    "        config.write(configfile)  # write the config\n",
    "        configfile.close()"
   ]
  },
  {
   "cell_type": "markdown",
   "id": "1f4eb380",
   "metadata": {},
   "source": [
    "### Read config file"
   ]
  },
  {
   "cell_type": "code",
   "execution_count": 52,
   "id": "0718d92e",
   "metadata": {},
   "outputs": [
    {
     "data": {
      "text/plain": [
       "['/wynton/group/capra/projects/modern_human_3Dgenome/bin/activeNotebooks/config_makeFASTA_1KG_SNVs.ini']"
      ]
     },
     "execution_count": 52,
     "metadata": {},
     "output_type": "execute_result"
    }
   ],
   "source": [
    "DEV = True\n",
    "if DEV is True:  \n",
    "    BASE_PATH = os.getcwd()\n",
    "    configfile_name = os.path.join(BASE_PATH, \"config_makeFASTA_1KG_SNVs.ini\") \n",
    "else:   \n",
    "    # if running a script/pipeline in command line,\n",
    "    # you can import the config file \n",
    "    configfile_name = sys.argv[1]  \n",
    "    \n",
    "config = configparser.ConfigParser()\n",
    "config.read(configfile_name)"
   ]
  },
  {
   "cell_type": "code",
   "execution_count": 53,
   "id": "d793459a",
   "metadata": {},
   "outputs": [],
   "source": [
    "del configfile_name"
   ]
  },
  {
   "cell_type": "code",
   "execution_count": 54,
   "id": "6af56c8c",
   "metadata": {},
   "outputs": [
    {
     "data": {
      "text/plain": [
       "['PARAMS', 'PATH', 'BIN']"
      ]
     },
     "execution_count": 54,
     "metadata": {},
     "output_type": "execute_result"
    }
   ],
   "source": [
    "config.sections()"
   ]
  },
  {
   "cell_type": "code",
   "execution_count": 55,
   "id": "0f23875c",
   "metadata": {},
   "outputs": [
    {
     "data": {
      "text/plain": [
       "'/wynton/group/capra/projects/modern_human_3Dgenome/bin/makeFASTA/make.genome.1KG.one_chromosome.sh'"
      ]
     },
     "execution_count": 55,
     "metadata": {},
     "output_type": "execute_result"
    }
   ],
   "source": [
    "config.get(\"BIN\",\"make_fasta_chrm\")"
   ]
  },
  {
   "cell_type": "code",
   "execution_count": null,
   "id": "27322296",
   "metadata": {},
   "outputs": [],
   "source": []
  }
 ],
 "metadata": {
  "kernelspec": {
   "display_name": "Python 3",
   "language": "python",
   "name": "python3"
  }
 },
 "nbformat": 4,
 "nbformat_minor": 5
}
