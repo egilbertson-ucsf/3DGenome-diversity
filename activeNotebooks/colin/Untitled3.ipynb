{
 "cells": [
  {
   "cell_type": "code",
   "execution_count": 1,
   "id": "5dbe61f6",
   "metadata": {},
   "outputs": [],
   "source": [
    "from matplotlib import colors\n",
    "from matplotlib.patches import Rectangle\n",
    "from matplotlib.transforms import Affine2D\n",
    "from mpl_toolkits.axisartist.grid_finder import DictFormatter\n",
    "import json\n",
    "import math\n",
    "import matplotlib.font_manager as font_manager\n",
    "import matplotlib.pyplot as plt\n",
    "import mpl_toolkits.axisartist.floating_axes as floating_axes\n",
    "import numpy as np\n",
    "import pandas as pd"
   ]
  },
  {
   "cell_type": "code",
   "execution_count": 2,
   "id": "eb0b599c",
   "metadata": {},
   "outputs": [],
   "source": [
    "arial_path = '/wynton/home/capra/cbrand/miniconda3/envs/jupyter/fonts/Arial.ttf'\n",
    "arial = font_manager.FontProperties(fname = arial_path)"
   ]
  },
  {
   "cell_type": "code",
   "execution_count": 3,
   "id": "ba175a4e",
   "metadata": {},
   "outputs": [
    {
     "name": "stdout",
     "output_type": "stream",
     "text": [
      "/wynton/group/capra/projects/pan_3d_genome/data\n"
     ]
    }
   ],
   "source": [
    "cd ../../data"
   ]
  },
  {
   "cell_type": "code",
   "execution_count": 5,
   "id": "0b8224e5",
   "metadata": {},
   "outputs": [
    {
     "data": {
      "text/plain": [
       "<matplotlib.patches.Rectangle at 0x7f669dfeb280>"
      ]
     },
     "execution_count": 5,
     "metadata": {},
     "output_type": "execute_result"
    },
    {
     "data": {
      "image/png": "[encoded data removed]",
      "text/plain": [
       "<Figure size 640x480 with 1 Axes>"
      ]
     },
     "metadata": {},
     "output_type": "display_data"
    }
   ],
   "source": [
    "someX, someY = 0.5, 0.5\n",
    "fig,ax = plt.subplots()\n",
    "currentAxis = plt.gca()\n",
    "currentAxis.add_patch(Rectangle((someX - 0.1, someY - 0.1), 0.2, 0.2,\n",
    "                      alpha=1))"
   ]
  },
  {
   "cell_type": "code",
   "execution_count": null,
   "id": "011ae2bb",
   "metadata": {},
   "outputs": [],
   "source": []
  }
 ],
 "metadata": {
  "kernelspec": {
   "display_name": "Python 3 (ipykernel)",
   "language": "python",
   "name": "python3"
  },
  "language_info": {
   "codemirror_mode": {
    "name": "ipython",
    "version": 3
   },
   "file_extension": ".py",
   "mimetype": "text/x-python",
   "name": "python",
   "nbconvert_exporter": "python",
   "pygments_lexer": "ipython3",
   "version": "3.10.6"
  }
 },
 "nbformat": 4,
 "nbformat_minor": 5
}
