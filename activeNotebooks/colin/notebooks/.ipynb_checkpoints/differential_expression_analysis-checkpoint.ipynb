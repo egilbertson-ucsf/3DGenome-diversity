{
 "cells": [
  {
   "cell_type": "markdown",
   "id": "868c864a-ddd2-4dd3-96c2-07b5b752bd4b",
   "metadata": {},
   "source": [
    "# Differential Expression Analysis"
   ]
  },
  {
   "cell_type": "markdown",
   "id": "bc451705-383a-41e5-8822-2444044f63b3",
   "metadata": {},
   "source": [
    "This notebook contains code to run a differential expression analysis using the HTseq read count outputs from the RNAseq pipeline."
   ]
  },
  {
   "cell_type": "markdown",
   "id": "220234e5-cfd6-47bd-8649-44e6bbe8a75e",
   "metadata": {},
   "source": [
    "Load the libraries for analysis and change the working directory."
   ]
  },
  {
   "cell_type": "code",
   "execution_count": 2,
   "id": "ffda0d9a-1020-4e4f-a424-607798457ac1",
   "metadata": {},
   "outputs": [
    {
     "name": "stderr",
     "output_type": "stream",
     "text": [
      "Loading required package: S4Vectors\n",
      "\n",
      "\n",
      "Attaching package: ‘S4Vectors’\n",
      "\n",
      "\n",
      "The following object is masked from ‘package:base’:\n",
      "\n",
      "    expand.grid\n",
      "\n",
      "\n",
      "Loading required package: IRanges\n",
      "\n",
      "Loading required package: GenomicRanges\n",
      "\n",
      "Loading required package: GenomeInfoDb\n",
      "\n",
      "Loading required package: SummarizedExperiment\n",
      "\n",
      "Loading required package: MatrixGenerics\n",
      "\n",
      "Loading required package: matrixStats\n",
      "\n",
      "\n",
      "Attaching package: ‘MatrixGenerics’\n",
      "\n",
      "\n",
      "The following objects are masked from ‘package:matrixStats’:\n",
      "\n",
      "    colAlls, colAnyNAs, colAnys, colAvgsPerRowSet, colCollapse,\n",
      "    colCounts, colCummaxs, colCummins, colCumprods, colCumsums,\n",
      "    colDiffs, colIQRDiffs, colIQRs, colLogSumExps, colMadDiffs,\n",
      "    colMads, colMaxs, colMeans2, colMedians, colMins, colOrderStats,\n",
      "    colProds, colQuantiles, colRanges, colRanks, colSdDiffs, colSds,\n",
      "    colSums2, colTabulates, colVarDiffs, colVars, colWeightedMads,\n",
      "    colWeightedMeans, colWeightedMedians, colWeightedSds,\n",
      "    colWeightedVars, rowAlls, rowAnyNAs, rowAnys, rowAvgsPerColSet,\n",
      "    rowCollapse, rowCounts, rowCummaxs, rowCummins, rowCumprods,\n",
      "    rowCumsums, rowDiffs, rowIQRDiffs, rowIQRs, rowLogSumExps,\n",
      "    rowMadDiffs, rowMads, rowMaxs, rowMeans2, rowMedians, rowMins,\n",
      "    rowOrderStats, rowProds, rowQuantiles, rowRanges, rowRanks,\n",
      "    rowSdDiffs, rowSds, rowSums2, rowTabulates, rowVarDiffs, rowVars,\n",
      "    rowWeightedMads, rowWeightedMeans, rowWeightedMedians,\n",
      "    rowWeightedSds, rowWeightedVars\n",
      "\n",
      "\n",
      "Loading required package: Biobase\n",
      "\n",
      "Welcome to Bioconductor\n",
      "\n",
      "    Vignettes contain introductory material; view with\n",
      "    'browseVignettes()'. To cite Bioconductor, see\n",
      "    'citation(\"Biobase\")', and for packages 'citation(\"pkgname\")'.\n",
      "\n",
      "\n",
      "\n",
      "Attaching package: ‘Biobase’\n",
      "\n",
      "\n",
      "The following object is masked from ‘package:MatrixGenerics’:\n",
      "\n",
      "    rowMedians\n",
      "\n",
      "\n",
      "The following objects are masked from ‘package:matrixStats’:\n",
      "\n",
      "    anyMissing, rowMedians\n",
      "\n",
      "\n"
     ]
    }
   ],
   "source": [
    "library(DESeq2)"
   ]
  },
  {
   "cell_type": "code",
   "execution_count": 3,
   "id": "9576de0c-3aaa-4c03-b31b-1792df915d37",
   "metadata": {},
   "outputs": [],
   "source": [
    "setwd('../../data/RNAseq')"
   ]
  },
  {
   "cell_type": "markdown",
   "id": "ba6b800e-df18-48b6-aea6-c5374883367a",
   "metadata": {},
   "source": [
    "Set the read count directory and as variable and get a list of file names."
   ]
  },
  {
   "cell_type": "code",
   "execution_count": 4,
   "id": "ab0c341f-b236-401b-8461-75d9b3ab54f5",
   "metadata": {},
   "outputs": [],
   "source": [
    "read_count_directory <- 'read_counts'\n",
    "read_count_files = list.files(read_count_directory)"
   ]
  },
  {
   "cell_type": "markdown",
   "id": "2bbeee0b-03b4-44b3-8425-07c505323a0d",
   "metadata": {},
   "source": [
    "Create lists with the species and tissue ID for each sample."
   ]
  },
  {
   "cell_type": "code",
   "execution_count": 5,
   "id": "68cd1443-d4e3-4382-b1eb-2f2c6e13a086",
   "metadata": {},
   "outputs": [],
   "source": [
    "species_list <- c('ptr','ptr','ptr','ptr','ptr','ptr','ptr','ptr','ptr','ptr','ppn','ppn','ppn','ppn','ppn','ppn','ppn','ppn','ppn','ppn','ppn')\n",
    "tissue_list <- c('prefrontal_cortex','cerebellum','cerebellum','heart','heart','kidney','kidney','liver','liver','testis','prefrontal_cortex','prefrontal_cortex','cerebellum','cerebellum','heart','heart','kidney','kidney','liver','liver','testis')"
   ]
  },
  {
   "cell_type": "markdown",
   "id": "3e77bc87-da24-457c-9ad2-bfe4914a063d",
   "metadata": {},
   "source": [
    "Now create a sample table and create a third variable that creates factors by concatenating species and tissue."
   ]
  },
  {
   "cell_type": "code",
   "execution_count": 6,
   "id": "c46f7044-5221-445a-8292-86f289fce68b",
   "metadata": {},
   "outputs": [
    {
     "data": {
      "text/html": [
       "<table class=\"dataframe\">\n",
       "<caption>A data.frame: 21 × 5</caption>\n",
       "<thead>\n",
       "\t<tr><th scope=col>sampleName</th><th scope=col>fileName</th><th scope=col>species</th><th scope=col>tissue</th><th scope=col>species_tissue</th></tr>\n",
       "\t<tr><th scope=col>&lt;chr&gt;</th><th scope=col>&lt;chr&gt;</th><th scope=col>&lt;chr&gt;</th><th scope=col>&lt;chr&gt;</th><th scope=col>&lt;fct&gt;</th></tr>\n",
       "</thead>\n",
       "<tbody>\n",
       "\t<tr><td>SRR306811_read_counts.txt</td><td>SRR306811_read_counts.txt</td><td>ptr</td><td>prefrontal_cortex</td><td>ptr_prefrontal_cortex</td></tr>\n",
       "\t<tr><td>SRR306817_read_counts.txt</td><td>SRR306817_read_counts.txt</td><td>ptr</td><td>cerebellum       </td><td>ptr_cerebellum       </td></tr>\n",
       "\t<tr><td>SRR306818_read_counts.txt</td><td>SRR306818_read_counts.txt</td><td>ptr</td><td>cerebellum       </td><td>ptr_cerebellum       </td></tr>\n",
       "\t<tr><td>SRR306819_read_counts.txt</td><td>SRR306819_read_counts.txt</td><td>ptr</td><td>heart            </td><td>ptr_heart            </td></tr>\n",
       "\t<tr><td>SRR306820_read_counts.txt</td><td>SRR306820_read_counts.txt</td><td>ptr</td><td>heart            </td><td>ptr_heart            </td></tr>\n",
       "\t<tr><td>SRR306821_read_counts.txt</td><td>SRR306821_read_counts.txt</td><td>ptr</td><td>kidney           </td><td>ptr_kidney           </td></tr>\n",
       "\t<tr><td>SRR306822_read_counts.txt</td><td>SRR306822_read_counts.txt</td><td>ptr</td><td>kidney           </td><td>ptr_kidney           </td></tr>\n",
       "\t<tr><td>SRR306823_read_counts.txt</td><td>SRR306823_read_counts.txt</td><td>ptr</td><td>liver            </td><td>ptr_liver            </td></tr>\n",
       "\t<tr><td>SRR306824_read_counts.txt</td><td>SRR306824_read_counts.txt</td><td>ptr</td><td>liver            </td><td>ptr_liver            </td></tr>\n",
       "\t<tr><td>SRR306825_read_counts.txt</td><td>SRR306825_read_counts.txt</td><td>ptr</td><td>testis           </td><td>ptr_testis           </td></tr>\n",
       "\t<tr><td>SRR306827_read_counts.txt</td><td>SRR306827_read_counts.txt</td><td>ppn</td><td>prefrontal_cortex</td><td>ppn_prefrontal_cortex</td></tr>\n",
       "\t<tr><td>SRR306828_read_counts.txt</td><td>SRR306828_read_counts.txt</td><td>ppn</td><td>prefrontal_cortex</td><td>ppn_prefrontal_cortex</td></tr>\n",
       "\t<tr><td>SRR306829_read_counts.txt</td><td>SRR306829_read_counts.txt</td><td>ppn</td><td>cerebellum       </td><td>ppn_cerebellum       </td></tr>\n",
       "\t<tr><td>SRR306830_read_counts.txt</td><td>SRR306830_read_counts.txt</td><td>ppn</td><td>cerebellum       </td><td>ppn_cerebellum       </td></tr>\n",
       "\t<tr><td>SRR306831_read_counts.txt</td><td>SRR306831_read_counts.txt</td><td>ppn</td><td>heart            </td><td>ppn_heart            </td></tr>\n",
       "\t<tr><td>SRR306832_read_counts.txt</td><td>SRR306832_read_counts.txt</td><td>ppn</td><td>heart            </td><td>ppn_heart            </td></tr>\n",
       "\t<tr><td>SRR306833_read_counts.txt</td><td>SRR306833_read_counts.txt</td><td>ppn</td><td>kidney           </td><td>ppn_kidney           </td></tr>\n",
       "\t<tr><td>SRR306834_read_counts.txt</td><td>SRR306834_read_counts.txt</td><td>ppn</td><td>kidney           </td><td>ppn_kidney           </td></tr>\n",
       "\t<tr><td>SRR306835_read_counts.txt</td><td>SRR306835_read_counts.txt</td><td>ppn</td><td>liver            </td><td>ppn_liver            </td></tr>\n",
       "\t<tr><td>SRR306836_read_counts.txt</td><td>SRR306836_read_counts.txt</td><td>ppn</td><td>liver            </td><td>ppn_liver            </td></tr>\n",
       "\t<tr><td>SRR306837_read_counts.txt</td><td>SRR306837_read_counts.txt</td><td>ppn</td><td>testis           </td><td>ppn_testis           </td></tr>\n",
       "</tbody>\n",
       "</table>\n"
      ],
      "text/latex": [
       "A data.frame: 21 × 5\n",
       "\\begin{tabular}{lllll}\n",
       " sampleName & fileName & species & tissue & species\\_tissue\\\\\n",
       " <chr> & <chr> & <chr> & <chr> & <fct>\\\\\n",
       "\\hline\n",
       "\t SRR306811\\_read\\_counts.txt & SRR306811\\_read\\_counts.txt & ptr & prefrontal\\_cortex & ptr\\_prefrontal\\_cortex\\\\\n",
       "\t SRR306817\\_read\\_counts.txt & SRR306817\\_read\\_counts.txt & ptr & cerebellum        & ptr\\_cerebellum       \\\\\n",
       "\t SRR306818\\_read\\_counts.txt & SRR306818\\_read\\_counts.txt & ptr & cerebellum        & ptr\\_cerebellum       \\\\\n",
       "\t SRR306819\\_read\\_counts.txt & SRR306819\\_read\\_counts.txt & ptr & heart             & ptr\\_heart            \\\\\n",
       "\t SRR306820\\_read\\_counts.txt & SRR306820\\_read\\_counts.txt & ptr & heart             & ptr\\_heart            \\\\\n",
       "\t SRR306821\\_read\\_counts.txt & SRR306821\\_read\\_counts.txt & ptr & kidney            & ptr\\_kidney           \\\\\n",
       "\t SRR306822\\_read\\_counts.txt & SRR306822\\_read\\_counts.txt & ptr & kidney            & ptr\\_kidney           \\\\\n",
       "\t SRR306823\\_read\\_counts.txt & SRR306823\\_read\\_counts.txt & ptr & liver             & ptr\\_liver            \\\\\n",
       "\t SRR306824\\_read\\_counts.txt & SRR306824\\_read\\_counts.txt & ptr & liver             & ptr\\_liver            \\\\\n",
       "\t SRR306825\\_read\\_counts.txt & SRR306825\\_read\\_counts.txt & ptr & testis            & ptr\\_testis           \\\\\n",
       "\t SRR306827\\_read\\_counts.txt & SRR306827\\_read\\_counts.txt & ppn & prefrontal\\_cortex & ppn\\_prefrontal\\_cortex\\\\\n",
       "\t SRR306828\\_read\\_counts.txt & SRR306828\\_read\\_counts.txt & ppn & prefrontal\\_cortex & ppn\\_prefrontal\\_cortex\\\\\n",
       "\t SRR306829\\_read\\_counts.txt & SRR306829\\_read\\_counts.txt & ppn & cerebellum        & ppn\\_cerebellum       \\\\\n",
       "\t SRR306830\\_read\\_counts.txt & SRR306830\\_read\\_counts.txt & ppn & cerebellum        & ppn\\_cerebellum       \\\\\n",
       "\t SRR306831\\_read\\_counts.txt & SRR306831\\_read\\_counts.txt & ppn & heart             & ppn\\_heart            \\\\\n",
       "\t SRR306832\\_read\\_counts.txt & SRR306832\\_read\\_counts.txt & ppn & heart             & ppn\\_heart            \\\\\n",
       "\t SRR306833\\_read\\_counts.txt & SRR306833\\_read\\_counts.txt & ppn & kidney            & ppn\\_kidney           \\\\\n",
       "\t SRR306834\\_read\\_counts.txt & SRR306834\\_read\\_counts.txt & ppn & kidney            & ppn\\_kidney           \\\\\n",
       "\t SRR306835\\_read\\_counts.txt & SRR306835\\_read\\_counts.txt & ppn & liver             & ppn\\_liver            \\\\\n",
       "\t SRR306836\\_read\\_counts.txt & SRR306836\\_read\\_counts.txt & ppn & liver             & ppn\\_liver            \\\\\n",
       "\t SRR306837\\_read\\_counts.txt & SRR306837\\_read\\_counts.txt & ppn & testis            & ppn\\_testis           \\\\\n",
       "\\end{tabular}\n"
      ],
      "text/markdown": [
       "\n",
       "A data.frame: 21 × 5\n",
       "\n",
       "| sampleName &lt;chr&gt; | fileName &lt;chr&gt; | species &lt;chr&gt; | tissue &lt;chr&gt; | species_tissue &lt;fct&gt; |\n",
       "|---|---|---|---|---|\n",
       "| SRR306811_read_counts.txt | SRR306811_read_counts.txt | ptr | prefrontal_cortex | ptr_prefrontal_cortex |\n",
       "| SRR306817_read_counts.txt | SRR306817_read_counts.txt | ptr | cerebellum        | ptr_cerebellum        |\n",
       "| SRR306818_read_counts.txt | SRR306818_read_counts.txt | ptr | cerebellum        | ptr_cerebellum        |\n",
       "| SRR306819_read_counts.txt | SRR306819_read_counts.txt | ptr | heart             | ptr_heart             |\n",
       "| SRR306820_read_counts.txt | SRR306820_read_counts.txt | ptr | heart             | ptr_heart             |\n",
       "| SRR306821_read_counts.txt | SRR306821_read_counts.txt | ptr | kidney            | ptr_kidney            |\n",
       "| SRR306822_read_counts.txt | SRR306822_read_counts.txt | ptr | kidney            | ptr_kidney            |\n",
       "| SRR306823_read_counts.txt | SRR306823_read_counts.txt | ptr | liver             | ptr_liver             |\n",
       "| SRR306824_read_counts.txt | SRR306824_read_counts.txt | ptr | liver             | ptr_liver             |\n",
       "| SRR306825_read_counts.txt | SRR306825_read_counts.txt | ptr | testis            | ptr_testis            |\n",
       "| SRR306827_read_counts.txt | SRR306827_read_counts.txt | ppn | prefrontal_cortex | ppn_prefrontal_cortex |\n",
       "| SRR306828_read_counts.txt | SRR306828_read_counts.txt | ppn | prefrontal_cortex | ppn_prefrontal_cortex |\n",
       "| SRR306829_read_counts.txt | SRR306829_read_counts.txt | ppn | cerebellum        | ppn_cerebellum        |\n",
       "| SRR306830_read_counts.txt | SRR306830_read_counts.txt | ppn | cerebellum        | ppn_cerebellum        |\n",
       "| SRR306831_read_counts.txt | SRR306831_read_counts.txt | ppn | heart             | ppn_heart             |\n",
       "| SRR306832_read_counts.txt | SRR306832_read_counts.txt | ppn | heart             | ppn_heart             |\n",
       "| SRR306833_read_counts.txt | SRR306833_read_counts.txt | ppn | kidney            | ppn_kidney            |\n",
       "| SRR306834_read_counts.txt | SRR306834_read_counts.txt | ppn | kidney            | ppn_kidney            |\n",
       "| SRR306835_read_counts.txt | SRR306835_read_counts.txt | ppn | liver             | ppn_liver             |\n",
       "| SRR306836_read_counts.txt | SRR306836_read_counts.txt | ppn | liver             | ppn_liver             |\n",
       "| SRR306837_read_counts.txt | SRR306837_read_counts.txt | ppn | testis            | ppn_testis            |\n",
       "\n"
      ],
      "text/plain": [
       "   sampleName                fileName                  species\n",
       "1  SRR306811_read_counts.txt SRR306811_read_counts.txt ptr    \n",
       "2  SRR306817_read_counts.txt SRR306817_read_counts.txt ptr    \n",
       "3  SRR306818_read_counts.txt SRR306818_read_counts.txt ptr    \n",
       "4  SRR306819_read_counts.txt SRR306819_read_counts.txt ptr    \n",
       "5  SRR306820_read_counts.txt SRR306820_read_counts.txt ptr    \n",
       "6  SRR306821_read_counts.txt SRR306821_read_counts.txt ptr    \n",
       "7  SRR306822_read_counts.txt SRR306822_read_counts.txt ptr    \n",
       "8  SRR306823_read_counts.txt SRR306823_read_counts.txt ptr    \n",
       "9  SRR306824_read_counts.txt SRR306824_read_counts.txt ptr    \n",
       "10 SRR306825_read_counts.txt SRR306825_read_counts.txt ptr    \n",
       "11 SRR306827_read_counts.txt SRR306827_read_counts.txt ppn    \n",
       "12 SRR306828_read_counts.txt SRR306828_read_counts.txt ppn    \n",
       "13 SRR306829_read_counts.txt SRR306829_read_counts.txt ppn    \n",
       "14 SRR306830_read_counts.txt SRR306830_read_counts.txt ppn    \n",
       "15 SRR306831_read_counts.txt SRR306831_read_counts.txt ppn    \n",
       "16 SRR306832_read_counts.txt SRR306832_read_counts.txt ppn    \n",
       "17 SRR306833_read_counts.txt SRR306833_read_counts.txt ppn    \n",
       "18 SRR306834_read_counts.txt SRR306834_read_counts.txt ppn    \n",
       "19 SRR306835_read_counts.txt SRR306835_read_counts.txt ppn    \n",
       "20 SRR306836_read_counts.txt SRR306836_read_counts.txt ppn    \n",
       "21 SRR306837_read_counts.txt SRR306837_read_counts.txt ppn    \n",
       "   tissue            species_tissue       \n",
       "1  prefrontal_cortex ptr_prefrontal_cortex\n",
       "2  cerebellum        ptr_cerebellum       \n",
       "3  cerebellum        ptr_cerebellum       \n",
       "4  heart             ptr_heart            \n",
       "5  heart             ptr_heart            \n",
       "6  kidney            ptr_kidney           \n",
       "7  kidney            ptr_kidney           \n",
       "8  liver             ptr_liver            \n",
       "9  liver             ptr_liver            \n",
       "10 testis            ptr_testis           \n",
       "11 prefrontal_cortex ppn_prefrontal_cortex\n",
       "12 prefrontal_cortex ppn_prefrontal_cortex\n",
       "13 cerebellum        ppn_cerebellum       \n",
       "14 cerebellum        ppn_cerebellum       \n",
       "15 heart             ppn_heart            \n",
       "16 heart             ppn_heart            \n",
       "17 kidney            ppn_kidney           \n",
       "18 kidney            ppn_kidney           \n",
       "19 liver             ppn_liver            \n",
       "20 liver             ppn_liver            \n",
       "21 testis            ppn_testis           "
      ]
     },
     "metadata": {},
     "output_type": "display_data"
    }
   ],
   "source": [
    "sampleTable <- data.frame(sampleName = read_count_files, fileName = read_count_files, species = species_list, tissue = tissue_list)\n",
    "sampleTable$species_tissue <- factor(paste0(sampleTable$species, \"_\", sampleTable$tissue))\n",
    "sampleTable"
   ]
  },
  {
   "cell_type": "markdown",
   "id": "fe4e7222-1e48-400b-93a0-c4194a08f427",
   "metadata": {},
   "source": [
    "Create a DESeq dataset and model reads based on the concatenated variable built from species and tissue."
   ]
  },
  {
   "cell_type": "code",
   "execution_count": 7,
   "id": "3b6846e5-987d-434e-9396-985ad445a74d",
   "metadata": {},
   "outputs": [
    {
     "data": {
      "text/plain": [
       "class: DESeqDataSet \n",
       "dim: 34742 21 \n",
       "metadata(1): version\n",
       "assays(1): counts\n",
       "rownames(34742): A1BG A1CF ... unassigned_gene_8 unassigned_gene_9\n",
       "rowData names(0):\n",
       "colnames(21): SRR306811_read_counts.txt SRR306817_read_counts.txt ...\n",
       "  SRR306836_read_counts.txt SRR306837_read_counts.txt\n",
       "colData names(3): species tissue species_tissue"
      ]
     },
     "metadata": {},
     "output_type": "display_data"
    }
   ],
   "source": [
    "dds <- DESeqDataSetFromHTSeqCount(sampleTable = sampleTable, directory = read_count_directory, design = ~ species_tissue)\n",
    "dds"
   ]
  },
  {
   "cell_type": "markdown",
   "id": "35e383d9-2c61-4a4d-8ab0-68d4d8f2ce3e",
   "metadata": {},
   "source": [
    "Run the DESeq function on the DESeq dataset object."
   ]
  },
  {
   "cell_type": "code",
   "execution_count": 8,
   "id": "2edaffc4-5622-4a8e-945e-ddfb20ae99f6",
   "metadata": {},
   "outputs": [
    {
     "name": "stderr",
     "output_type": "stream",
     "text": [
      "estimating size factors\n",
      "\n",
      "estimating dispersions\n",
      "\n",
      "gene-wise dispersion estimates\n",
      "\n",
      "mean-dispersion relationship\n",
      "\n",
      "final dispersion estimates\n",
      "\n",
      "fitting model and testing\n",
      "\n"
     ]
    }
   ],
   "source": [
    "dds <- DESeq(dds)"
   ]
  },
  {
   "cell_type": "markdown",
   "id": "e854c0a6-4fe0-4d65-9cae-1cc5d0faffa6",
   "metadata": {},
   "source": [
    "Plot the dispersion estimates."
   ]
  },
  {
   "cell_type": "code",
   "execution_count": 9,
   "id": "42fe52e8-9086-44e3-83a0-df0dab601e2f",
   "metadata": {
    "scrolled": true
   },
   "outputs": [
    {
     "data": {
      "image/png": "[encoded data removed]",
      "text/plain": [
       "plot without title"
      ]
     },
     "metadata": {
      "image/png": {
       "height": 420,
       "width": 420
      }
     },
     "output_type": "display_data"
    }
   ],
   "source": [
    "plotDispEsts(dds)"
   ]
  },
  {
   "cell_type": "markdown",
   "id": "991f6929-dce1-447e-8652-ae42e2e4c59f",
   "metadata": {},
   "source": [
    "Many of the fitted estimates have shrunk from the gene-wise estimates and this plot looks typical. Let's also construct PCA plots for species and tissue to see inter-sample similarity based on those variables."
   ]
  },
  {
   "cell_type": "code",
   "execution_count": 10,
   "id": "4226db12-6269-4f15-82ea-d93acd4724c9",
   "metadata": {},
   "outputs": [
    {
     "data": {
      "image/png": "[encoded data removed]",
      "text/plain": [
       "plot without title"
      ]
     },
     "metadata": {
      "image/png": {
       "height": 420,
       "width": 420
      }
     },
     "output_type": "display_data"
    }
   ],
   "source": [
    "vsd <- vst(dds, blind=FALSE)\n",
    "plotPCA(vsd, intgroup=c('species'))"
   ]
  },
  {
   "cell_type": "code",
   "execution_count": 11,
   "id": "9a7eeef9-0adb-43e6-b6a9-0b814d044de1",
   "metadata": {},
   "outputs": [
    {
     "data": {
      "image/png": "[encoded data removed]",
      "text/plain": [
       "plot without title"
      ]
     },
     "metadata": {
      "image/png": {
       "height": 420,
       "width": 420
      }
     },
     "output_type": "display_data"
    }
   ],
   "source": [
    "vsd <- vst(dds, blind=FALSE)\n",
    "plotPCA(vsd, intgroup=c('tissue'))"
   ]
  },
  {
   "cell_type": "markdown",
   "id": "4488250b-55ec-44b1-ad81-110285b86742",
   "metadata": {},
   "source": [
    "Next, create a results table from the DESeq output."
   ]
  },
  {
   "cell_type": "code",
   "execution_count": 12,
   "id": "793a6ac2-35f2-4a4c-bdba-caee969e9801",
   "metadata": {},
   "outputs": [
    {
     "data": {
      "text/plain": [
       "log2 fold change (MLE): species tissue ptr testis vs ppn cerebellum \n",
       "Wald test p-value: species tissue ptr testis vs ppn cerebellum \n",
       "DataFrame with 34742 rows and 6 columns\n",
       "                    baseMean log2FoldChange     lfcSE      stat     pvalue\n",
       "                   <numeric>      <numeric> <numeric> <numeric>  <numeric>\n",
       "A1BG              11158.2761      -4.071730  1.124335 -3.621456 0.00029295\n",
       "A1CF                768.2474       4.682907  1.756650  2.665817 0.00768015\n",
       "A2M               14892.0472      -1.900477  0.745888 -2.547938 0.01083616\n",
       "A2ML1                18.7587       2.193811  1.113564  1.970080 0.04882920\n",
       "A3GALT2               6.9438       0.372941  1.365047  0.273207 0.78469391\n",
       "...                      ...            ...       ...       ...        ...\n",
       "unassigned_gene_5  0.0617764       0.344931   8.47256 0.0407115   0.967526\n",
       "unassigned_gene_6  0.0000000             NA        NA        NA         NA\n",
       "unassigned_gene_7  0.0586389       0.344932   8.47256 0.0407117   0.967526\n",
       "unassigned_gene_8  0.0000000             NA        NA        NA         NA\n",
       "unassigned_gene_9  3.3577146       0.344382   8.47256 0.0406467   0.967578\n",
       "                        padj\n",
       "                   <numeric>\n",
       "A1BG              0.00135077\n",
       "A1CF              0.02253842\n",
       "A2M               0.03022725\n",
       "A2ML1             0.10486870\n",
       "A3GALT2           0.84902948\n",
       "...                      ...\n",
       "unassigned_gene_5         NA\n",
       "unassigned_gene_6         NA\n",
       "unassigned_gene_7         NA\n",
       "unassigned_gene_8         NA\n",
       "unassigned_gene_9   0.976912"
      ]
     },
     "metadata": {},
     "output_type": "display_data"
    }
   ],
   "source": [
    "res <- results(dds)\n",
    "res"
   ]
  },
  {
   "cell_type": "markdown",
   "id": "f5418489-c5ca-4a4c-8685-006b3a7698cd",
   "metadata": {},
   "source": [
    "Now repeat this procedure using the contrasts argument to compare tissues between species."
   ]
  },
  {
   "cell_type": "code",
   "execution_count": 13,
   "id": "21faf7e2-53e9-4e38-9a30-05f0e52ab6c7",
   "metadata": {},
   "outputs": [
    {
     "data": {
      "text/plain": [
       "log2 fold change (MLE): species_tissue ptr_prefrontal_cortex vs ppn_prefrontal_cortex \n",
       "Wald test p-value: species_tissue ptr_prefrontal_cortex vs ppn_prefrontal_cortex \n",
       "DataFrame with 34742 rows and 7 columns\n",
       "                    baseMean log2FoldChange     lfcSE       stat    pvalue\n",
       "                   <numeric>      <numeric> <numeric>  <numeric> <numeric>\n",
       "A1BG              11158.2761     -0.3929950  1.039227 -0.3781609  0.705311\n",
       "A1CF                768.2474     -0.9514383  2.630264 -0.3617272  0.717556\n",
       "A2M               14892.0472     -0.6367372  0.742786 -0.8572282  0.391319\n",
       "A2ML1                18.7587     -0.0954055  1.127909 -0.0845862  0.932590\n",
       "A3GALT2               6.9438      1.4836791  1.450090  1.0231638  0.306230\n",
       "...                      ...            ...       ...        ...       ...\n",
       "unassigned_gene_5  0.0617764        0.00000   8.47358   0.000000  1.000000\n",
       "unassigned_gene_6  0.0000000             NA        NA         NA        NA\n",
       "unassigned_gene_7  0.0586389        0.00000   8.47358   0.000000  1.000000\n",
       "unassigned_gene_8  0.0000000             NA        NA         NA        NA\n",
       "unassigned_gene_9  3.3577146        6.79947   8.23276   0.825904  0.408859\n",
       "                       padj            tissue\n",
       "                  <numeric>       <character>\n",
       "A1BG               1.000000 prefrontal_cortex\n",
       "A1CF               1.000000 prefrontal_cortex\n",
       "A2M                0.949941 prefrontal_cortex\n",
       "A2ML1              1.000000 prefrontal_cortex\n",
       "A3GALT2            0.917374 prefrontal_cortex\n",
       "...                     ...               ...\n",
       "unassigned_gene_5        NA prefrontal_cortex\n",
       "unassigned_gene_6        NA prefrontal_cortex\n",
       "unassigned_gene_7        NA prefrontal_cortex\n",
       "unassigned_gene_8        NA prefrontal_cortex\n",
       "unassigned_gene_9        NA prefrontal_cortex"
      ]
     },
     "metadata": {},
     "output_type": "display_data"
    }
   ],
   "source": [
    "prefrontal_cortex_results <- results(dds, contrast=c('species_tissue', 'ptr_prefrontal_cortex', 'ppn_prefrontal_cortex'))\n",
    "prefrontal_cortex_results$tissue <- 'prefrontal_cortex'\n",
    "prefrontal_cortex_results"
   ]
  },
  {
   "cell_type": "code",
   "execution_count": 14,
   "id": "258adc93-04db-4185-80d3-5e7adc265e97",
   "metadata": {},
   "outputs": [
    {
     "data": {
      "text/plain": [
       "log2 fold change (MLE): species_tissue ptr_cerebellum vs ppn_cerebellum \n",
       "Wald test p-value: species tissue ptr cerebellum vs ppn cerebellum \n",
       "DataFrame with 34742 rows and 7 columns\n",
       "                    baseMean log2FoldChange     lfcSE      stat    pvalue\n",
       "                   <numeric>      <numeric> <numeric> <numeric> <numeric>\n",
       "A1BG              11158.2761      -0.420412  0.836237 -0.502743  0.615145\n",
       "A1CF                768.2474       2.535754  1.731061  1.464855  0.142960\n",
       "A2M               14892.0472       0.196535  0.606847  0.323863  0.746042\n",
       "A2ML1                18.7587      -0.220051  0.934840 -0.235389  0.813907\n",
       "A3GALT2               6.9438      -1.089801  1.158513 -0.940690  0.346864\n",
       "...                      ...            ...       ...       ...       ...\n",
       "unassigned_gene_5  0.0617764        0.00000   6.91768  0.000000  1.000000\n",
       "unassigned_gene_6  0.0000000             NA        NA        NA        NA\n",
       "unassigned_gene_7  0.0586389        0.00000   6.91768  0.000000  1.000000\n",
       "unassigned_gene_8  0.0000000             NA        NA        NA        NA\n",
       "unassigned_gene_9  3.3577146        4.97972   6.78186  0.734271  0.462784\n",
       "                       padj      tissue\n",
       "                  <numeric> <character>\n",
       "A1BG                      1  cerebellum\n",
       "A1CF                      1  cerebellum\n",
       "A2M                       1  cerebellum\n",
       "A2ML1                     1  cerebellum\n",
       "A3GALT2                   1  cerebellum\n",
       "...                     ...         ...\n",
       "unassigned_gene_5        NA  cerebellum\n",
       "unassigned_gene_6        NA  cerebellum\n",
       "unassigned_gene_7        NA  cerebellum\n",
       "unassigned_gene_8        NA  cerebellum\n",
       "unassigned_gene_9        NA  cerebellum"
      ]
     },
     "metadata": {},
     "output_type": "display_data"
    }
   ],
   "source": [
    "cerebellum_results <- results(dds, contrast=c('species_tissue', 'ptr_cerebellum', 'ppn_cerebellum'))\n",
    "cerebellum_results$tissue <- 'cerebellum'\n",
    "cerebellum_results"
   ]
  },
  {
   "cell_type": "code",
   "execution_count": 15,
   "id": "c8fc1955-a1eb-4d93-b30d-34f9d7f395f7",
   "metadata": {},
   "outputs": [
    {
     "data": {
      "text/plain": [
       "log2 fold change (MLE): species_tissue ptr_heart vs ppn_heart \n",
       "Wald test p-value: species_tissue ptr_heart vs ppn_heart \n",
       "DataFrame with 34742 rows and 7 columns\n",
       "                    baseMean log2FoldChange     lfcSE       stat     pvalue\n",
       "                   <numeric>      <numeric> <numeric>  <numeric>  <numeric>\n",
       "A1BG              11158.2761      -3.062714  1.039901 -2.9451970 0.00322749\n",
       "A1CF                768.2474      -0.194786  2.131260 -0.0913946 0.92717906\n",
       "A2M               14892.0472       0.158854  0.606212  0.2620432 0.79328816\n",
       "A2ML1                18.7587      -0.384959  1.161607 -0.3314022 0.74034067\n",
       "A3GALT2               6.9438      -1.718085  1.970905 -0.8717241 0.38335891\n",
       "...                      ...            ...       ...        ...        ...\n",
       "unassigned_gene_5  0.0617764        1.29090   6.91523   0.186675   0.851915\n",
       "unassigned_gene_6  0.0000000             NA        NA         NA         NA\n",
       "unassigned_gene_7  0.0586389        1.24762   6.91742   0.180359   0.856871\n",
       "unassigned_gene_8  0.0000000             NA        NA         NA         NA\n",
       "unassigned_gene_9  3.3577146        6.15462   6.77185   0.908853   0.363428\n",
       "                       padj      tissue\n",
       "                  <numeric> <character>\n",
       "A1BG               0.123343       heart\n",
       "A1CF               1.000000       heart\n",
       "A2M                0.992330       heart\n",
       "A2ML1              0.975226       heart\n",
       "A3GALT2                  NA       heart\n",
       "...                     ...         ...\n",
       "unassigned_gene_5        NA       heart\n",
       "unassigned_gene_6        NA       heart\n",
       "unassigned_gene_7        NA       heart\n",
       "unassigned_gene_8        NA       heart\n",
       "unassigned_gene_9        NA       heart"
      ]
     },
     "metadata": {},
     "output_type": "display_data"
    }
   ],
   "source": [
    "heart_results <- results(dds, contrast=c('species_tissue', 'ptr_heart', 'ppn_heart'))\n",
    "heart_results$tissue <- 'heart'\n",
    "heart_results"
   ]
  },
  {
   "cell_type": "code",
   "execution_count": 16,
   "id": "b1c8090d-ae97-4a99-977a-cb6f0aad1a73",
   "metadata": {},
   "outputs": [
    {
     "data": {
      "text/plain": [
       "log2 fold change (MLE): species_tissue ptr_kidney vs ppn_kidney \n",
       "Wald test p-value: species_tissue ptr_kidney vs ppn_kidney \n",
       "DataFrame with 34742 rows and 7 columns\n",
       "                    baseMean log2FoldChange     lfcSE      stat    pvalue\n",
       "                   <numeric>      <numeric> <numeric> <numeric> <numeric>\n",
       "A1BG              11158.2761      -1.885996  0.847152 -2.226278 0.0259955\n",
       "A1CF                768.2474       1.280922  0.787572  1.626418 0.1038607\n",
       "A2M               14892.0472      -0.137898  0.606325 -0.227432 0.8200880\n",
       "A2ML1                18.7587       0.555998  1.205699  0.461142 0.6446969\n",
       "A3GALT2               6.9438      -0.318254  1.220330 -0.260793 0.7942521\n",
       "...                      ...            ...       ...       ...       ...\n",
       "unassigned_gene_5  0.0617764        0.00000   6.91876  0.000000  1.000000\n",
       "unassigned_gene_6  0.0000000             NA        NA        NA        NA\n",
       "unassigned_gene_7  0.0586389        0.00000   6.91876  0.000000  1.000000\n",
       "unassigned_gene_8  0.0000000             NA        NA        NA        NA\n",
       "unassigned_gene_9  3.3577146        4.05862   6.78581  0.598103  0.549771\n",
       "                       padj      tissue\n",
       "                  <numeric> <character>\n",
       "A1BG               0.527244      kidney\n",
       "A1CF               0.844127      kidney\n",
       "A2M                1.000000      kidney\n",
       "A2ML1              1.000000      kidney\n",
       "A3GALT2            1.000000      kidney\n",
       "...                     ...         ...\n",
       "unassigned_gene_5        NA      kidney\n",
       "unassigned_gene_6        NA      kidney\n",
       "unassigned_gene_7        NA      kidney\n",
       "unassigned_gene_8        NA      kidney\n",
       "unassigned_gene_9        NA      kidney"
      ]
     },
     "metadata": {},
     "output_type": "display_data"
    }
   ],
   "source": [
    "kidney_results <- results(dds, contrast=c('species_tissue', 'ptr_kidney', 'ppn_kidney'))\n",
    "kidney_results$tissue <- 'kidney'\n",
    "kidney_results"
   ]
  },
  {
   "cell_type": "code",
   "execution_count": 17,
   "id": "1c315cb6-f14a-498a-9e24-637c8423d623",
   "metadata": {},
   "outputs": [
    {
     "data": {
      "text/plain": [
       "log2 fold change (MLE): species_tissue ptr_liver vs ppn_liver \n",
       "Wald test p-value: species_tissue ptr_liver vs ppn_liver \n",
       "DataFrame with 34742 rows and 7 columns\n",
       "                    baseMean log2FoldChange     lfcSE       stat     pvalue\n",
       "                   <numeric>      <numeric> <numeric>  <numeric>  <numeric>\n",
       "A1BG              11158.2761      0.9250174  0.827649  1.1176439 0.26371911\n",
       "A1CF                768.2474     -0.0177496  0.784692 -0.0226198 0.98195359\n",
       "A2M               14892.0472     -2.1087391  0.605997 -3.4797833 0.00050182\n",
       "A2ML1                18.7587      1.0068808  1.503252  0.6698018 0.50298417\n",
       "A3GALT2               6.9438     -0.1275133  1.788876 -0.0712812 0.94317395\n",
       "...                      ...            ...       ...        ...        ...\n",
       "unassigned_gene_5  0.0617764         0.0000   6.91876   0.000000   1.000000\n",
       "unassigned_gene_6  0.0000000             NA        NA         NA         NA\n",
       "unassigned_gene_7  0.0586389         0.0000   6.91876   0.000000   1.000000\n",
       "unassigned_gene_8  0.0000000             NA        NA         NA         NA\n",
       "unassigned_gene_9  3.3577146         2.4402   6.84315   0.356591   0.721398\n",
       "                       padj      tissue\n",
       "                  <numeric> <character>\n",
       "A1BG              0.5475352       liver\n",
       "A1CF              1.0000000       liver\n",
       "A2M               0.0118725       liver\n",
       "A2ML1             0.7564114       liver\n",
       "A3GALT2                  NA       liver\n",
       "...                     ...         ...\n",
       "unassigned_gene_5        NA       liver\n",
       "unassigned_gene_6        NA       liver\n",
       "unassigned_gene_7        NA       liver\n",
       "unassigned_gene_8        NA       liver\n",
       "unassigned_gene_9        NA       liver"
      ]
     },
     "metadata": {},
     "output_type": "display_data"
    }
   ],
   "source": [
    "liver_results <- results(dds, contrast=c('species_tissue', 'ptr_liver', 'ppn_liver'))\n",
    "liver_results$tissue <- 'liver'\n",
    "liver_results"
   ]
  },
  {
   "cell_type": "markdown",
   "id": "06347cec-fef6-4da5-9437-6d57dcddb7b4",
   "metadata": {},
   "source": [
    "Now let's merge all the results and remove the unassigned gene rows."
   ]
  },
  {
   "cell_type": "code",
   "execution_count": 18,
   "id": "f6eec75f-4880-4073-b78e-197dcbe06602",
   "metadata": {},
   "outputs": [
    {
     "data": {
      "text/plain": [
       "log2 fold change (MLE): species_tissue ptr_prefrontal_cortex vs ppn_prefrontal_cortex \n",
       "Wald test p-value: species_tissue ptr_prefrontal_cortex vs ppn_prefrontal_cortex \n",
       "DataFrame with 173590 rows and 8 columns\n",
       "              gene   baseMean log2FoldChange     lfcSE       stat     pvalue\n",
       "       <character>  <numeric>      <numeric> <numeric>  <numeric>  <numeric>\n",
       "1             A1BG 11158.2761     -0.3929950  1.039227 -0.3781609   0.705311\n",
       "2             A1CF   768.2474     -0.9514383  2.630264 -0.3617272   0.717556\n",
       "3              A2M 14892.0472     -0.6367372  0.742786 -0.8572282   0.391319\n",
       "4            A2ML1    18.7587     -0.0954055  1.127909 -0.0845862   0.932590\n",
       "5          A3GALT2     6.9438      1.4836791  1.450090  1.0231638   0.306230\n",
       "...            ...        ...            ...       ...        ...        ...\n",
       "173586      ZYG11A    54.0383       1.463088  1.108104    1.32035 0.18671737\n",
       "173587      ZYG11B  1029.9352      -0.651525  0.562577   -1.15811 0.24681958\n",
       "173588         ZYX  1985.3025       1.136585  0.657506    1.72863 0.08387537\n",
       "173589       ZZEF1   859.5941       0.653060  0.321429    2.03174 0.04218017\n",
       "173590        ZZZ3   427.4826      -0.995869  0.313305   -3.17859 0.00147994\n",
       "            padj            tissue\n",
       "       <numeric>       <character>\n",
       "1       1.000000 prefrontal_cortex\n",
       "2       1.000000 prefrontal_cortex\n",
       "3       0.949941 prefrontal_cortex\n",
       "4       1.000000 prefrontal_cortex\n",
       "5       0.917374 prefrontal_cortex\n",
       "...          ...               ...\n",
       "173586 0.4584446             liver\n",
       "173587 0.5298212             liver\n",
       "173588 0.2909736             liver\n",
       "173589 0.1931861             liver\n",
       "173590 0.0242061             liver"
      ]
     },
     "metadata": {},
     "output_type": "display_data"
    }
   ],
   "source": [
    "all_results <- rbind(prefrontal_cortex_results,cerebellum_results,heart_results,kidney_results,liver_results)\n",
    "all_results$gene <- rownames(all_results)\n",
    "all_results <- all_results[, c(8,1,2,3,4,5,6,7)]\n",
    "rownames(all_results) <- NULL\n",
    "all_results <- subset(all_results, !grepl('unassigned_gene', gene, ignore.case = TRUE))\n",
    "all_results"
   ]
  },
  {
   "cell_type": "code",
   "execution_count": 49,
   "id": "851a8a3f-f045-44b1-9af3-1da9866731a9",
   "metadata": {},
   "outputs": [
    {
     "data": {
      "text/plain": [
       "log2 fold change (MLE): species_tissue ptr_prefrontal_cortex vs ppn_prefrontal_cortex \n",
       "Wald test p-value: species_tissue ptr_prefrontal_cortex vs ppn_prefrontal_cortex \n",
       "DataFrame with 5 rows and 8 columns\n",
       "         gene  baseMean log2FoldChange     lfcSE       stat    pvalue      padj\n",
       "  <character> <numeric>      <numeric> <numeric>  <numeric> <numeric> <numeric>\n",
       "1       TENM2   224.876     -0.0420408  0.664845 -0.0632339 0.9495803  1.000000\n",
       "2       TENM2   224.876      1.3717669  0.550170  2.4933532 0.0126543  0.500782\n",
       "3       TENM2   224.876      2.5104532  0.882435  2.8449171 0.0044423  0.144915\n",
       "4       TENM2   224.876     -0.4757007  0.551070 -0.8632316 0.3880101  1.000000\n",
       "5       TENM2   224.876      1.4281745  1.289673  1.1073927 0.2681242  0.552310\n",
       "             tissue\n",
       "        <character>\n",
       "1 prefrontal_cortex\n",
       "2        cerebellum\n",
       "3             heart\n",
       "4            kidney\n",
       "5             liver"
      ]
     },
     "metadata": {},
     "output_type": "display_data"
    }
   ],
   "source": [
    "subset(all_results, gene == 'TENM2')"
   ]
  },
  {
   "cell_type": "markdown",
   "id": "d8add089-7c2a-4a02-8d52-9516c3cbc534",
   "metadata": {},
   "source": [
    "Filter for results that are significant after FDR adjustment."
   ]
  },
  {
   "cell_type": "code",
   "execution_count": 20,
   "id": "fc31fc6b-750e-4555-af62-33b80ed6ee21",
   "metadata": {},
   "outputs": [
    {
     "data": {
      "text/plain": [
       "log2 fold change (MLE): species_tissue ptr_prefrontal_cortex vs ppn_prefrontal_cortex \n",
       "Wald test p-value: species_tissue ptr_prefrontal_cortex vs ppn_prefrontal_cortex \n",
       "DataFrame with 3835 rows and 8 columns\n",
       "            gene  baseMean log2FoldChange     lfcSE      stat      pvalue\n",
       "     <character> <numeric>      <numeric> <numeric> <numeric>   <numeric>\n",
       "1          ABCG2   333.641       -3.19009  0.882984  -3.61285 0.000302849\n",
       "2          APLNR   436.681        3.95581  1.126516   3.51154 0.000445514\n",
       "3          ATF6B   852.536        0.82372  0.233502   3.52768 0.000419218\n",
       "4           ATP8  3207.041       11.55862  3.088675   3.74226 0.000182374\n",
       "5           BAG1  1293.131        1.78942  0.507116   3.52862 0.000417735\n",
       "...          ...       ...            ...       ...       ...         ...\n",
       "3831      ZSCAN1   143.952      -2.732879  0.810447  -3.37206 7.46073e-04\n",
       "3832      ZSWIM4   162.526       2.970241  0.710281   4.18178 2.89232e-05\n",
       "3833      ZSWIM8  1942.674       1.219269  0.273433   4.45912 8.22974e-06\n",
       "3834        ZXDC   387.299       0.885140  0.233890   3.78443 1.54061e-04\n",
       "3835        ZZZ3   427.483      -0.995869  0.313305  -3.17859 1.47994e-03\n",
       "            padj            tissue\n",
       "       <numeric>       <character>\n",
       "1      0.0736399 prefrontal_cortex\n",
       "2      0.0918225 prefrontal_cortex\n",
       "3      0.0902811 prefrontal_cortex\n",
       "4      0.0533345 prefrontal_cortex\n",
       "5      0.0902811 prefrontal_cortex\n",
       "...          ...               ...\n",
       "3831 0.015282521             liver\n",
       "3832 0.001855056             liver\n",
       "3833 0.000796082             liver\n",
       "3834 0.005444150             liver\n",
       "3835 0.024206101             liver"
      ]
     },
     "metadata": {},
     "output_type": "display_data"
    }
   ],
   "source": [
    "significant_results <- subset(all_results, padj < 0.1)\n",
    "significant_results"
   ]
  },
  {
   "cell_type": "code",
   "execution_count": 21,
   "id": "5cea7fe3-6aed-4e55-adcd-ae69f39e1c39",
   "metadata": {},
   "outputs": [
    {
     "data": {
      "text/html": [
       "<table class=\"dataframe\">\n",
       "<caption>A data.frame: 6 × 1</caption>\n",
       "<thead>\n",
       "\t<tr><th></th><th scope=col>gene</th></tr>\n",
       "\t<tr><th></th><th scope=col>&lt;fct&gt;</th></tr>\n",
       "</thead>\n",
       "<tbody>\n",
       "\t<tr><th scope=row>1</th><td>A2M   </td></tr>\n",
       "\t<tr><th scope=row>2</th><td>AADAC </td></tr>\n",
       "\t<tr><th scope=row>3</th><td>AAMP  </td></tr>\n",
       "\t<tr><th scope=row>4</th><td>AASS  </td></tr>\n",
       "\t<tr><th scope=row>5</th><td>AATF  </td></tr>\n",
       "\t<tr><th scope=row>6</th><td>ABCA10</td></tr>\n",
       "</tbody>\n",
       "</table>\n"
      ],
      "text/latex": [
       "A data.frame: 6 × 1\n",
       "\\begin{tabular}{r|l}\n",
       "  & gene\\\\\n",
       "  & <fct>\\\\\n",
       "\\hline\n",
       "\t1 & A2M   \\\\\n",
       "\t2 & AADAC \\\\\n",
       "\t3 & AAMP  \\\\\n",
       "\t4 & AASS  \\\\\n",
       "\t5 & AATF  \\\\\n",
       "\t6 & ABCA10\\\\\n",
       "\\end{tabular}\n"
      ],
      "text/markdown": [
       "\n",
       "A data.frame: 6 × 1\n",
       "\n",
       "| <!--/--> | gene &lt;fct&gt; |\n",
       "|---|---|\n",
       "| 1 | A2M    |\n",
       "| 2 | AADAC  |\n",
       "| 3 | AAMP   |\n",
       "| 4 | AASS   |\n",
       "| 5 | AATF   |\n",
       "| 6 | ABCA10 |\n",
       "\n"
      ],
      "text/plain": [
       "  gene  \n",
       "1 A2M   \n",
       "2 AADAC \n",
       "3 AAMP  \n",
       "4 AASS  \n",
       "5 AATF  \n",
       "6 ABCA10"
      ]
     },
     "metadata": {},
     "output_type": "display_data"
    }
   ],
   "source": [
    "DE_genes <- data.frame(significant_results$gene)\n",
    "colnames(DE_genes) <- c('gene')\n",
    "DE_genes$gene <- as.factor(DE_genes$gene)\n",
    "DE_genes <- unique(DE_genes)\n",
    "DE_genes$gene <- DE_genes$gene[order(DE_genes$gene)]\n",
    "head(DE_genes)"
   ]
  },
  {
   "cell_type": "code",
   "execution_count": 22,
   "id": "91412e21-256a-4118-9055-5e3a4a87ade9",
   "metadata": {},
   "outputs": [
    {
     "data": {
      "text/html": [
       "3332"
      ],
      "text/latex": [
       "3332"
      ],
      "text/markdown": [
       "3332"
      ],
      "text/plain": [
       "[1] 3332"
      ]
     },
     "metadata": {},
     "output_type": "display_data"
    }
   ],
   "source": [
    "nrow(DE_genes)"
   ]
  },
  {
   "cell_type": "markdown",
   "id": "be981476-e861-4121-a460-44cb0d89a677",
   "metadata": {},
   "source": [
    "Save this list of differentially expressed genes."
   ]
  },
  {
   "cell_type": "code",
   "execution_count": 23,
   "id": "763e8691-89ab-4aee-b3cb-bb9c6c889e85",
   "metadata": {},
   "outputs": [],
   "source": [
    "write.table(DE_genes, 'ppn_pt_DE_genes.txt', quote = FALSE, sep = '\\t', row.names = FALSE, col.names = FALSE)"
   ]
  },
  {
   "cell_type": "markdown",
   "id": "1f4676ea-2696-4749-8a87-981fc5cd6790",
   "metadata": {},
   "source": [
    "Now let's identify genes where differential expression could not be evaluated."
   ]
  },
  {
   "cell_type": "code",
   "execution_count": 24,
   "id": "87d061c9-0734-487e-b3f2-04d1c2f7ebe6",
   "metadata": {},
   "outputs": [
    {
     "data": {
      "text/plain": [
       "log2 fold change (MLE): species_tissue ptr_prefrontal_cortex vs ppn_prefrontal_cortex \n",
       "Wald test p-value: species_tissue ptr_prefrontal_cortex vs ppn_prefrontal_cortex \n",
       "DataFrame with 12585 rows and 8 columns\n",
       "             gene  baseMean log2FoldChange     lfcSE      stat    pvalue\n",
       "      <character> <numeric>      <numeric> <numeric> <numeric> <numeric>\n",
       "1           ALG11         0             NA        NA        NA        NA\n",
       "2           AMELY         0             NA        NA        NA        NA\n",
       "3           ARL4A         0             NA        NA        NA        NA\n",
       "4     C12H12orf77         0             NA        NA        NA        NA\n",
       "5     C19H19orf33         0             NA        NA        NA        NA\n",
       "...           ...       ...            ...       ...       ...       ...\n",
       "12581 TRNAY-GUA_6         0             NA        NA        NA        NA\n",
       "12582 TRNAY-GUA_7         0             NA        NA        NA        NA\n",
       "12583 TRNAY-GUA_8         0             NA        NA        NA        NA\n",
       "12584      UBTFL1         0             NA        NA        NA        NA\n",
       "12585         UTY         0             NA        NA        NA        NA\n",
       "           padj            tissue\n",
       "      <numeric>       <character>\n",
       "1            NA prefrontal_cortex\n",
       "2            NA prefrontal_cortex\n",
       "3            NA prefrontal_cortex\n",
       "4            NA prefrontal_cortex\n",
       "5            NA prefrontal_cortex\n",
       "...         ...               ...\n",
       "12581        NA             liver\n",
       "12582        NA             liver\n",
       "12583        NA             liver\n",
       "12584        NA             liver\n",
       "12585        NA             liver"
      ]
     },
     "metadata": {},
     "output_type": "display_data"
    }
   ],
   "source": [
    "NA_results <- all_results[is.na(all_results$pvalue), ]\n",
    "NA_results"
   ]
  },
  {
   "cell_type": "code",
   "execution_count": 25,
   "id": "44adee51-13d5-45a6-a756-0c54a72a8ec1",
   "metadata": {},
   "outputs": [
    {
     "data": {
      "text/html": [
       "<table class=\"dataframe\">\n",
       "<caption>A data.frame: 6 × 1</caption>\n",
       "<thead>\n",
       "\t<tr><th></th><th scope=col>gene</th></tr>\n",
       "\t<tr><th></th><th scope=col>&lt;fct&gt;</th></tr>\n",
       "</thead>\n",
       "<tbody>\n",
       "\t<tr><th scope=row>1</th><td>ALG11      </td></tr>\n",
       "\t<tr><th scope=row>2</th><td>AMELY      </td></tr>\n",
       "\t<tr><th scope=row>3</th><td>ARL4A      </td></tr>\n",
       "\t<tr><th scope=row>4</th><td>C12H12orf77</td></tr>\n",
       "\t<tr><th scope=row>5</th><td>C19H19orf33</td></tr>\n",
       "\t<tr><th scope=row>6</th><td>C1H1orf68  </td></tr>\n",
       "</tbody>\n",
       "</table>\n"
      ],
      "text/latex": [
       "A data.frame: 6 × 1\n",
       "\\begin{tabular}{r|l}\n",
       "  & gene\\\\\n",
       "  & <fct>\\\\\n",
       "\\hline\n",
       "\t1 & ALG11      \\\\\n",
       "\t2 & AMELY      \\\\\n",
       "\t3 & ARL4A      \\\\\n",
       "\t4 & C12H12orf77\\\\\n",
       "\t5 & C19H19orf33\\\\\n",
       "\t6 & C1H1orf68  \\\\\n",
       "\\end{tabular}\n"
      ],
      "text/markdown": [
       "\n",
       "A data.frame: 6 × 1\n",
       "\n",
       "| <!--/--> | gene &lt;fct&gt; |\n",
       "|---|---|\n",
       "| 1 | ALG11       |\n",
       "| 2 | AMELY       |\n",
       "| 3 | ARL4A       |\n",
       "| 4 | C12H12orf77 |\n",
       "| 5 | C19H19orf33 |\n",
       "| 6 | C1H1orf68   |\n",
       "\n"
      ],
      "text/plain": [
       "  gene       \n",
       "1 ALG11      \n",
       "2 AMELY      \n",
       "3 ARL4A      \n",
       "4 C12H12orf77\n",
       "5 C19H19orf33\n",
       "6 C1H1orf68  "
      ]
     },
     "metadata": {},
     "output_type": "display_data"
    }
   ],
   "source": [
    "NA_genes <- data.frame(NA_results$gene)\n",
    "colnames(NA_genes) <- c('gene')\n",
    "NA_genes$gene <- as.factor(NA_genes$gene)\n",
    "NA_genes <- unique(NA_genes)\n",
    "head(NA_genes)"
   ]
  },
  {
   "cell_type": "code",
   "execution_count": 26,
   "id": "ac724c3a-426f-4708-9d55-cc7f8e89ed1b",
   "metadata": {
    "scrolled": true
   },
   "outputs": [
    {
     "data": {
      "text/html": [
       "2517"
      ],
      "text/latex": [
       "2517"
      ],
      "text/markdown": [
       "2517"
      ],
      "text/plain": [
       "[1] 2517"
      ]
     },
     "metadata": {},
     "output_type": "display_data"
    }
   ],
   "source": [
    "nrow(NA_genes)"
   ]
  },
  {
   "cell_type": "markdown",
   "id": "25d18c3f-2a75-40a9-8a0f-245fb691cfe9",
   "metadata": {},
   "source": [
    "Let's remove genes from this list that had at least one tissue that showed differential expression."
   ]
  },
  {
   "cell_type": "code",
   "execution_count": 27,
   "id": "fa604d72-50ff-41b6-b0cb-06955b200311",
   "metadata": {},
   "outputs": [],
   "source": [
    "NA_genes <- data.frame(NA_genes$gene[!(NA_genes$gene %in% DE_genes$gene)])\n",
    "colnames(NA_genes) <- c('gene')"
   ]
  },
  {
   "cell_type": "code",
   "execution_count": 28,
   "id": "db02527c-f2f1-4f7d-a87e-ffebb336a07b",
   "metadata": {},
   "outputs": [
    {
     "data": {
      "text/html": [
       "2517"
      ],
      "text/latex": [
       "2517"
      ],
      "text/markdown": [
       "2517"
      ],
      "text/plain": [
       "[1] 2517"
      ]
     },
     "metadata": {},
     "output_type": "display_data"
    }
   ],
   "source": [
    "nrow(NA_genes)"
   ]
  },
  {
   "cell_type": "markdown",
   "id": "2cdf9f16-d0dc-4447-8e05-02f2ceca5996",
   "metadata": {},
   "source": [
    "Save this dataframe."
   ]
  },
  {
   "cell_type": "code",
   "execution_count": 29,
   "id": "e4573c1c-0c7e-4391-8173-937481bdf68b",
   "metadata": {},
   "outputs": [],
   "source": [
    "write.table(NA_genes, 'ppn_pt_missing_expression_genes.txt', quote = FALSE, sep = '\\t', row.names = FALSE, col.names = FALSE)"
   ]
  },
  {
   "cell_type": "markdown",
   "id": "2f27e9f1-e66e-440b-ac89-0e91a65d7d79",
   "metadata": {},
   "source": [
    "Finally, let's get a list of non-DE genes that we were able to evaluate."
   ]
  },
  {
   "cell_type": "code",
   "execution_count": 30,
   "id": "b615ec0b-d126-4ee0-a1b9-ded2cb0b7c62",
   "metadata": {
    "scrolled": true
   },
   "outputs": [
    {
     "data": {
      "text/html": [
       "<table class=\"dataframe\">\n",
       "<caption>A data.frame: 34718 × 1</caption>\n",
       "<thead>\n",
       "\t<tr><th></th><th scope=col>gene</th></tr>\n",
       "\t<tr><th></th><th scope=col>&lt;fct&gt;</th></tr>\n",
       "</thead>\n",
       "<tbody>\n",
       "\t<tr><th scope=row>1</th><td>A1BG    </td></tr>\n",
       "\t<tr><th scope=row>2</th><td>A1CF    </td></tr>\n",
       "\t<tr><th scope=row>3</th><td>A2M     </td></tr>\n",
       "\t<tr><th scope=row>4</th><td>A2ML1   </td></tr>\n",
       "\t<tr><th scope=row>5</th><td>A3GALT2 </td></tr>\n",
       "\t<tr><th scope=row>6</th><td>A4GALT  </td></tr>\n",
       "\t<tr><th scope=row>7</th><td>A4GNT   </td></tr>\n",
       "\t<tr><th scope=row>8</th><td>AAAS    </td></tr>\n",
       "\t<tr><th scope=row>9</th><td>AACS    </td></tr>\n",
       "\t<tr><th scope=row>10</th><td>AADAC   </td></tr>\n",
       "\t<tr><th scope=row>11</th><td>AADACL2 </td></tr>\n",
       "\t<tr><th scope=row>12</th><td>AADACL3 </td></tr>\n",
       "\t<tr><th scope=row>13</th><td>AADACL4 </td></tr>\n",
       "\t<tr><th scope=row>14</th><td>AADAT   </td></tr>\n",
       "\t<tr><th scope=row>15</th><td>AAED1   </td></tr>\n",
       "\t<tr><th scope=row>16</th><td>AAGAB   </td></tr>\n",
       "\t<tr><th scope=row>17</th><td>AAK1    </td></tr>\n",
       "\t<tr><th scope=row>18</th><td>AAMDC   </td></tr>\n",
       "\t<tr><th scope=row>19</th><td>AAMP    </td></tr>\n",
       "\t<tr><th scope=row>20</th><td>AANAT   </td></tr>\n",
       "\t<tr><th scope=row>21</th><td>AAR2    </td></tr>\n",
       "\t<tr><th scope=row>22</th><td>AARD    </td></tr>\n",
       "\t<tr><th scope=row>23</th><td>AARS    </td></tr>\n",
       "\t<tr><th scope=row>24</th><td>AARS2   </td></tr>\n",
       "\t<tr><th scope=row>25</th><td>AARSD1  </td></tr>\n",
       "\t<tr><th scope=row>26</th><td>AASDH   </td></tr>\n",
       "\t<tr><th scope=row>27</th><td>AASDHPPT</td></tr>\n",
       "\t<tr><th scope=row>28</th><td>AASS    </td></tr>\n",
       "\t<tr><th scope=row>29</th><td>AATF    </td></tr>\n",
       "\t<tr><th scope=row>30</th><td>AATK    </td></tr>\n",
       "\t<tr><th scope=row>⋮</th><td>⋮</td></tr>\n",
       "\t<tr><th scope=row>34689</th><td>ZSCAN25</td></tr>\n",
       "\t<tr><th scope=row>34690</th><td>ZSCAN26</td></tr>\n",
       "\t<tr><th scope=row>34691</th><td>ZSCAN29</td></tr>\n",
       "\t<tr><th scope=row>34692</th><td>ZSCAN30</td></tr>\n",
       "\t<tr><th scope=row>34693</th><td>ZSCAN31</td></tr>\n",
       "\t<tr><th scope=row>34694</th><td>ZSCAN32</td></tr>\n",
       "\t<tr><th scope=row>34695</th><td>ZSCAN4 </td></tr>\n",
       "\t<tr><th scope=row>34696</th><td>ZSCAN5A</td></tr>\n",
       "\t<tr><th scope=row>34697</th><td>ZSCAN5B</td></tr>\n",
       "\t<tr><th scope=row>34698</th><td>ZSCAN9 </td></tr>\n",
       "\t<tr><th scope=row>34699</th><td>ZSWIM1 </td></tr>\n",
       "\t<tr><th scope=row>34700</th><td>ZSWIM2 </td></tr>\n",
       "\t<tr><th scope=row>34701</th><td>ZSWIM3 </td></tr>\n",
       "\t<tr><th scope=row>34702</th><td>ZSWIM4 </td></tr>\n",
       "\t<tr><th scope=row>34703</th><td>ZSWIM5 </td></tr>\n",
       "\t<tr><th scope=row>34704</th><td>ZSWIM6 </td></tr>\n",
       "\t<tr><th scope=row>34705</th><td>ZSWIM7 </td></tr>\n",
       "\t<tr><th scope=row>34706</th><td>ZSWIM8 </td></tr>\n",
       "\t<tr><th scope=row>34707</th><td>ZSWIM9 </td></tr>\n",
       "\t<tr><th scope=row>34708</th><td>ZUP1   </td></tr>\n",
       "\t<tr><th scope=row>34709</th><td>ZW10   </td></tr>\n",
       "\t<tr><th scope=row>34710</th><td>ZWILCH </td></tr>\n",
       "\t<tr><th scope=row>34711</th><td>ZWINT  </td></tr>\n",
       "\t<tr><th scope=row>34712</th><td>ZXDA   </td></tr>\n",
       "\t<tr><th scope=row>34713</th><td>ZXDC   </td></tr>\n",
       "\t<tr><th scope=row>34714</th><td>ZYG11A </td></tr>\n",
       "\t<tr><th scope=row>34715</th><td>ZYG11B </td></tr>\n",
       "\t<tr><th scope=row>34716</th><td>ZYX    </td></tr>\n",
       "\t<tr><th scope=row>34717</th><td>ZZEF1  </td></tr>\n",
       "\t<tr><th scope=row>34718</th><td>ZZZ3   </td></tr>\n",
       "</tbody>\n",
       "</table>\n"
      ],
      "text/latex": [
       "A data.frame: 34718 × 1\n",
       "\\begin{tabular}{r|l}\n",
       "  & gene\\\\\n",
       "  & <fct>\\\\\n",
       "\\hline\n",
       "\t1 & A1BG    \\\\\n",
       "\t2 & A1CF    \\\\\n",
       "\t3 & A2M     \\\\\n",
       "\t4 & A2ML1   \\\\\n",
       "\t5 & A3GALT2 \\\\\n",
       "\t6 & A4GALT  \\\\\n",
       "\t7 & A4GNT   \\\\\n",
       "\t8 & AAAS    \\\\\n",
       "\t9 & AACS    \\\\\n",
       "\t10 & AADAC   \\\\\n",
       "\t11 & AADACL2 \\\\\n",
       "\t12 & AADACL3 \\\\\n",
       "\t13 & AADACL4 \\\\\n",
       "\t14 & AADAT   \\\\\n",
       "\t15 & AAED1   \\\\\n",
       "\t16 & AAGAB   \\\\\n",
       "\t17 & AAK1    \\\\\n",
       "\t18 & AAMDC   \\\\\n",
       "\t19 & AAMP    \\\\\n",
       "\t20 & AANAT   \\\\\n",
       "\t21 & AAR2    \\\\\n",
       "\t22 & AARD    \\\\\n",
       "\t23 & AARS    \\\\\n",
       "\t24 & AARS2   \\\\\n",
       "\t25 & AARSD1  \\\\\n",
       "\t26 & AASDH   \\\\\n",
       "\t27 & AASDHPPT\\\\\n",
       "\t28 & AASS    \\\\\n",
       "\t29 & AATF    \\\\\n",
       "\t30 & AATK    \\\\\n",
       "\t⋮ & ⋮\\\\\n",
       "\t34689 & ZSCAN25\\\\\n",
       "\t34690 & ZSCAN26\\\\\n",
       "\t34691 & ZSCAN29\\\\\n",
       "\t34692 & ZSCAN30\\\\\n",
       "\t34693 & ZSCAN31\\\\\n",
       "\t34694 & ZSCAN32\\\\\n",
       "\t34695 & ZSCAN4 \\\\\n",
       "\t34696 & ZSCAN5A\\\\\n",
       "\t34697 & ZSCAN5B\\\\\n",
       "\t34698 & ZSCAN9 \\\\\n",
       "\t34699 & ZSWIM1 \\\\\n",
       "\t34700 & ZSWIM2 \\\\\n",
       "\t34701 & ZSWIM3 \\\\\n",
       "\t34702 & ZSWIM4 \\\\\n",
       "\t34703 & ZSWIM5 \\\\\n",
       "\t34704 & ZSWIM6 \\\\\n",
       "\t34705 & ZSWIM7 \\\\\n",
       "\t34706 & ZSWIM8 \\\\\n",
       "\t34707 & ZSWIM9 \\\\\n",
       "\t34708 & ZUP1   \\\\\n",
       "\t34709 & ZW10   \\\\\n",
       "\t34710 & ZWILCH \\\\\n",
       "\t34711 & ZWINT  \\\\\n",
       "\t34712 & ZXDA   \\\\\n",
       "\t34713 & ZXDC   \\\\\n",
       "\t34714 & ZYG11A \\\\\n",
       "\t34715 & ZYG11B \\\\\n",
       "\t34716 & ZYX    \\\\\n",
       "\t34717 & ZZEF1  \\\\\n",
       "\t34718 & ZZZ3   \\\\\n",
       "\\end{tabular}\n"
      ],
      "text/markdown": [
       "\n",
       "A data.frame: 34718 × 1\n",
       "\n",
       "| <!--/--> | gene &lt;fct&gt; |\n",
       "|---|---|\n",
       "| 1 | A1BG     |\n",
       "| 2 | A1CF     |\n",
       "| 3 | A2M      |\n",
       "| 4 | A2ML1    |\n",
       "| 5 | A3GALT2  |\n",
       "| 6 | A4GALT   |\n",
       "| 7 | A4GNT    |\n",
       "| 8 | AAAS     |\n",
       "| 9 | AACS     |\n",
       "| 10 | AADAC    |\n",
       "| 11 | AADACL2  |\n",
       "| 12 | AADACL3  |\n",
       "| 13 | AADACL4  |\n",
       "| 14 | AADAT    |\n",
       "| 15 | AAED1    |\n",
       "| 16 | AAGAB    |\n",
       "| 17 | AAK1     |\n",
       "| 18 | AAMDC    |\n",
       "| 19 | AAMP     |\n",
       "| 20 | AANAT    |\n",
       "| 21 | AAR2     |\n",
       "| 22 | AARD     |\n",
       "| 23 | AARS     |\n",
       "| 24 | AARS2    |\n",
       "| 25 | AARSD1   |\n",
       "| 26 | AASDH    |\n",
       "| 27 | AASDHPPT |\n",
       "| 28 | AASS     |\n",
       "| 29 | AATF     |\n",
       "| 30 | AATK     |\n",
       "| ⋮ | ⋮ |\n",
       "| 34689 | ZSCAN25 |\n",
       "| 34690 | ZSCAN26 |\n",
       "| 34691 | ZSCAN29 |\n",
       "| 34692 | ZSCAN30 |\n",
       "| 34693 | ZSCAN31 |\n",
       "| 34694 | ZSCAN32 |\n",
       "| 34695 | ZSCAN4  |\n",
       "| 34696 | ZSCAN5A |\n",
       "| 34697 | ZSCAN5B |\n",
       "| 34698 | ZSCAN9  |\n",
       "| 34699 | ZSWIM1  |\n",
       "| 34700 | ZSWIM2  |\n",
       "| 34701 | ZSWIM3  |\n",
       "| 34702 | ZSWIM4  |\n",
       "| 34703 | ZSWIM5  |\n",
       "| 34704 | ZSWIM6  |\n",
       "| 34705 | ZSWIM7  |\n",
       "| 34706 | ZSWIM8  |\n",
       "| 34707 | ZSWIM9  |\n",
       "| 34708 | ZUP1    |\n",
       "| 34709 | ZW10    |\n",
       "| 34710 | ZWILCH  |\n",
       "| 34711 | ZWINT   |\n",
       "| 34712 | ZXDA    |\n",
       "| 34713 | ZXDC    |\n",
       "| 34714 | ZYG11A  |\n",
       "| 34715 | ZYG11B  |\n",
       "| 34716 | ZYX     |\n",
       "| 34717 | ZZEF1   |\n",
       "| 34718 | ZZZ3    |\n",
       "\n"
      ],
      "text/plain": [
       "      gene    \n",
       "1     A1BG    \n",
       "2     A1CF    \n",
       "3     A2M     \n",
       "4     A2ML1   \n",
       "5     A3GALT2 \n",
       "6     A4GALT  \n",
       "7     A4GNT   \n",
       "8     AAAS    \n",
       "9     AACS    \n",
       "10    AADAC   \n",
       "11    AADACL2 \n",
       "12    AADACL3 \n",
       "13    AADACL4 \n",
       "14    AADAT   \n",
       "15    AAED1   \n",
       "16    AAGAB   \n",
       "17    AAK1    \n",
       "18    AAMDC   \n",
       "19    AAMP    \n",
       "20    AANAT   \n",
       "21    AAR2    \n",
       "22    AARD    \n",
       "23    AARS    \n",
       "24    AARS2   \n",
       "25    AARSD1  \n",
       "26    AASDH   \n",
       "27    AASDHPPT\n",
       "28    AASS    \n",
       "29    AATF    \n",
       "30    AATK    \n",
       "⋮     ⋮       \n",
       "34689 ZSCAN25 \n",
       "34690 ZSCAN26 \n",
       "34691 ZSCAN29 \n",
       "34692 ZSCAN30 \n",
       "34693 ZSCAN31 \n",
       "34694 ZSCAN32 \n",
       "34695 ZSCAN4  \n",
       "34696 ZSCAN5A \n",
       "34697 ZSCAN5B \n",
       "34698 ZSCAN9  \n",
       "34699 ZSWIM1  \n",
       "34700 ZSWIM2  \n",
       "34701 ZSWIM3  \n",
       "34702 ZSWIM4  \n",
       "34703 ZSWIM5  \n",
       "34704 ZSWIM6  \n",
       "34705 ZSWIM7  \n",
       "34706 ZSWIM8  \n",
       "34707 ZSWIM9  \n",
       "34708 ZUP1    \n",
       "34709 ZW10    \n",
       "34710 ZWILCH  \n",
       "34711 ZWINT   \n",
       "34712 ZXDA    \n",
       "34713 ZXDC    \n",
       "34714 ZYG11A  \n",
       "34715 ZYG11B  \n",
       "34716 ZYX     \n",
       "34717 ZZEF1   \n",
       "34718 ZZZ3    "
      ]
     },
     "metadata": {},
     "output_type": "display_data"
    }
   ],
   "source": [
    "non_DE_genes <- data.frame(all_results$gene)\n",
    "colnames(non_DE_genes) <- c('gene')\n",
    "non_DE_genes$gene <- as.factor(non_DE_genes$gene)\n",
    "non_DE_genes <- unique(non_DE_genes)\n",
    "non_DE_genes"
   ]
  },
  {
   "cell_type": "code",
   "execution_count": 31,
   "id": "7e5fa8ab-1185-4741-8f79-ec1cad466aec",
   "metadata": {},
   "outputs": [],
   "source": [
    "non_DE_genes <- data.frame(non_DE_genes$gene[!(non_DE_genes$gene %in% NA_genes$gene | non_DE_genes$gene %in% DE_genes$gene)])"
   ]
  },
  {
   "cell_type": "code",
   "execution_count": 32,
   "id": "6c716778-a2e7-4fee-9a64-b6bb24d801ba",
   "metadata": {},
   "outputs": [
    {
     "data": {
      "text/html": [
       "28869"
      ],
      "text/latex": [
       "28869"
      ],
      "text/markdown": [
       "28869"
      ],
      "text/plain": [
       "[1] 28869"
      ]
     },
     "metadata": {},
     "output_type": "display_data"
    }
   ],
   "source": [
    "nrow(non_DE_genes)"
   ]
  },
  {
   "cell_type": "code",
   "execution_count": 33,
   "id": "57d7c9a9-c484-4a2b-b279-25d3b1233b4d",
   "metadata": {},
   "outputs": [],
   "source": [
    "write.table(non_DE_genes, 'ppn_pt_non_DE_genes.txt', quote = FALSE, sep = '\\t', row.names = FALSE, col.names = FALSE)"
   ]
  },
  {
   "cell_type": "code",
   "execution_count": null,
   "id": "253e4dd5-0fc4-4146-91ed-a10080c6a020",
   "metadata": {},
   "outputs": [],
   "source": []
  }
 ],
 "metadata": {
  "kernelspec": {
   "display_name": "R",
   "language": "R",
   "name": "ir"
  },
  "language_info": {
   "codemirror_mode": "r",
   "file_extension": ".r",
   "mimetype": "text/x-r-source",
   "name": "R",
   "pygments_lexer": "r",
   "version": "4.0.5"
  }
 },
 "nbformat": 4,
 "nbformat_minor": 5
}
