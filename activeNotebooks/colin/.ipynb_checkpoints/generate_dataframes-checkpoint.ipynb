{
 "cells": [
  {
   "cell_type": "markdown",
   "id": "01fc21be",
   "metadata": {},
   "source": [
    "# Generate Dataframes"
   ]
  },
  {
   "cell_type": "markdown",
   "id": "3800db48",
   "metadata": {},
   "source": [
    "## Table of Contents"
   ]
  },
  {
   "cell_type": "code",
   "execution_count": 1,
   "id": "d9ae98e8",
   "metadata": {},
   "outputs": [],
   "source": [
    "import pandas as pd"
   ]
  },
  {
   "cell_type": "code",
   "execution_count": 2,
   "id": "19ca5137",
   "metadata": {},
   "outputs": [
    {
     "name": "stdout",
     "output_type": "stream",
     "text": [
      "/wynton/group/capra/projects/pan_3d_genome/data/comparisons\n"
     ]
    }
   ],
   "source": [
    "cd ../../data/comparisons"
   ]
  },
  {
   "cell_type": "markdown",
   "id": "04a2ac3b",
   "metadata": {},
   "source": [
    "## Load Pairwise Data and Generate New Dataframe"
   ]
  },
  {
   "cell_type": "markdown",
   "id": "8d86476c",
   "metadata": {},
   "source": [
    "Let's load all of the pairwise HFF data to start. "
   ]
  },
  {
   "cell_type": "code",
   "execution_count": 3,
   "id": "3149fd67",
   "metadata": {
    "scrolled": true
   },
   "outputs": [
    {
     "data": {
      "text/html": [
       "<div>\n",
       "<style scoped>\n",
       "    .dataframe tbody tr th:only-of-type {\n",
       "        vertical-align: middle;\n",
       "    }\n",
       "\n",
       "    .dataframe tbody tr th {\n",
       "        vertical-align: top;\n",
       "    }\n",
       "\n",
       "    .dataframe thead th {\n",
       "        text-align: right;\n",
       "    }\n",
       "</style>\n",
       "<table border=\"1\" class=\"dataframe\">\n",
       "  <thead>\n",
       "    <tr style=\"text-align: right;\">\n",
       "      <th></th>\n",
       "      <th>ind1</th>\n",
       "      <th>ind2</th>\n",
       "      <th>chr</th>\n",
       "      <th>window_start</th>\n",
       "      <th>mse</th>\n",
       "      <th>spearman</th>\n",
       "    </tr>\n",
       "  </thead>\n",
       "  <tbody>\n",
       "    <tr>\n",
       "      <th>0</th>\n",
       "      <td>Akwaya-Jean</td>\n",
       "      <td>Alfred</td>\n",
       "      <td>chr10</td>\n",
       "      <td>0</td>\n",
       "      <td>0.002914</td>\n",
       "      <td>0.990228</td>\n",
       "    </tr>\n",
       "    <tr>\n",
       "      <th>1</th>\n",
       "      <td>Akwaya-Jean</td>\n",
       "      <td>Alfred</td>\n",
       "      <td>chr10</td>\n",
       "      <td>524288</td>\n",
       "      <td>0.000705</td>\n",
       "      <td>0.998648</td>\n",
       "    </tr>\n",
       "    <tr>\n",
       "      <th>2</th>\n",
       "      <td>Akwaya-Jean</td>\n",
       "      <td>Alfred</td>\n",
       "      <td>chr10</td>\n",
       "      <td>1048576</td>\n",
       "      <td>0.000967</td>\n",
       "      <td>0.990023</td>\n",
       "    </tr>\n",
       "    <tr>\n",
       "      <th>3</th>\n",
       "      <td>Akwaya-Jean</td>\n",
       "      <td>Alfred</td>\n",
       "      <td>chr10</td>\n",
       "      <td>1572864</td>\n",
       "      <td>0.000168</td>\n",
       "      <td>0.987655</td>\n",
       "    </tr>\n",
       "    <tr>\n",
       "      <th>4</th>\n",
       "      <td>Akwaya-Jean</td>\n",
       "      <td>Alfred</td>\n",
       "      <td>chr10</td>\n",
       "      <td>2097152</td>\n",
       "      <td>0.000481</td>\n",
       "      <td>0.969809</td>\n",
       "    </tr>\n",
       "  </tbody>\n",
       "</table>\n",
       "</div>"
      ],
      "text/plain": [
       "          ind1    ind2    chr  window_start       mse  spearman\n",
       "0  Akwaya-Jean  Alfred  chr10             0  0.002914  0.990228\n",
       "1  Akwaya-Jean  Alfred  chr10        524288  0.000705  0.998648\n",
       "2  Akwaya-Jean  Alfred  chr10       1048576  0.000967  0.990023\n",
       "3  Akwaya-Jean  Alfred  chr10       1572864  0.000168  0.987655\n",
       "4  Akwaya-Jean  Alfred  chr10       2097152  0.000481  0.969809"
      ]
     },
     "execution_count": 3,
     "metadata": {},
     "output_type": "execute_result"
    }
   ],
   "source": [
    "comparisons_header = ['ind1','ind2','chr','window_start','mse','spearman']\n",
    "HFF_comparisons = pd.read_csv('HFF/all_HFF_comparisons.txt', sep = '\\t', header = None, names = comparisons_header)\n",
    "HFF_comparisons.head(5)"
   ]
  },
  {
   "cell_type": "code",
   "execution_count": 4,
   "id": "460de750",
   "metadata": {},
   "outputs": [
    {
     "data": {
      "text/plain": [
       "13212745"
      ]
     },
     "execution_count": 4,
     "metadata": {},
     "output_type": "execute_result"
    }
   ],
   "source": [
    "len(HFF_comparisons)"
   ]
  },
  {
   "cell_type": "markdown",
   "id": "70f321d7",
   "metadata": {},
   "source": [
    "Quick sanity check that this length is what we expect. Let's multiply the number of windows by the number of possible pairs."
   ]
  },
  {
   "cell_type": "code",
   "execution_count": 5,
   "id": "9d63e943",
   "metadata": {},
   "outputs": [
    {
     "data": {
      "text/plain": [
       "13212745"
      ]
     },
     "execution_count": 5,
     "metadata": {},
     "output_type": "execute_result"
    }
   ],
   "source": [
    "5317 * 2485"
   ]
  },
  {
   "cell_type": "markdown",
   "id": "f7e411c6",
   "metadata": {},
   "source": [
    "Add two columns: one with the 'divergence' metric (1 - spearman) and another with a window label that concatenates the chromosome and window start position."
   ]
  },
  {
   "cell_type": "code",
   "execution_count": 6,
   "id": "10d66165",
   "metadata": {
    "scrolled": true
   },
   "outputs": [
    {
     "data": {
      "text/html": [
       "<div>\n",
       "<style scoped>\n",
       "    .dataframe tbody tr th:only-of-type {\n",
       "        vertical-align: middle;\n",
       "    }\n",
       "\n",
       "    .dataframe tbody tr th {\n",
       "        vertical-align: top;\n",
       "    }\n",
       "\n",
       "    .dataframe thead th {\n",
       "        text-align: right;\n",
       "    }\n",
       "</style>\n",
       "<table border=\"1\" class=\"dataframe\">\n",
       "  <thead>\n",
       "    <tr style=\"text-align: right;\">\n",
       "      <th></th>\n",
       "      <th>ind1</th>\n",
       "      <th>ind2</th>\n",
       "      <th>chr</th>\n",
       "      <th>window_start</th>\n",
       "      <th>window</th>\n",
       "      <th>mse</th>\n",
       "      <th>spearman</th>\n",
       "      <th>divergence</th>\n",
       "    </tr>\n",
       "  </thead>\n",
       "  <tbody>\n",
       "    <tr>\n",
       "      <th>0</th>\n",
       "      <td>Akwaya-Jean</td>\n",
       "      <td>Alfred</td>\n",
       "      <td>chr10</td>\n",
       "      <td>0</td>\n",
       "      <td>chr10_0</td>\n",
       "      <td>0.002914</td>\n",
       "      <td>0.990228</td>\n",
       "      <td>0.009772</td>\n",
       "    </tr>\n",
       "    <tr>\n",
       "      <th>1</th>\n",
       "      <td>Akwaya-Jean</td>\n",
       "      <td>Alfred</td>\n",
       "      <td>chr10</td>\n",
       "      <td>524288</td>\n",
       "      <td>chr10_524288</td>\n",
       "      <td>0.000705</td>\n",
       "      <td>0.998648</td>\n",
       "      <td>0.001352</td>\n",
       "    </tr>\n",
       "    <tr>\n",
       "      <th>2</th>\n",
       "      <td>Akwaya-Jean</td>\n",
       "      <td>Alfred</td>\n",
       "      <td>chr10</td>\n",
       "      <td>1048576</td>\n",
       "      <td>chr10_1048576</td>\n",
       "      <td>0.000967</td>\n",
       "      <td>0.990023</td>\n",
       "      <td>0.009977</td>\n",
       "    </tr>\n",
       "    <tr>\n",
       "      <th>3</th>\n",
       "      <td>Akwaya-Jean</td>\n",
       "      <td>Alfred</td>\n",
       "      <td>chr10</td>\n",
       "      <td>1572864</td>\n",
       "      <td>chr10_1572864</td>\n",
       "      <td>0.000168</td>\n",
       "      <td>0.987655</td>\n",
       "      <td>0.012345</td>\n",
       "    </tr>\n",
       "    <tr>\n",
       "      <th>4</th>\n",
       "      <td>Akwaya-Jean</td>\n",
       "      <td>Alfred</td>\n",
       "      <td>chr10</td>\n",
       "      <td>2097152</td>\n",
       "      <td>chr10_2097152</td>\n",
       "      <td>0.000481</td>\n",
       "      <td>0.969809</td>\n",
       "      <td>0.030191</td>\n",
       "    </tr>\n",
       "  </tbody>\n",
       "</table>\n",
       "</div>"
      ],
      "text/plain": [
       "          ind1    ind2    chr  window_start         window       mse  \\\n",
       "0  Akwaya-Jean  Alfred  chr10             0        chr10_0  0.002914   \n",
       "1  Akwaya-Jean  Alfred  chr10        524288   chr10_524288  0.000705   \n",
       "2  Akwaya-Jean  Alfred  chr10       1048576  chr10_1048576  0.000967   \n",
       "3  Akwaya-Jean  Alfred  chr10       1572864  chr10_1572864  0.000168   \n",
       "4  Akwaya-Jean  Alfred  chr10       2097152  chr10_2097152  0.000481   \n",
       "\n",
       "   spearman  divergence  \n",
       "0  0.990228    0.009772  \n",
       "1  0.998648    0.001352  \n",
       "2  0.990023    0.009977  \n",
       "3  0.987655    0.012345  \n",
       "4  0.969809    0.030191  "
      ]
     },
     "execution_count": 6,
     "metadata": {},
     "output_type": "execute_result"
    }
   ],
   "source": [
    "HFF_comparisons['divergence'] = 1 - HFF_comparisons['spearman']\n",
    "HFF_comparisons['window'] = HFF_comparisons['chr'] + '_' + HFF_comparisons['window_start'].astype(str)\n",
    "HFF_comparisons = HFF_comparisons[['ind1','ind2','chr','window_start','window','mse','spearman','divergence']]\n",
    "HFF_comparisons.head(5)"
   ]
  },
  {
   "cell_type": "markdown",
   "id": "af4d2779",
   "metadata": {},
   "source": [
    "Let's filter out windows that met any of the following criteria: 1) have at least one 'N' in the reference genome, 2) individuals with variants that did not pass our quality filters, and 3) any X chromosome window comparison that includes a male due to hemizygosity in males."
   ]
  },
  {
   "cell_type": "code",
   "execution_count": 7,
   "id": "3338e7dc",
   "metadata": {
    "scrolled": true
   },
   "outputs": [
    {
     "data": {
      "text/html": [
       "<div>\n",
       "<style scoped>\n",
       "    .dataframe tbody tr th:only-of-type {\n",
       "        vertical-align: middle;\n",
       "    }\n",
       "\n",
       "    .dataframe tbody tr th {\n",
       "        vertical-align: top;\n",
       "    }\n",
       "\n",
       "    .dataframe thead th {\n",
       "        text-align: right;\n",
       "    }\n",
       "</style>\n",
       "<table border=\"1\" class=\"dataframe\">\n",
       "  <thead>\n",
       "    <tr style=\"text-align: right;\">\n",
       "      <th></th>\n",
       "      <th>chr</th>\n",
       "      <th>start</th>\n",
       "      <th>end</th>\n",
       "      <th>N_missing</th>\n",
       "      <th>window</th>\n",
       "    </tr>\n",
       "  </thead>\n",
       "  <tbody>\n",
       "    <tr>\n",
       "      <th>0</th>\n",
       "      <td>chr1</td>\n",
       "      <td>0</td>\n",
       "      <td>1048576</td>\n",
       "      <td>100</td>\n",
       "      <td>chr1_0</td>\n",
       "    </tr>\n",
       "    <tr>\n",
       "      <th>1</th>\n",
       "      <td>chr1</td>\n",
       "      <td>524288</td>\n",
       "      <td>1572864</td>\n",
       "      <td>100</td>\n",
       "      <td>chr1_524288</td>\n",
       "    </tr>\n",
       "    <tr>\n",
       "      <th>2</th>\n",
       "      <td>chr1</td>\n",
       "      <td>4194304</td>\n",
       "      <td>5242880</td>\n",
       "      <td>100</td>\n",
       "      <td>chr1_4194304</td>\n",
       "    </tr>\n",
       "    <tr>\n",
       "      <th>3</th>\n",
       "      <td>chr1</td>\n",
       "      <td>4718592</td>\n",
       "      <td>5767168</td>\n",
       "      <td>100</td>\n",
       "      <td>chr1_4718592</td>\n",
       "    </tr>\n",
       "    <tr>\n",
       "      <th>4</th>\n",
       "      <td>chr1</td>\n",
       "      <td>10485760</td>\n",
       "      <td>11534336</td>\n",
       "      <td>7505</td>\n",
       "      <td>chr1_10485760</td>\n",
       "    </tr>\n",
       "  </tbody>\n",
       "</table>\n",
       "</div>"
      ],
      "text/plain": [
       "    chr     start       end  N_missing         window\n",
       "0  chr1         0   1048576        100         chr1_0\n",
       "1  chr1    524288   1572864        100    chr1_524288\n",
       "2  chr1   4194304   5242880        100   chr1_4194304\n",
       "3  chr1   4718592   5767168        100   chr1_4718592\n",
       "4  chr1  10485760  11534336       7505  chr1_10485760"
      ]
     },
     "execution_count": 7,
     "metadata": {},
     "output_type": "execute_result"
    }
   ],
   "source": [
    "excluded_header = ['chr','start','end','N_missing']\n",
    "excluded = pd.read_csv('../metadata/panTro6_excluded_windows.bed', sep = '\\t', header = None, names = excluded_header)\n",
    "excluded['window'] = excluded['chr'] + '_' + excluded['start'].astype(str)\n",
    "excluded.head(5)"
   ]
  },
  {
   "cell_type": "code",
   "execution_count": 8,
   "id": "3a8709e9",
   "metadata": {},
   "outputs": [],
   "source": [
    "excluded_windows = excluded['window'].tolist()"
   ]
  },
  {
   "cell_type": "code",
   "execution_count": 9,
   "id": "e892db64",
   "metadata": {},
   "outputs": [],
   "source": [
    "inds_to_exclude = ['Annie','Banyo','Basho','Catherine','Chipita','Clara','Harriet','Kopongo','LB502','Mike','Noemie','Padda','Paquita','Salonga','Tobi']"
   ]
  },
  {
   "cell_type": "code",
   "execution_count": 10,
   "id": "13478c26",
   "metadata": {},
   "outputs": [],
   "source": [
    "males = ['Akwaya-Jean','Alfred','Athanga','Basho','Bono','Bosco','Brigitta','Bwamble','Clint','Damian','Desmond','Gamin','Koby','Koto','Mgbadolite','Mike','Padda','SeppToni','Tongo','Vaillant','Vincent','Washu','Yogui']"
   ]
  },
  {
   "cell_type": "code",
   "execution_count": 11,
   "id": "fc9a2283",
   "metadata": {},
   "outputs": [
    {
     "data": {
      "text/html": [
       "<div>\n",
       "<style scoped>\n",
       "    .dataframe tbody tr th:only-of-type {\n",
       "        vertical-align: middle;\n",
       "    }\n",
       "\n",
       "    .dataframe tbody tr th {\n",
       "        vertical-align: top;\n",
       "    }\n",
       "\n",
       "    .dataframe thead th {\n",
       "        text-align: right;\n",
       "    }\n",
       "</style>\n",
       "<table border=\"1\" class=\"dataframe\">\n",
       "  <thead>\n",
       "    <tr style=\"text-align: right;\">\n",
       "      <th></th>\n",
       "      <th>ind1</th>\n",
       "      <th>ind2</th>\n",
       "      <th>chr</th>\n",
       "      <th>window_start</th>\n",
       "      <th>window</th>\n",
       "      <th>mse</th>\n",
       "      <th>spearman</th>\n",
       "      <th>divergence</th>\n",
       "    </tr>\n",
       "  </thead>\n",
       "  <tbody>\n",
       "    <tr>\n",
       "      <th>3</th>\n",
       "      <td>Akwaya-Jean</td>\n",
       "      <td>Alfred</td>\n",
       "      <td>chr10</td>\n",
       "      <td>1572864</td>\n",
       "      <td>chr10_1572864</td>\n",
       "      <td>0.000168</td>\n",
       "      <td>0.987655</td>\n",
       "      <td>0.012345</td>\n",
       "    </tr>\n",
       "    <tr>\n",
       "      <th>4</th>\n",
       "      <td>Akwaya-Jean</td>\n",
       "      <td>Alfred</td>\n",
       "      <td>chr10</td>\n",
       "      <td>2097152</td>\n",
       "      <td>chr10_2097152</td>\n",
       "      <td>0.000481</td>\n",
       "      <td>0.969809</td>\n",
       "      <td>0.030191</td>\n",
       "    </tr>\n",
       "    <tr>\n",
       "      <th>5</th>\n",
       "      <td>Akwaya-Jean</td>\n",
       "      <td>Alfred</td>\n",
       "      <td>chr10</td>\n",
       "      <td>2621440</td>\n",
       "      <td>chr10_2621440</td>\n",
       "      <td>0.001675</td>\n",
       "      <td>0.996398</td>\n",
       "      <td>0.003602</td>\n",
       "    </tr>\n",
       "    <tr>\n",
       "      <th>6</th>\n",
       "      <td>Akwaya-Jean</td>\n",
       "      <td>Alfred</td>\n",
       "      <td>chr10</td>\n",
       "      <td>3145728</td>\n",
       "      <td>chr10_3145728</td>\n",
       "      <td>0.000323</td>\n",
       "      <td>0.997899</td>\n",
       "      <td>0.002101</td>\n",
       "    </tr>\n",
       "    <tr>\n",
       "      <th>7</th>\n",
       "      <td>Akwaya-Jean</td>\n",
       "      <td>Alfred</td>\n",
       "      <td>chr10</td>\n",
       "      <td>3670016</td>\n",
       "      <td>chr10_3670016</td>\n",
       "      <td>0.000143</td>\n",
       "      <td>0.996732</td>\n",
       "      <td>0.003268</td>\n",
       "    </tr>\n",
       "  </tbody>\n",
       "</table>\n",
       "</div>"
      ],
      "text/plain": [
       "          ind1    ind2    chr  window_start         window       mse  \\\n",
       "3  Akwaya-Jean  Alfred  chr10       1572864  chr10_1572864  0.000168   \n",
       "4  Akwaya-Jean  Alfred  chr10       2097152  chr10_2097152  0.000481   \n",
       "5  Akwaya-Jean  Alfred  chr10       2621440  chr10_2621440  0.001675   \n",
       "6  Akwaya-Jean  Alfred  chr10       3145728  chr10_3145728  0.000323   \n",
       "7  Akwaya-Jean  Alfred  chr10       3670016  chr10_3670016  0.000143   \n",
       "\n",
       "   spearman  divergence  \n",
       "3  0.987655    0.012345  \n",
       "4  0.969809    0.030191  \n",
       "5  0.996398    0.003602  \n",
       "6  0.997899    0.002101  \n",
       "7  0.996732    0.003268  "
      ]
     },
     "execution_count": 11,
     "metadata": {},
     "output_type": "execute_result"
    }
   ],
   "source": [
    "HFF_comparisons = HFF_comparisons[~(HFF_comparisons['window'].isin(excluded_windows))]\n",
    "HFF_comparisons = HFF_comparisons[~((HFF_comparisons['ind1'].isin(males)) & (HFF_comparisons['chr'] == 'chrX'))]\n",
    "HFF_comparisons = HFF_comparisons[~((HFF_comparisons['ind2'].isin(males)) & (HFF_comparisons['chr'] == 'chrX'))]\n",
    "HFF_comparisons = HFF_comparisons[~((HFF_comparisons['ind1'].isin(inds_to_exclude)) | (HFF_comparisons['ind2'].isin(inds_to_exclude)))]\n",
    "HFF_comparisons.head(5)"
   ]
  },
  {
   "cell_type": "code",
   "execution_count": 12,
   "id": "1ed49cd2",
   "metadata": {
    "scrolled": true
   },
   "outputs": [
    {
     "data": {
      "text/plain": [
       "6669390"
      ]
     },
     "execution_count": 12,
     "metadata": {},
     "output_type": "execute_result"
    }
   ],
   "source": [
    "len(HFF_comparisons)"
   ]
  },
  {
   "cell_type": "markdown",
   "id": "8c1d514d",
   "metadata": {},
   "source": [
    "Designate the dyad type per comparison. We want to identify dyads that reflect within lineage comparisons, among chimpanzee lineages, and between bonobos and chimpanzees."
   ]
  },
  {
   "cell_type": "code",
   "execution_count": 13,
   "id": "00c98b59",
   "metadata": {},
   "outputs": [],
   "source": [
    "ppn = ['Bono','Desmond','Dzeeta','Hermien','Hortense','Kombote','Kosana','Kumbuka','Natalie']\n",
    "pte = ['Akwaya-Jean','Damian','Julie-LWC21','Koto','Taweh']\n",
    "pts = ['Andromeda','Athanga','Bihati','Bwamble','Cindy-schwein','Cleo','Coco-chimp','Frederike','Ikuru','Kidongo','Maya','Mgbadolite','Nakuu','Tongo','Trixie','Vincent','Washu']\n",
    "ptt = ['Alfred','Blanquita','Brigitta','Cindy-troglodytes','Doris','Gamin','Julie-A959','Lara','Luky','Marlin','Mirinda','Negrita','Tibe','Ula','Vaillant','Yogui']\n",
    "ptv = ['Alice','Berta','Bosco','Cindy-verus','Clint','Jimmie','Koby','Linda','SeppToni']"
   ]
  },
  {
   "cell_type": "code",
   "execution_count": 14,
   "id": "b93df2fb",
   "metadata": {},
   "outputs": [],
   "source": [
    "def dyad_type(HFF_comparisons):\n",
    "    if (HFF_comparisons['ind1'] in ppn) & (HFF_comparisons['ind2'] in ppn):\n",
    "        return 'ppn'\n",
    "    elif (HFF_comparisons['ind1'] in pte) & (HFF_comparisons['ind2'] in pte):\n",
    "        return 'pte'\n",
    "    elif (HFF_comparisons['ind1'] in pts) & (HFF_comparisons['ind2'] in pts):\n",
    "        return 'pts'\n",
    "    elif (HFF_comparisons['ind1'] in ptt) & (HFF_comparisons['ind2'] in ptt):\n",
    "        return 'ptt'\n",
    "    elif (HFF_comparisons['ind1'] in ptv) & (HFF_comparisons['ind2'] in ptv):\n",
    "        return 'ptv'\n",
    "    elif (HFF_comparisons['ind1'] in ppn) & (HFF_comparisons['ind2'] in pte) | (HFF_comparisons['ind1'] in pte) & (HFF_comparisons['ind2'] in ppn):\n",
    "        return 'ppn-pt'\n",
    "    elif (HFF_comparisons['ind1'] in ppn) & (HFF_comparisons['ind2'] in pts) | (HFF_comparisons['ind1'] in pts) & (HFF_comparisons['ind2'] in ppn):\n",
    "        return 'ppn-pt'\n",
    "    elif (HFF_comparisons['ind1'] in ppn) & (HFF_comparisons['ind2'] in ptt) | (HFF_comparisons['ind1'] in ptt) & (HFF_comparisons['ind2'] in ppn):\n",
    "        return 'ppn-pt'\n",
    "    elif (HFF_comparisons['ind1'] in ppn) & (HFF_comparisons['ind2'] in ptv) | (HFF_comparisons['ind1'] in ptv) & (HFF_comparisons['ind2'] in ppn):\n",
    "        return 'ppn-pt'\n",
    "    elif (HFF_comparisons['ind1'] in pte) & (HFF_comparisons['ind2'] in pts) | (HFF_comparisons['ind1'] in pts) & (HFF_comparisons['ind2'] in pte):\n",
    "        return 'pte-pts'\n",
    "    elif (HFF_comparisons['ind1'] in pte) & (HFF_comparisons['ind2'] in ptt) | (HFF_comparisons['ind1'] in ptt) & (HFF_comparisons['ind2'] in pte):\n",
    "        return 'pte-ptt'\n",
    "    elif (HFF_comparisons['ind1'] in pte) & (HFF_comparisons['ind2'] in ptv) | (HFF_comparisons['ind1'] in ptv) & (HFF_comparisons['ind2'] in pte):\n",
    "        return 'pte-ptv'\n",
    "    elif (HFF_comparisons['ind1'] in pts) & (HFF_comparisons['ind2'] in ptt) | (HFF_comparisons['ind1'] in ptt) & (HFF_comparisons['ind2'] in pts):\n",
    "        return 'pts-ptt'\n",
    "    elif (HFF_comparisons['ind1'] in pts) & (HFF_comparisons['ind2'] in ptv) | (HFF_comparisons['ind1'] in ptv) & (HFF_comparisons['ind2'] in pts):\n",
    "        return 'pts-ptv'\n",
    "    elif (HFF_comparisons['ind1'] in ptt) & (HFF_comparisons['ind2'] in ptv) | (HFF_comparisons['ind1'] in ptv) & (HFF_comparisons['ind2'] in ptt):\n",
    "        return 'ptt-ptv'\n",
    "    else:\n",
    "        return 'other'\n",
    "\n",
    "HFF_comparisons['dyad_type'] = HFF_comparisons.apply(dyad_type, axis = 1)"
   ]
  },
  {
   "cell_type": "code",
   "execution_count": 15,
   "id": "669066f3",
   "metadata": {},
   "outputs": [
    {
     "data": {
      "text/plain": [
       "6669390"
      ]
     },
     "execution_count": 15,
     "metadata": {},
     "output_type": "execute_result"
    }
   ],
   "source": [
    "len(HFF_comparisons)"
   ]
  },
  {
   "cell_type": "code",
   "execution_count": 16,
   "id": "9994c42e",
   "metadata": {
    "scrolled": false
   },
   "outputs": [
    {
     "data": {
      "text/html": [
       "<div>\n",
       "<style scoped>\n",
       "    .dataframe tbody tr th:only-of-type {\n",
       "        vertical-align: middle;\n",
       "    }\n",
       "\n",
       "    .dataframe tbody tr th {\n",
       "        vertical-align: top;\n",
       "    }\n",
       "\n",
       "    .dataframe thead th {\n",
       "        text-align: right;\n",
       "    }\n",
       "</style>\n",
       "<table border=\"1\" class=\"dataframe\">\n",
       "  <thead>\n",
       "    <tr style=\"text-align: right;\">\n",
       "      <th></th>\n",
       "      <th>ind1</th>\n",
       "      <th>ind2</th>\n",
       "      <th>dyad_type</th>\n",
       "      <th>chr</th>\n",
       "      <th>window_start</th>\n",
       "      <th>window</th>\n",
       "      <th>mse</th>\n",
       "      <th>spearman</th>\n",
       "      <th>divergence</th>\n",
       "    </tr>\n",
       "  </thead>\n",
       "  <tbody>\n",
       "    <tr>\n",
       "      <th>3</th>\n",
       "      <td>Akwaya-Jean</td>\n",
       "      <td>Alfred</td>\n",
       "      <td>pte-ptt</td>\n",
       "      <td>chr10</td>\n",
       "      <td>1572864</td>\n",
       "      <td>chr10_1572864</td>\n",
       "      <td>0.000168</td>\n",
       "      <td>0.987655</td>\n",
       "      <td>0.012345</td>\n",
       "    </tr>\n",
       "    <tr>\n",
       "      <th>4</th>\n",
       "      <td>Akwaya-Jean</td>\n",
       "      <td>Alfred</td>\n",
       "      <td>pte-ptt</td>\n",
       "      <td>chr10</td>\n",
       "      <td>2097152</td>\n",
       "      <td>chr10_2097152</td>\n",
       "      <td>0.000481</td>\n",
       "      <td>0.969809</td>\n",
       "      <td>0.030191</td>\n",
       "    </tr>\n",
       "    <tr>\n",
       "      <th>5</th>\n",
       "      <td>Akwaya-Jean</td>\n",
       "      <td>Alfred</td>\n",
       "      <td>pte-ptt</td>\n",
       "      <td>chr10</td>\n",
       "      <td>2621440</td>\n",
       "      <td>chr10_2621440</td>\n",
       "      <td>0.001675</td>\n",
       "      <td>0.996398</td>\n",
       "      <td>0.003602</td>\n",
       "    </tr>\n",
       "    <tr>\n",
       "      <th>6</th>\n",
       "      <td>Akwaya-Jean</td>\n",
       "      <td>Alfred</td>\n",
       "      <td>pte-ptt</td>\n",
       "      <td>chr10</td>\n",
       "      <td>3145728</td>\n",
       "      <td>chr10_3145728</td>\n",
       "      <td>0.000323</td>\n",
       "      <td>0.997899</td>\n",
       "      <td>0.002101</td>\n",
       "    </tr>\n",
       "    <tr>\n",
       "      <th>7</th>\n",
       "      <td>Akwaya-Jean</td>\n",
       "      <td>Alfred</td>\n",
       "      <td>pte-ptt</td>\n",
       "      <td>chr10</td>\n",
       "      <td>3670016</td>\n",
       "      <td>chr10_3670016</td>\n",
       "      <td>0.000143</td>\n",
       "      <td>0.996732</td>\n",
       "      <td>0.003268</td>\n",
       "    </tr>\n",
       "  </tbody>\n",
       "</table>\n",
       "</div>"
      ],
      "text/plain": [
       "          ind1    ind2 dyad_type    chr  window_start         window  \\\n",
       "3  Akwaya-Jean  Alfred   pte-ptt  chr10       1572864  chr10_1572864   \n",
       "4  Akwaya-Jean  Alfred   pte-ptt  chr10       2097152  chr10_2097152   \n",
       "5  Akwaya-Jean  Alfred   pte-ptt  chr10       2621440  chr10_2621440   \n",
       "6  Akwaya-Jean  Alfred   pte-ptt  chr10       3145728  chr10_3145728   \n",
       "7  Akwaya-Jean  Alfred   pte-ptt  chr10       3670016  chr10_3670016   \n",
       "\n",
       "        mse  spearman  divergence  \n",
       "3  0.000168  0.987655    0.012345  \n",
       "4  0.000481  0.969809    0.030191  \n",
       "5  0.001675  0.996398    0.003602  \n",
       "6  0.000323  0.997899    0.002101  \n",
       "7  0.000143  0.996732    0.003268  "
      ]
     },
     "execution_count": 16,
     "metadata": {},
     "output_type": "execute_result"
    }
   ],
   "source": [
    "HFF_comparisons = HFF_comparisons[['ind1','ind2','dyad_type','chr','window_start','window','mse','spearman','divergence']]\n",
    "HFF_comparisons.head(5)"
   ]
  },
  {
   "cell_type": "markdown",
   "id": "97680e40",
   "metadata": {},
   "source": [
    "Let's add information on sequence divergence per window."
   ]
  },
  {
   "cell_type": "code",
   "execution_count": 17,
   "id": "c8ba9445",
   "metadata": {},
   "outputs": [
    {
     "data": {
      "text/html": [
       "<div>\n",
       "<style scoped>\n",
       "    .dataframe tbody tr th:only-of-type {\n",
       "        vertical-align: middle;\n",
       "    }\n",
       "\n",
       "    .dataframe tbody tr th {\n",
       "        vertical-align: top;\n",
       "    }\n",
       "\n",
       "    .dataframe thead th {\n",
       "        text-align: right;\n",
       "    }\n",
       "</style>\n",
       "<table border=\"1\" class=\"dataframe\">\n",
       "  <thead>\n",
       "    <tr style=\"text-align: right;\">\n",
       "      <th></th>\n",
       "      <th>ind1</th>\n",
       "      <th>ind2</th>\n",
       "      <th>chr</th>\n",
       "      <th>window_start</th>\n",
       "      <th>window_end</th>\n",
       "      <th>seq_diff</th>\n",
       "    </tr>\n",
       "  </thead>\n",
       "  <tbody>\n",
       "    <tr>\n",
       "      <th>0</th>\n",
       "      <td>Akwaya-Jean</td>\n",
       "      <td>Alfred</td>\n",
       "      <td>chr1</td>\n",
       "      <td>0</td>\n",
       "      <td>1048576</td>\n",
       "      <td>1705</td>\n",
       "    </tr>\n",
       "    <tr>\n",
       "      <th>1</th>\n",
       "      <td>Akwaya-Jean</td>\n",
       "      <td>Alfred</td>\n",
       "      <td>chr1</td>\n",
       "      <td>524288</td>\n",
       "      <td>1572864</td>\n",
       "      <td>1644</td>\n",
       "    </tr>\n",
       "    <tr>\n",
       "      <th>2</th>\n",
       "      <td>Akwaya-Jean</td>\n",
       "      <td>Alfred</td>\n",
       "      <td>chr1</td>\n",
       "      <td>1048576</td>\n",
       "      <td>2097152</td>\n",
       "      <td>1866</td>\n",
       "    </tr>\n",
       "    <tr>\n",
       "      <th>3</th>\n",
       "      <td>Akwaya-Jean</td>\n",
       "      <td>Alfred</td>\n",
       "      <td>chr1</td>\n",
       "      <td>1572864</td>\n",
       "      <td>2621440</td>\n",
       "      <td>2284</td>\n",
       "    </tr>\n",
       "    <tr>\n",
       "      <th>4</th>\n",
       "      <td>Akwaya-Jean</td>\n",
       "      <td>Alfred</td>\n",
       "      <td>chr1</td>\n",
       "      <td>2097152</td>\n",
       "      <td>3145728</td>\n",
       "      <td>3089</td>\n",
       "    </tr>\n",
       "    <tr>\n",
       "      <th>5</th>\n",
       "      <td>Akwaya-Jean</td>\n",
       "      <td>Alfred</td>\n",
       "      <td>chr1</td>\n",
       "      <td>2621440</td>\n",
       "      <td>3670016</td>\n",
       "      <td>3550</td>\n",
       "    </tr>\n",
       "    <tr>\n",
       "      <th>6</th>\n",
       "      <td>Akwaya-Jean</td>\n",
       "      <td>Alfred</td>\n",
       "      <td>chr1</td>\n",
       "      <td>3145728</td>\n",
       "      <td>4194304</td>\n",
       "      <td>3444</td>\n",
       "    </tr>\n",
       "    <tr>\n",
       "      <th>7</th>\n",
       "      <td>Akwaya-Jean</td>\n",
       "      <td>Alfred</td>\n",
       "      <td>chr1</td>\n",
       "      <td>3670016</td>\n",
       "      <td>4718592</td>\n",
       "      <td>3133</td>\n",
       "    </tr>\n",
       "    <tr>\n",
       "      <th>8</th>\n",
       "      <td>Akwaya-Jean</td>\n",
       "      <td>Alfred</td>\n",
       "      <td>chr1</td>\n",
       "      <td>4194304</td>\n",
       "      <td>5242880</td>\n",
       "      <td>2359</td>\n",
       "    </tr>\n",
       "    <tr>\n",
       "      <th>9</th>\n",
       "      <td>Akwaya-Jean</td>\n",
       "      <td>Alfred</td>\n",
       "      <td>chr1</td>\n",
       "      <td>4718592</td>\n",
       "      <td>5767168</td>\n",
       "      <td>2237</td>\n",
       "    </tr>\n",
       "  </tbody>\n",
       "</table>\n",
       "</div>"
      ],
      "text/plain": [
       "          ind1    ind2   chr  window_start  window_end  seq_diff\n",
       "0  Akwaya-Jean  Alfred  chr1             0     1048576      1705\n",
       "1  Akwaya-Jean  Alfred  chr1        524288     1572864      1644\n",
       "2  Akwaya-Jean  Alfred  chr1       1048576     2097152      1866\n",
       "3  Akwaya-Jean  Alfred  chr1       1572864     2621440      2284\n",
       "4  Akwaya-Jean  Alfred  chr1       2097152     3145728      3089\n",
       "5  Akwaya-Jean  Alfred  chr1       2621440     3670016      3550\n",
       "6  Akwaya-Jean  Alfred  chr1       3145728     4194304      3444\n",
       "7  Akwaya-Jean  Alfred  chr1       3670016     4718592      3133\n",
       "8  Akwaya-Jean  Alfred  chr1       4194304     5242880      2359\n",
       "9  Akwaya-Jean  Alfred  chr1       4718592     5767168      2237"
      ]
     },
     "execution_count": 17,
     "metadata": {},
     "output_type": "execute_result"
    }
   ],
   "source": [
    "seqs_header = ['ind1','ind2','chr','window_start','window_end','seq_diff']\n",
    "seqs = pd.read_csv('../sequence_differences/all_sequence_differences.txt', sep = '\\t', header = None, names = seqs_header)\n",
    "seqs.head(10)"
   ]
  },
  {
   "cell_type": "code",
   "execution_count": 18,
   "id": "3da508e8",
   "metadata": {},
   "outputs": [
    {
     "data": {
      "text/html": [
       "<div>\n",
       "<style scoped>\n",
       "    .dataframe tbody tr th:only-of-type {\n",
       "        vertical-align: middle;\n",
       "    }\n",
       "\n",
       "    .dataframe tbody tr th {\n",
       "        vertical-align: top;\n",
       "    }\n",
       "\n",
       "    .dataframe thead th {\n",
       "        text-align: right;\n",
       "    }\n",
       "</style>\n",
       "<table border=\"1\" class=\"dataframe\">\n",
       "  <thead>\n",
       "    <tr style=\"text-align: right;\">\n",
       "      <th></th>\n",
       "      <th>ind1</th>\n",
       "      <th>ind2</th>\n",
       "      <th>dyad_type</th>\n",
       "      <th>chr</th>\n",
       "      <th>window_start</th>\n",
       "      <th>window</th>\n",
       "      <th>mse</th>\n",
       "      <th>spearman</th>\n",
       "      <th>divergence</th>\n",
       "      <th>seq_diff</th>\n",
       "    </tr>\n",
       "  </thead>\n",
       "  <tbody>\n",
       "    <tr>\n",
       "      <th>0</th>\n",
       "      <td>Akwaya-Jean</td>\n",
       "      <td>Alfred</td>\n",
       "      <td>pte-ptt</td>\n",
       "      <td>chr10</td>\n",
       "      <td>1572864</td>\n",
       "      <td>chr10_1572864</td>\n",
       "      <td>0.000168</td>\n",
       "      <td>0.987655</td>\n",
       "      <td>0.012345</td>\n",
       "      <td>2803</td>\n",
       "    </tr>\n",
       "    <tr>\n",
       "      <th>1</th>\n",
       "      <td>Akwaya-Jean</td>\n",
       "      <td>Alfred</td>\n",
       "      <td>pte-ptt</td>\n",
       "      <td>chr10</td>\n",
       "      <td>2097152</td>\n",
       "      <td>chr10_2097152</td>\n",
       "      <td>0.000481</td>\n",
       "      <td>0.969809</td>\n",
       "      <td>0.030191</td>\n",
       "      <td>2715</td>\n",
       "    </tr>\n",
       "    <tr>\n",
       "      <th>2</th>\n",
       "      <td>Akwaya-Jean</td>\n",
       "      <td>Alfred</td>\n",
       "      <td>pte-ptt</td>\n",
       "      <td>chr10</td>\n",
       "      <td>2621440</td>\n",
       "      <td>chr10_2621440</td>\n",
       "      <td>0.001675</td>\n",
       "      <td>0.996398</td>\n",
       "      <td>0.003602</td>\n",
       "      <td>2849</td>\n",
       "    </tr>\n",
       "    <tr>\n",
       "      <th>3</th>\n",
       "      <td>Akwaya-Jean</td>\n",
       "      <td>Alfred</td>\n",
       "      <td>pte-ptt</td>\n",
       "      <td>chr10</td>\n",
       "      <td>3145728</td>\n",
       "      <td>chr10_3145728</td>\n",
       "      <td>0.000323</td>\n",
       "      <td>0.997899</td>\n",
       "      <td>0.002101</td>\n",
       "      <td>2606</td>\n",
       "    </tr>\n",
       "    <tr>\n",
       "      <th>4</th>\n",
       "      <td>Akwaya-Jean</td>\n",
       "      <td>Alfred</td>\n",
       "      <td>pte-ptt</td>\n",
       "      <td>chr10</td>\n",
       "      <td>3670016</td>\n",
       "      <td>chr10_3670016</td>\n",
       "      <td>0.000143</td>\n",
       "      <td>0.996732</td>\n",
       "      <td>0.003268</td>\n",
       "      <td>2594</td>\n",
       "    </tr>\n",
       "  </tbody>\n",
       "</table>\n",
       "</div>"
      ],
      "text/plain": [
       "          ind1    ind2 dyad_type    chr  window_start         window  \\\n",
       "0  Akwaya-Jean  Alfred   pte-ptt  chr10       1572864  chr10_1572864   \n",
       "1  Akwaya-Jean  Alfred   pte-ptt  chr10       2097152  chr10_2097152   \n",
       "2  Akwaya-Jean  Alfred   pte-ptt  chr10       2621440  chr10_2621440   \n",
       "3  Akwaya-Jean  Alfred   pte-ptt  chr10       3145728  chr10_3145728   \n",
       "4  Akwaya-Jean  Alfred   pte-ptt  chr10       3670016  chr10_3670016   \n",
       "\n",
       "        mse  spearman  divergence  seq_diff  \n",
       "0  0.000168  0.987655    0.012345      2803  \n",
       "1  0.000481  0.969809    0.030191      2715  \n",
       "2  0.001675  0.996398    0.003602      2849  \n",
       "3  0.000323  0.997899    0.002101      2606  \n",
       "4  0.000143  0.996732    0.003268      2594  "
      ]
     },
     "execution_count": 18,
     "metadata": {},
     "output_type": "execute_result"
    }
   ],
   "source": [
    "HFF_comparisons_with_seqs = pd.merge(HFF_comparisons, seqs, on = ['ind1','ind2','chr','window_start'])\n",
    "HFF_comparisons_with_seqs = HFF_comparisons_with_seqs.drop('window_end', axis = 1)\n",
    "HFF_comparisons_with_seqs.head(5)"
   ]
  },
  {
   "cell_type": "code",
   "execution_count": 19,
   "id": "81159f0b",
   "metadata": {},
   "outputs": [
    {
     "data": {
      "text/plain": [
       "6669390"
      ]
     },
     "execution_count": 19,
     "metadata": {},
     "output_type": "execute_result"
    }
   ],
   "source": [
    "len(HFF_comparisons_with_seqs)"
   ]
  },
  {
   "cell_type": "markdown",
   "id": "052a0647",
   "metadata": {},
   "source": [
    "Save the dataframe."
   ]
  },
  {
   "cell_type": "code",
   "execution_count": 20,
   "id": "d624065c",
   "metadata": {},
   "outputs": [],
   "source": [
    "HFF_comparisons_with_seqs.to_csv('../dataframes/HFF_comparisons.txt', sep = '\\t', header = True, index = False)"
   ]
  },
  {
   "cell_type": "markdown",
   "id": "35959bb8",
   "metadata": {},
   "source": [
    "## GM12878"
   ]
  },
  {
   "cell_type": "markdown",
   "id": "e37e92e4",
   "metadata": {},
   "source": [
    "Now let's generate a dataframe for predictions from the GM12878 cell line."
   ]
  },
  {
   "cell_type": "code",
   "execution_count": 21,
   "id": "56d9d8fa",
   "metadata": {
    "scrolled": false
   },
   "outputs": [
    {
     "data": {
      "text/html": [
       "<div>\n",
       "<style scoped>\n",
       "    .dataframe tbody tr th:only-of-type {\n",
       "        vertical-align: middle;\n",
       "    }\n",
       "\n",
       "    .dataframe tbody tr th {\n",
       "        vertical-align: top;\n",
       "    }\n",
       "\n",
       "    .dataframe thead th {\n",
       "        text-align: right;\n",
       "    }\n",
       "</style>\n",
       "<table border=\"1\" class=\"dataframe\">\n",
       "  <thead>\n",
       "    <tr style=\"text-align: right;\">\n",
       "      <th></th>\n",
       "      <th>ind1</th>\n",
       "      <th>ind2</th>\n",
       "      <th>chr</th>\n",
       "      <th>window_start</th>\n",
       "      <th>mse</th>\n",
       "      <th>spearman</th>\n",
       "    </tr>\n",
       "  </thead>\n",
       "  <tbody>\n",
       "    <tr>\n",
       "      <th>0</th>\n",
       "      <td>Akwaya-Jean</td>\n",
       "      <td>Alfred</td>\n",
       "      <td>chr10</td>\n",
       "      <td>0</td>\n",
       "      <td>0.001005</td>\n",
       "      <td>0.992669</td>\n",
       "    </tr>\n",
       "    <tr>\n",
       "      <th>1</th>\n",
       "      <td>Akwaya-Jean</td>\n",
       "      <td>Alfred</td>\n",
       "      <td>chr10</td>\n",
       "      <td>524288</td>\n",
       "      <td>0.000853</td>\n",
       "      <td>0.996613</td>\n",
       "    </tr>\n",
       "    <tr>\n",
       "      <th>2</th>\n",
       "      <td>Akwaya-Jean</td>\n",
       "      <td>Alfred</td>\n",
       "      <td>chr10</td>\n",
       "      <td>1048576</td>\n",
       "      <td>0.000537</td>\n",
       "      <td>0.984502</td>\n",
       "    </tr>\n",
       "    <tr>\n",
       "      <th>3</th>\n",
       "      <td>Akwaya-Jean</td>\n",
       "      <td>Alfred</td>\n",
       "      <td>chr10</td>\n",
       "      <td>1572864</td>\n",
       "      <td>0.000057</td>\n",
       "      <td>0.985524</td>\n",
       "    </tr>\n",
       "    <tr>\n",
       "      <th>4</th>\n",
       "      <td>Akwaya-Jean</td>\n",
       "      <td>Alfred</td>\n",
       "      <td>chr10</td>\n",
       "      <td>2097152</td>\n",
       "      <td>0.000183</td>\n",
       "      <td>0.966059</td>\n",
       "    </tr>\n",
       "  </tbody>\n",
       "</table>\n",
       "</div>"
      ],
      "text/plain": [
       "          ind1    ind2    chr  window_start       mse  spearman\n",
       "0  Akwaya-Jean  Alfred  chr10             0  0.001005  0.992669\n",
       "1  Akwaya-Jean  Alfred  chr10        524288  0.000853  0.996613\n",
       "2  Akwaya-Jean  Alfred  chr10       1048576  0.000537  0.984502\n",
       "3  Akwaya-Jean  Alfred  chr10       1572864  0.000057  0.985524\n",
       "4  Akwaya-Jean  Alfred  chr10       2097152  0.000183  0.966059"
      ]
     },
     "execution_count": 21,
     "metadata": {},
     "output_type": "execute_result"
    }
   ],
   "source": [
    "GM12878_comparisons = pd.read_csv('GM12878/all_GM12878_comparisons.txt', sep = '\\t', header = None, names = comparisons_header)\n",
    "GM12878_comparisons.head(5)"
   ]
  },
  {
   "cell_type": "code",
   "execution_count": 22,
   "id": "b0efd91b",
   "metadata": {
    "scrolled": true
   },
   "outputs": [
    {
     "data": {
      "text/plain": [
       "13212745"
      ]
     },
     "execution_count": 22,
     "metadata": {},
     "output_type": "execute_result"
    }
   ],
   "source": [
    "len(GM12878_comparisons)"
   ]
  },
  {
   "cell_type": "markdown",
   "id": "243e703d",
   "metadata": {},
   "source": [
    "Add the columns we need."
   ]
  },
  {
   "cell_type": "code",
   "execution_count": 23,
   "id": "cc16c479",
   "metadata": {
    "scrolled": true
   },
   "outputs": [
    {
     "data": {
      "text/html": [
       "<div>\n",
       "<style scoped>\n",
       "    .dataframe tbody tr th:only-of-type {\n",
       "        vertical-align: middle;\n",
       "    }\n",
       "\n",
       "    .dataframe tbody tr th {\n",
       "        vertical-align: top;\n",
       "    }\n",
       "\n",
       "    .dataframe thead th {\n",
       "        text-align: right;\n",
       "    }\n",
       "</style>\n",
       "<table border=\"1\" class=\"dataframe\">\n",
       "  <thead>\n",
       "    <tr style=\"text-align: right;\">\n",
       "      <th></th>\n",
       "      <th>ind1</th>\n",
       "      <th>ind2</th>\n",
       "      <th>chr</th>\n",
       "      <th>window_start</th>\n",
       "      <th>window</th>\n",
       "      <th>mse</th>\n",
       "      <th>spearman</th>\n",
       "      <th>divergence</th>\n",
       "    </tr>\n",
       "  </thead>\n",
       "  <tbody>\n",
       "    <tr>\n",
       "      <th>0</th>\n",
       "      <td>Akwaya-Jean</td>\n",
       "      <td>Alfred</td>\n",
       "      <td>chr10</td>\n",
       "      <td>0</td>\n",
       "      <td>chr10_0</td>\n",
       "      <td>0.001005</td>\n",
       "      <td>0.992669</td>\n",
       "      <td>0.007331</td>\n",
       "    </tr>\n",
       "    <tr>\n",
       "      <th>1</th>\n",
       "      <td>Akwaya-Jean</td>\n",
       "      <td>Alfred</td>\n",
       "      <td>chr10</td>\n",
       "      <td>524288</td>\n",
       "      <td>chr10_524288</td>\n",
       "      <td>0.000853</td>\n",
       "      <td>0.996613</td>\n",
       "      <td>0.003387</td>\n",
       "    </tr>\n",
       "    <tr>\n",
       "      <th>2</th>\n",
       "      <td>Akwaya-Jean</td>\n",
       "      <td>Alfred</td>\n",
       "      <td>chr10</td>\n",
       "      <td>1048576</td>\n",
       "      <td>chr10_1048576</td>\n",
       "      <td>0.000537</td>\n",
       "      <td>0.984502</td>\n",
       "      <td>0.015498</td>\n",
       "    </tr>\n",
       "    <tr>\n",
       "      <th>3</th>\n",
       "      <td>Akwaya-Jean</td>\n",
       "      <td>Alfred</td>\n",
       "      <td>chr10</td>\n",
       "      <td>1572864</td>\n",
       "      <td>chr10_1572864</td>\n",
       "      <td>0.000057</td>\n",
       "      <td>0.985524</td>\n",
       "      <td>0.014476</td>\n",
       "    </tr>\n",
       "    <tr>\n",
       "      <th>4</th>\n",
       "      <td>Akwaya-Jean</td>\n",
       "      <td>Alfred</td>\n",
       "      <td>chr10</td>\n",
       "      <td>2097152</td>\n",
       "      <td>chr10_2097152</td>\n",
       "      <td>0.000183</td>\n",
       "      <td>0.966059</td>\n",
       "      <td>0.033941</td>\n",
       "    </tr>\n",
       "  </tbody>\n",
       "</table>\n",
       "</div>"
      ],
      "text/plain": [
       "          ind1    ind2    chr  window_start         window       mse  \\\n",
       "0  Akwaya-Jean  Alfred  chr10             0        chr10_0  0.001005   \n",
       "1  Akwaya-Jean  Alfred  chr10        524288   chr10_524288  0.000853   \n",
       "2  Akwaya-Jean  Alfred  chr10       1048576  chr10_1048576  0.000537   \n",
       "3  Akwaya-Jean  Alfred  chr10       1572864  chr10_1572864  0.000057   \n",
       "4  Akwaya-Jean  Alfred  chr10       2097152  chr10_2097152  0.000183   \n",
       "\n",
       "   spearman  divergence  \n",
       "0  0.992669    0.007331  \n",
       "1  0.996613    0.003387  \n",
       "2  0.984502    0.015498  \n",
       "3  0.985524    0.014476  \n",
       "4  0.966059    0.033941  "
      ]
     },
     "execution_count": 23,
     "metadata": {},
     "output_type": "execute_result"
    }
   ],
   "source": [
    "GM12878_comparisons['divergence'] = 1 - GM12878_comparisons['spearman']\n",
    "GM12878_comparisons['window'] = GM12878_comparisons['chr'] + '_' + GM12878_comparisons['window_start'].astype(str)\n",
    "GM12878_comparisons = GM12878_comparisons[['ind1','ind2','chr','window_start','window','mse','spearman','divergence']]\n",
    "GM12878_comparisons.head(5)"
   ]
  },
  {
   "cell_type": "markdown",
   "id": "f474f8bc",
   "metadata": {},
   "source": [
    "Repeat filtering from HFF above."
   ]
  },
  {
   "cell_type": "code",
   "execution_count": 24,
   "id": "e4bc09c8",
   "metadata": {
    "scrolled": false
   },
   "outputs": [
    {
     "data": {
      "text/html": [
       "<div>\n",
       "<style scoped>\n",
       "    .dataframe tbody tr th:only-of-type {\n",
       "        vertical-align: middle;\n",
       "    }\n",
       "\n",
       "    .dataframe tbody tr th {\n",
       "        vertical-align: top;\n",
       "    }\n",
       "\n",
       "    .dataframe thead th {\n",
       "        text-align: right;\n",
       "    }\n",
       "</style>\n",
       "<table border=\"1\" class=\"dataframe\">\n",
       "  <thead>\n",
       "    <tr style=\"text-align: right;\">\n",
       "      <th></th>\n",
       "      <th>ind1</th>\n",
       "      <th>ind2</th>\n",
       "      <th>chr</th>\n",
       "      <th>window_start</th>\n",
       "      <th>window</th>\n",
       "      <th>mse</th>\n",
       "      <th>spearman</th>\n",
       "      <th>divergence</th>\n",
       "    </tr>\n",
       "  </thead>\n",
       "  <tbody>\n",
       "    <tr>\n",
       "      <th>3</th>\n",
       "      <td>Akwaya-Jean</td>\n",
       "      <td>Alfred</td>\n",
       "      <td>chr10</td>\n",
       "      <td>1572864</td>\n",
       "      <td>chr10_1572864</td>\n",
       "      <td>0.000057</td>\n",
       "      <td>0.985524</td>\n",
       "      <td>0.014476</td>\n",
       "    </tr>\n",
       "    <tr>\n",
       "      <th>4</th>\n",
       "      <td>Akwaya-Jean</td>\n",
       "      <td>Alfred</td>\n",
       "      <td>chr10</td>\n",
       "      <td>2097152</td>\n",
       "      <td>chr10_2097152</td>\n",
       "      <td>0.000183</td>\n",
       "      <td>0.966059</td>\n",
       "      <td>0.033941</td>\n",
       "    </tr>\n",
       "    <tr>\n",
       "      <th>5</th>\n",
       "      <td>Akwaya-Jean</td>\n",
       "      <td>Alfred</td>\n",
       "      <td>chr10</td>\n",
       "      <td>2621440</td>\n",
       "      <td>chr10_2621440</td>\n",
       "      <td>0.000751</td>\n",
       "      <td>0.997055</td>\n",
       "      <td>0.002945</td>\n",
       "    </tr>\n",
       "    <tr>\n",
       "      <th>6</th>\n",
       "      <td>Akwaya-Jean</td>\n",
       "      <td>Alfred</td>\n",
       "      <td>chr10</td>\n",
       "      <td>3145728</td>\n",
       "      <td>chr10_3145728</td>\n",
       "      <td>0.000114</td>\n",
       "      <td>0.998515</td>\n",
       "      <td>0.001485</td>\n",
       "    </tr>\n",
       "    <tr>\n",
       "      <th>7</th>\n",
       "      <td>Akwaya-Jean</td>\n",
       "      <td>Alfred</td>\n",
       "      <td>chr10</td>\n",
       "      <td>3670016</td>\n",
       "      <td>chr10_3670016</td>\n",
       "      <td>0.000056</td>\n",
       "      <td>0.997281</td>\n",
       "      <td>0.002719</td>\n",
       "    </tr>\n",
       "  </tbody>\n",
       "</table>\n",
       "</div>"
      ],
      "text/plain": [
       "          ind1    ind2    chr  window_start         window       mse  \\\n",
       "3  Akwaya-Jean  Alfred  chr10       1572864  chr10_1572864  0.000057   \n",
       "4  Akwaya-Jean  Alfred  chr10       2097152  chr10_2097152  0.000183   \n",
       "5  Akwaya-Jean  Alfred  chr10       2621440  chr10_2621440  0.000751   \n",
       "6  Akwaya-Jean  Alfred  chr10       3145728  chr10_3145728  0.000114   \n",
       "7  Akwaya-Jean  Alfred  chr10       3670016  chr10_3670016  0.000056   \n",
       "\n",
       "   spearman  divergence  \n",
       "3  0.985524    0.014476  \n",
       "4  0.966059    0.033941  \n",
       "5  0.997055    0.002945  \n",
       "6  0.998515    0.001485  \n",
       "7  0.997281    0.002719  "
      ]
     },
     "execution_count": 24,
     "metadata": {},
     "output_type": "execute_result"
    }
   ],
   "source": [
    "GM12878_comparisons = GM12878_comparisons[~(GM12878_comparisons['window'].isin(excluded_windows))]\n",
    "GM12878_comparisons = GM12878_comparisons[~((GM12878_comparisons['ind1'].isin(males)) & (GM12878_comparisons['chr'] == 'chrX'))]\n",
    "GM12878_comparisons = GM12878_comparisons[~((GM12878_comparisons['ind2'].isin(males)) & (GM12878_comparisons['chr'] == 'chrX'))]\n",
    "GM12878_comparisons = GM12878_comparisons[~((GM12878_comparisons['ind1'].isin(inds_to_exclude)) | (GM12878_comparisons['ind2'].isin(inds_to_exclude)))]\n",
    "GM12878_comparisons.head(5)"
   ]
  },
  {
   "cell_type": "code",
   "execution_count": 25,
   "id": "186fa920",
   "metadata": {},
   "outputs": [
    {
     "data": {
      "text/plain": [
       "6669390"
      ]
     },
     "execution_count": 25,
     "metadata": {},
     "output_type": "execute_result"
    }
   ],
   "source": [
    "len(GM12878_comparisons)"
   ]
  },
  {
   "cell_type": "markdown",
   "id": "ce3e43ac",
   "metadata": {},
   "source": [
    "Compare lengths from HFF and GM12878."
   ]
  },
  {
   "cell_type": "code",
   "execution_count": 26,
   "id": "d8dcdc9e",
   "metadata": {},
   "outputs": [
    {
     "data": {
      "text/plain": [
       "True"
      ]
     },
     "execution_count": 26,
     "metadata": {},
     "output_type": "execute_result"
    }
   ],
   "source": [
    "len(HFF_comparisons) == len(GM12878_comparisons)"
   ]
  },
  {
   "cell_type": "markdown",
   "id": "406eca20",
   "metadata": {},
   "source": [
    "Save the dataframe."
   ]
  },
  {
   "cell_type": "code",
   "execution_count": 27,
   "id": "4fffdde7",
   "metadata": {},
   "outputs": [],
   "source": [
    "GM12878_comparisons.to_csv('../dataframes/GM12878_comparisons.txt', sep = '\\t', header = True, index = False)"
   ]
  }
 ],
 "metadata": {
  "kernelspec": {
   "display_name": "Python 3 (ipykernel)",
   "language": "python",
   "name": "python3"
  },
  "language_info": {
   "codemirror_mode": {
    "name": "ipython",
    "version": 3
   },
   "file_extension": ".py",
   "mimetype": "text/x-python",
   "name": "python",
   "nbconvert_exporter": "python",
   "pygments_lexer": "ipython3",
   "version": "3.10.6"
  }
 },
 "nbformat": 4,
 "nbformat_minor": 5
}
