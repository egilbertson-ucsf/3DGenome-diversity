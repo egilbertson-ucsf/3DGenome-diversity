{
 "cells": [
  {
   "cell_type": "code",
   "execution_count": 2,
   "id": "0fe8521f",
   "metadata": {},
   "outputs": [],
   "source": [
    "import numpy as np\n",
    "from scipy import stats"
   ]
  },
  {
   "cell_type": "code",
   "execution_count": 1,
   "id": "a723704e",
   "metadata": {
    "scrolled": true
   },
   "outputs": [
    {
     "name": "stdout",
     "output_type": "stream",
     "text": [
      "/wynton/group/capra/projects/pan_3d_genome/data/comparisons/GM12878\n"
     ]
    }
   ],
   "source": [
    "cd ../../data/comparisons/GM12878"
   ]
  },
  {
   "cell_type": "code",
   "execution_count": 3,
   "id": "f1d405f2",
   "metadata": {},
   "outputs": [],
   "source": [
    "def comparePreds(ind1, ind2):\n",
    "\tmse = np.mean(np.square(ind1 - ind2))\n",
    "\tspearman = stats.spearmanr(ind1, ind2)[0]\n",
    "\treturn (mse, spearman)"
   ]
  },
  {
   "cell_type": "code",
   "execution_count": 5,
   "id": "f3485594",
   "metadata": {},
   "outputs": [],
   "source": [
    "ind1_file = open(f'../../predictions/GM12878/3d_predictions_Akwaya-Jean.txt', 'r')\n",
    "ind2_file = open(f'../../predictions/GM12878/3d_predictions_Alfred.txt', 'r')"
   ]
  },
  {
   "cell_type": "code",
   "execution_count": 6,
   "id": "b3cd1e66",
   "metadata": {},
   "outputs": [],
   "source": [
    "ind1_lines = ind1_file.readlines()\n",
    "ind2_lines = ind2_file.readlines()"
   ]
  },
  {
   "cell_type": "code",
   "execution_count": 25,
   "id": "352dd960",
   "metadata": {},
   "outputs": [],
   "source": [
    "ind1 = 'Akwaya'\n",
    "ind2 = 'Alfred'"
   ]
  },
  {
   "cell_type": "code",
   "execution_count": 26,
   "id": "58cc7a6a",
   "metadata": {},
   "outputs": [
    {
     "name": "stdout",
     "output_type": "stream",
     "text": [
      "Akwaya Alfred\n",
      "0.00085336242159472 0.9966131528154727\n"
     ]
    }
   ],
   "source": [
    "for i in range(1,2):\n",
    "    ind1_line = ind1_lines[i]\n",
    "    ind1_line = ind1_line.strip().split('\\t')\n",
    "    ind1_chr = ind1_line[0]\n",
    "    ind1_pos = ind1_line[1]\n",
    "    ind1_preds = list(map(float,ind1_line[2:]))\n",
    "\n",
    "    ind2_line = ind2_lines[i]\n",
    "    ind2_line = ind2_line.strip().split('\\t')\n",
    "    ind2_chr = ind2_line[0]\n",
    "    ind2_pos = ind2_line[1]\n",
    "    ind2_preds = list(map(float,ind2_line[2:]))\n",
    "    \n",
    "    if (ind1_chr == ind2_chr) and (ind1_pos == ind2_pos):\n",
    "        mse, spearman = comparePreds(np.array(ind1_preds), np.array(ind2_preds))\n",
    "        print(ind1, ind2)\n",
    "        print(mse, spearman)\n",
    "    else:\n",
    "        print('hi')"
   ]
  },
  {
   "cell_type": "code",
   "execution_count": null,
   "id": "72cff4a8",
   "metadata": {},
   "outputs": [],
   "source": []
  }
 ],
 "metadata": {
  "kernelspec": {
   "display_name": "Python 3 (ipykernel)",
   "language": "python",
   "name": "python3"
  },
  "language_info": {
   "codemirror_mode": {
    "name": "ipython",
    "version": 3
   },
   "file_extension": ".py",
   "mimetype": "text/x-python",
   "name": "python",
   "nbconvert_exporter": "python",
   "pygments_lexer": "ipython3",
   "version": "3.10.6"
  }
 },
 "nbformat": 4,
 "nbformat_minor": 5
}
