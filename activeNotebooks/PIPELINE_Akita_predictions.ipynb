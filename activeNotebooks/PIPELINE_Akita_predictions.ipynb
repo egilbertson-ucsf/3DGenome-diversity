{
 "cells": [
  {
   "cell_type": "code",
   "execution_count": 1,
   "id": "48fa3ec9",
   "metadata": {},
   "outputs": [],
   "source": [
    "import configparser\n",
    "import os\n",
    "import sys\n",
    "import subprocess\n",
    "import numpy as np"
   ]
  },
  {
   "cell_type": "markdown",
   "id": "db5a932f",
   "metadata": {},
   "source": [
    "#### Set up"
   ]
  },
  {
   "cell_type": "code",
   "execution_count": 2,
   "id": "557dfe17",
   "metadata": {},
   "outputs": [],
   "source": [
    "BASE_PATH = os.getcwd()"
   ]
  },
  {
   "cell_type": "code",
   "execution_count": 3,
   "id": "cf61a841",
   "metadata": {},
   "outputs": [
    {
     "data": {
      "text/plain": [
       "'/wynton/group/capra/projects/modern_human_3Dgenome'"
      ]
     },
     "execution_count": 3,
     "metadata": {},
     "output_type": "execute_result"
    }
   ],
   "source": [
    "BASE_PATH"
   ]
  },
  {
   "cell_type": "markdown",
   "id": "f7953823",
   "metadata": {
    "heading_collapsed": true
   },
   "source": [
    "### Launch jobs to make FASTA genomes from VCF"
   ]
  },
  {
   "cell_type": "markdown",
   "id": "66556dd2",
   "metadata": {
    "hidden": true
   },
   "source": [
    "The FASTA genomes generated will be \"flattened\" with any copy of a non-reference allele in the VCF being inserted into the reference genome FASTA. \n",
    "(Some things might need to be updated for non 1KG naming schemes in the future)"
   ]
  },
  {
   "cell_type": "code",
   "execution_count": 5,
   "id": "a177dc3e",
   "metadata": {
    "hidden": true
   },
   "outputs": [
    {
     "name": "stdout",
     "output_type": "stream",
     "text": [
      "Your job-array 1116941.1-1:1 (\"launch.make.genome.1KG.sh\") has been submitted\n"
     ]
    }
   ],
   "source": [
    "configfile_name = os.path.join(BASE_PATH, \"bin/configs/config_makeFASTA_1KG_fix_SNVs.ini\") \n",
    "\n",
    "config = configparser.ConfigParser()\n",
    "config.read(configfile_name)\n",
    "\n",
    "FASTA_LAUNCHER=config[\"BIN\"][\"LAUNCH_MAKE_FASTA\"]\n",
    "\n",
    "!qsub -t 1 -v CONFIGPATH=$configfile_name $FASTA_LAUNCHER"
   ]
  },
  {
   "cell_type": "code",
   "execution_count": null,
   "id": "ba45dca8",
   "metadata": {
    "hidden": true
   },
   "outputs": [],
   "source": []
  },
  {
   "cell_type": "markdown",
   "id": "265cd8d0",
   "metadata": {
    "heading_collapsed": true
   },
   "source": [
    "### Launch jobs to make Akita preds"
   ]
  },
  {
   "cell_type": "code",
   "execution_count": 3,
   "id": "a10b1435",
   "metadata": {
    "hidden": true
   },
   "outputs": [
    {
     "name": "stdout",
     "output_type": "stream",
     "text": [
      "Your job-array 512431.1-1:1 (\"runAkitaIndiv\") has been submitted\r\n"
     ]
    }
   ],
   "source": [
    "configfile_name = os.path.join(BASE_PATH, \"config_runAkita_ensembl-ancestral.ini\") \n",
    "\n",
    "config = configparser.ConfigParser()\n",
    "config.read(configfile_name)\n",
    "\n",
    "AKITA_LAUNCHER=config[\"BIN\"][\"LAUNCH_RUN_AKITA\"]\n",
    "\n",
    "!qsub -t 1 -v CONFIGPATH=$configfile_name $AKITA_LAUNCHER "
   ]
  },
  {
   "cell_type": "code",
   "execution_count": 9,
   "id": "bf76989b",
   "metadata": {
    "hidden": true
   },
   "outputs": [
    {
     "name": "stdout",
     "output_type": "stream",
     "text": [
      "Your job-array 521186.1-1:1 (\"runAkitaIndiv\") has been submitted\r\n"
     ]
    }
   ],
   "source": [
    "configfile_name = os.path.join(BASE_PATH, \"config_runAkita_gagp.ini\") \n",
    "\n",
    "config = configparser.ConfigParser()\n",
    "config.read(configfile_name)\n",
    "\n",
    "AKITA_LAUNCHER=config[\"BIN\"][\"LAUNCH_RUN_AKITA\"]\n",
    "\n",
    "!qsub -t 1 -v CONFIGPATH=$configfile_name $AKITA_LAUNCHER "
   ]
  },
  {
   "cell_type": "code",
   "execution_count": 8,
   "id": "97958082",
   "metadata": {
    "hidden": true
   },
   "outputs": [
    {
     "data": {
      "text/plain": [
       "'/wynton/group/capra/projects/modern_human_3Dgenome/bin/runningAkita/runAkita.sh'"
      ]
     },
     "execution_count": 8,
     "metadata": {},
     "output_type": "execute_result"
    }
   ],
   "source": [
    "config[\"BIN\"][\"LAUNCH_RUN_AKITA\"]"
   ]
  },
  {
   "cell_type": "code",
   "execution_count": null,
   "id": "cdb434f4",
   "metadata": {
    "hidden": true
   },
   "outputs": [],
   "source": []
  },
  {
   "cell_type": "code",
   "execution_count": null,
   "id": "a22b334c",
   "metadata": {
    "hidden": true
   },
   "outputs": [],
   "source": []
  },
  {
   "cell_type": "code",
   "execution_count": 8,
   "id": "55b49304",
   "metadata": {
    "hidden": true
   },
   "outputs": [],
   "source": [
    "configfile_name =  \"/wynton/group/capra/projects/modern_human_3Dgenome/bin/configs/config_runAkita_1kg.ini\"\n",
    "\n",
    "config = configparser.ConfigParser()\n",
    "config.read(configfile_name)\n",
    "\n",
    "AKITA_LAUNCHER=config[\"BIN\"][\"LAUNCH_RUN_AKITA\"]"
   ]
  },
  {
   "cell_type": "code",
   "execution_count": 9,
   "id": "5d6385ea",
   "metadata": {},
   "outputs": [
    {
     "data": {
      "text/plain": [
       "'/wynton/group/capra/projects/modern_human_3Dgenome/bin/configs/config_runAkita_1kg.ini'"
      ]
     },
     "execution_count": 9,
     "metadata": {},
     "output_type": "execute_result"
    }
   ],
   "source": [
    "configfile_name"
   ]
  },
  {
   "cell_type": "code",
   "execution_count": null,
   "id": "2972f586",
   "metadata": {},
   "outputs": [],
   "source": []
  },
  {
   "cell_type": "code",
   "execution_count": 10,
   "id": "1039b20f",
   "metadata": {},
   "outputs": [
    {
     "data": {
      "text/plain": [
       "'/wynton/group/capra/projects/modern_human_3Dgenome/bin/runningAkita/runAkita.sh'"
      ]
     },
     "execution_count": 10,
     "metadata": {},
     "output_type": "execute_result"
    }
   ],
   "source": [
    "AKITA_LAUNCHER"
   ]
  },
  {
   "cell_type": "code",
   "execution_count": 12,
   "id": "44f9f56c",
   "metadata": {
    "hidden": true
   },
   "outputs": [
    {
     "name": "stdout",
     "output_type": "stream",
     "text": [
      "Your job-array 2227119.2-2504:1 (\"runAkitaIndiv\") has been submitted\n"
     ]
    }
   ],
   "source": [
    "!qsub -t 2-2504 -v CONFIGPATH=$configfile_name $AKITA_LAUNCHER "
   ]
  },
  {
   "cell_type": "code",
   "execution_count": null,
   "id": "ad4065c2",
   "metadata": {},
   "outputs": [],
   "source": []
  },
  {
   "cell_type": "code",
   "execution_count": null,
   "id": "b1a63efb",
   "metadata": {},
   "outputs": [],
   "source": []
  },
  {
   "cell_type": "code",
   "execution_count": null,
   "id": "29ff9d70",
   "metadata": {},
   "outputs": [],
   "source": []
  },
  {
   "cell_type": "code",
   "execution_count": null,
   "id": "6ce0041c",
   "metadata": {},
   "outputs": [],
   "source": []
  },
  {
   "cell_type": "code",
   "execution_count": null,
   "id": "a4884413",
   "metadata": {},
   "outputs": [],
   "source": []
  },
  {
   "cell_type": "code",
   "execution_count": 12,
   "id": "f1a3f93d",
   "metadata": {
    "hidden": true
   },
   "outputs": [
    {
     "name": "stdout",
     "output_type": "stream",
     "text": [
      "Your job-array 397905.1-1:1 (\"runAkitaIndiv\") has been submitted\r\n"
     ]
    }
   ],
   "source": [
    "configfile_name = os.path.join(BASE_PATH, \"config_runAkita_reference.ini\") \n",
    "\n",
    "config = configparser.ConfigParser()\n",
    "config.read(configfile_name)\n",
    "\n",
    "AKITA_LAUNCHER=config[\"BIN\"][\"LAUNCH_RUN_AKITA\"]\n",
    "\n",
    "!qsub -t 1 -v CONFIGPATH=$configfile_name $AKITA_LAUNCHER "
   ]
  },
  {
   "cell_type": "code",
   "execution_count": null,
   "id": "236e86e6",
   "metadata": {
    "hidden": true
   },
   "outputs": [],
   "source": []
  },
  {
   "cell_type": "code",
   "execution_count": 3,
   "id": "429494df",
   "metadata": {
    "hidden": true
   },
   "outputs": [
    {
     "name": "stdout",
     "output_type": "stream",
     "text": [
      "Your job-array 9660043.1-1:1 (\"runAkitaIndiv\") has been submitted\r\n"
     ]
    }
   ],
   "source": [
    "configfile_name = os.path.join(BASE_PATH, \"config_runAkita_hsmrca.ini\") \n",
    "\n",
    "config = configparser.ConfigParser()\n",
    "config.read(configfile_name)\n",
    "\n",
    "AKITA_LAUNCHER=config[\"BIN\"][\"LAUNCH_RUN_AKITA\"]\n",
    "\n",
    "!qsub -t 1 -v CONFIGPATH=$configfile_name $AKITA_LAUNCHER "
   ]
  },
  {
   "cell_type": "code",
   "execution_count": 15,
   "id": "77d57287",
   "metadata": {
    "hidden": true
   },
   "outputs": [
    {
     "data": {
      "text/plain": [
       "'/wynton/group/capra/projects/modern_human_3Dgenome/bin/activeNotebooks/config_runAkita_hsmrca.ini'"
      ]
     },
     "execution_count": 15,
     "metadata": {},
     "output_type": "execute_result"
    }
   ],
   "source": [
    "configfile_name"
   ]
  },
  {
   "cell_type": "code",
   "execution_count": 16,
   "id": "17ee0011",
   "metadata": {
    "hidden": true
   },
   "outputs": [
    {
     "data": {
      "text/plain": [
       "'human_archaic_ancestor_in_hg38_%S.fasta'"
      ]
     },
     "execution_count": 16,
     "metadata": {},
     "output_type": "execute_result"
    }
   ],
   "source": [
    "config[\"FILE\"][\"FASTA_NAMING\"]"
   ]
  },
  {
   "cell_type": "code",
   "execution_count": null,
   "id": "05358046",
   "metadata": {
    "hidden": true
   },
   "outputs": [],
   "source": []
  },
  {
   "cell_type": "code",
   "execution_count": null,
   "id": "82825971",
   "metadata": {
    "hidden": true
   },
   "outputs": [],
   "source": []
  },
  {
   "cell_type": "code",
   "execution_count": null,
   "id": "67396a0b",
   "metadata": {
    "hidden": true
   },
   "outputs": [],
   "source": []
  },
  {
   "cell_type": "code",
   "execution_count": null,
   "id": "950fd45e",
   "metadata": {
    "hidden": true
   },
   "outputs": [],
   "source": []
  },
  {
   "cell_type": "code",
   "execution_count": null,
   "id": "844f9556",
   "metadata": {
    "hidden": true
   },
   "outputs": [],
   "source": []
  },
  {
   "cell_type": "markdown",
   "id": "6339d3bb",
   "metadata": {
    "heading_collapsed": true
   },
   "source": [
    "## Launch jobs to do pairwise comparisons"
   ]
  },
  {
   "cell_type": "code",
   "execution_count": null,
   "id": "6e343032",
   "metadata": {
    "hidden": true
   },
   "outputs": [],
   "source": []
  },
  {
   "cell_type": "markdown",
   "id": "f523a39e",
   "metadata": {
    "hidden": true
   },
   "source": [
    "### All pairs"
   ]
  },
  {
   "cell_type": "markdown",
   "id": "1048acad",
   "metadata": {
    "hidden": true
   },
   "source": [
    "#### setup"
   ]
  },
  {
   "cell_type": "code",
   "execution_count": 3,
   "id": "9ae14334",
   "metadata": {
    "hidden": true
   },
   "outputs": [],
   "source": [
    "configfile_name = os.path.join(BASE_PATH, \"config_pairwise_comps.ini\") \n",
    "\n",
    "config = configparser.ConfigParser()\n",
    "config.read(configfile_name)\n",
    "\n",
    "COMP_LAUNCHER=config[\"BIN\"][\"LAUNCH_RUN_COMPS\"]\n",
    "\n"
   ]
  },
  {
   "cell_type": "markdown",
   "id": "c6528f67",
   "metadata": {
    "hidden": true
   },
   "source": [
    "#### launch"
   ]
  },
  {
   "cell_type": "code",
   "execution_count": 19,
   "id": "6482b1f4",
   "metadata": {
    "hidden": true
   },
   "outputs": [],
   "source": [
    "x = range(1,3133756,100)"
   ]
  },
  {
   "cell_type": "code",
   "execution_count": 16,
   "id": "4932584a",
   "metadata": {
    "hidden": true
   },
   "outputs": [
    {
     "name": "stdout",
     "output_type": "stream",
     "text": [
      "/bin/bash: -c: line 0: syntax error near unexpected token `('\r\n",
      "/bin/bash: -c: line 0: `qsub -t range(414062, 3133756, 100)[0]-range(414062, 3133756, 100)[1] -v CONFIGPATH=/wynton/group/capra/projects/modern_human_3Dgenome/bin/activeNotebooks/config_pairwise_comps.ini /wynton/group/capra/projects/modern_human_3Dgenome/bin/comparingAkitaPreds/run3dComps.sh '\r\n"
     ]
    }
   ],
   "source": [
    "!qsub -t ${x[0]}-${x[1]} -v CONFIGPATH=$configfile_name $COMP_LAUNCHER "
   ]
  },
  {
   "cell_type": "code",
   "execution_count": 14,
   "id": "de1f8245",
   "metadata": {
    "hidden": true
   },
   "outputs": [
    {
     "name": "stdout",
     "output_type": "stream",
     "text": [
      "Your job-array 556450.3100000-3133756:1 (\"runAkitaComps\") has been submitted\r\n"
     ]
    }
   ],
   "source": [
    "!qsub -t 3133662-3133756 -v CONFIGPATH=$configfile_name $COMP_LAUNCHER "
   ]
  },
  {
   "cell_type": "markdown",
   "id": "9b97b45d",
   "metadata": {
    "heading_collapsed": true,
    "hidden": true
   },
   "source": [
    "### Subsample 5 females from each subpop"
   ]
  },
  {
   "cell_type": "code",
   "execution_count": 16,
   "id": "5aea7c67",
   "metadata": {
    "hidden": true
   },
   "outputs": [],
   "source": [
    "configfile_name = os.path.join(BASE_PATH, \"config_pairwise_comps_subsample.ini\") \n",
    "\n",
    "config = configparser.ConfigParser()\n",
    "config.read(configfile_name)\n",
    "\n",
    "COMP_LAUNCHER=config[\"BIN\"][\"LAUNCH_RUN_COMPS\"]"
   ]
  },
  {
   "cell_type": "code",
   "execution_count": 17,
   "id": "cfa93d43",
   "metadata": {
    "hidden": true
   },
   "outputs": [
    {
     "name": "stdout",
     "output_type": "stream",
     "text": [
      "Your job-array 588377.1-8385:1 (\"runAkitaComps\") has been submitted\r\n"
     ]
    }
   ],
   "source": [
    "!qsub -t 1-8385 -v CONFIGPATH=$configfile_name $COMP_LAUNCHER "
   ]
  },
  {
   "cell_type": "code",
   "execution_count": null,
   "id": "9bef36ce",
   "metadata": {
    "hidden": true
   },
   "outputs": [],
   "source": []
  },
  {
   "cell_type": "markdown",
   "id": "14dc5854",
   "metadata": {
    "heading_collapsed": true,
    "hidden": true
   },
   "source": [
    "### Ancestral only"
   ]
  },
  {
   "cell_type": "code",
   "execution_count": 11,
   "id": "8ec0eb71",
   "metadata": {
    "hidden": true
   },
   "outputs": [
    {
     "name": "stdout",
     "output_type": "stream",
     "text": [
      "Your job-array 522861.1-5008:1 (\"runAkitaComps\") has been submitted\r\n"
     ]
    }
   ],
   "source": [
    "configfile_name = os.path.join(BASE_PATH, \"config_pairwise_comps_ancestral.ini\") \n",
    "\n",
    "config = configparser.ConfigParser()\n",
    "config.read(configfile_name)\n",
    "\n",
    "COMP_LAUNCHER=config[\"BIN\"][\"LAUNCH_RUN_COMPS\"]\n",
    "\n",
    "!qsub -t 1-5008 -v CONFIGPATH=$configfile_name $COMP_LAUNCHER "
   ]
  },
  {
   "cell_type": "code",
   "execution_count": 8,
   "id": "3c01d557",
   "metadata": {
    "hidden": true
   },
   "outputs": [
    {
     "name": "stdout",
     "output_type": "stream",
     "text": [
      "Your job-array 1116883.1-2504:1 (\"runAkitaComps\") has been submitted\n"
     ]
    }
   ],
   "source": [
    "configfile_name = os.path.join(BASE_PATH, \"bin/configs/config_pairwise_comps_hsmrca.ini\") \n",
    "\n",
    "config = configparser.ConfigParser()\n",
    "config.read(configfile_name)\n",
    "\n",
    "COMP_LAUNCHER=config[\"BIN\"][\"LAUNCH_RUN_COMPS\"]\n",
    "\n",
    "!qsub -t 1-2504 -v CONFIGPATH=$configfile_name $COMP_LAUNCHER "
   ]
  },
  {
   "cell_type": "code",
   "execution_count": 7,
   "id": "156705d1",
   "metadata": {},
   "outputs": [
    {
     "data": {
      "text/plain": [
       "'/wynton/group/capra/projects/modern_human_3Dgenome/bin/configs/config_pairwise_comps_hsmrca.ini'"
      ]
     },
     "execution_count": 7,
     "metadata": {},
     "output_type": "execute_result"
    }
   ],
   "source": [
    "configfile_name"
   ]
  },
  {
   "cell_type": "code",
   "execution_count": null,
   "id": "cfbb23db",
   "metadata": {},
   "outputs": [],
   "source": []
  },
  {
   "cell_type": "code",
   "execution_count": 5,
   "id": "9209d455",
   "metadata": {},
   "outputs": [
    {
     "data": {
      "text/plain": [
       "'/wynton/group/capra/projects/modern_human_3Dgenome'"
      ]
     },
     "execution_count": 5,
     "metadata": {},
     "output_type": "execute_result"
    }
   ],
   "source": [
    "BASE_PATH"
   ]
  },
  {
   "cell_type": "code",
   "execution_count": 56,
   "id": "9aeaea61",
   "metadata": {},
   "outputs": [
    {
     "name": "stdout",
     "output_type": "stream",
     "text": [
      "Your job-array 2493547.1-1:1 (\"runAkitaComps\") has been submitted\n"
     ]
    }
   ],
   "source": [
    "configfile_name = os.path.join(BASE_PATH, \"bin/configs/config_pairwise_comps_hsmrca_GAGP.ini\") \n",
    "\n",
    "config = configparser.ConfigParser()\n",
    "config.read(configfile_name)\n",
    "\n",
    "COMP_LAUNCHER=config[\"BIN\"][\"LAUNCH_RUN_COMPS\"]\n",
    "\n",
    "!qsub -t 1 -v CONFIGPATH=$configfile_name $COMP_LAUNCHER "
   ]
  },
  {
   "cell_type": "markdown",
   "id": "dc6a87e5",
   "metadata": {
    "heading_collapsed": true
   },
   "source": [
    "## Random human as reference"
   ]
  },
  {
   "cell_type": "code",
   "execution_count": 13,
   "id": "557905e4",
   "metadata": {
    "hidden": true
   },
   "outputs": [
    {
     "name": "stdout",
     "output_type": "stream",
     "text": [
      "Your job-array 397971.1-2504:1 (\"runAkitaComps\") has been submitted\r\n"
     ]
    }
   ],
   "source": [
    "configfile_name = os.path.join(BASE_PATH, \"config_pairwise_comps_onehuman.ini\") \n",
    "\n",
    "config = configparser.ConfigParser()\n",
    "config.read(configfile_name)\n",
    "\n",
    "COMP_LAUNCHER=config[\"BIN\"][\"LAUNCH_RUN_COMPS\"]\n",
    "\n",
    "!qsub -t 1-2504 -v CONFIGPATH=$configfile_name $COMP_LAUNCHER "
   ]
  },
  {
   "cell_type": "markdown",
   "id": "7f37ae23",
   "metadata": {
    "heading_collapsed": true
   },
   "source": [
    "## To reference"
   ]
  },
  {
   "cell_type": "code",
   "execution_count": 3,
   "id": "da515945",
   "metadata": {
    "hidden": true
   },
   "outputs": [
    {
     "name": "stdout",
     "output_type": "stream",
     "text": [
      "Your job-array 399353.1-2504:1 (\"runAkitaComps\") has been submitted\r\n"
     ]
    }
   ],
   "source": [
    "configfile_name = os.path.join(BASE_PATH, \"config_pairwise_comps_reference.ini\") \n",
    "\n",
    "config = configparser.ConfigParser()\n",
    "config.read(configfile_name)\n",
    "\n",
    "COMP_LAUNCHER=config[\"BIN\"][\"LAUNCH_RUN_COMPS\"]\n",
    "\n",
    "!qsub -t 1-2504 -v CONFIGPATH=$configfile_name $COMP_LAUNCHER "
   ]
  },
  {
   "cell_type": "code",
   "execution_count": 10,
   "id": "524ba7f5",
   "metadata": {
    "hidden": true
   },
   "outputs": [
    {
     "name": "stdout",
     "output_type": "stream",
     "text": [
      "1827\n"
     ]
    }
   ],
   "source": []
  },
  {
   "cell_type": "markdown",
   "id": "d540abd2",
   "metadata": {},
   "source": [
    "# Sequence comps"
   ]
  },
  {
   "cell_type": "code",
   "execution_count": 21,
   "id": "d000ad4a",
   "metadata": {},
   "outputs": [],
   "source": [
    "configfile_name = os.path.join(BASE_PATH, \"config_pairwise_comps_sequence_ref-anc.ini\") \n",
    "\n",
    "config = configparser.ConfigParser()\n",
    "config.read(configfile_name)\n",
    "\n",
    "COMP_LAUNCHER=config[\"BIN\"][\"LAUNCH_RUN_COMPS\"]"
   ]
  },
  {
   "cell_type": "code",
   "execution_count": 22,
   "id": "6d67c66b",
   "metadata": {},
   "outputs": [
    {
     "data": {
      "text/plain": [
       "'/wynton/group/capra/projects/modern_human_3Dgenome/bin/sequenceComps/runSeqComps.sh'"
      ]
     },
     "execution_count": 22,
     "metadata": {},
     "output_type": "execute_result"
    }
   ],
   "source": [
    "COMP_LAUNCHER"
   ]
  },
  {
   "cell_type": "code",
   "execution_count": 24,
   "id": "a209c7fc",
   "metadata": {},
   "outputs": [
    {
     "name": "stdout",
     "output_type": "stream",
     "text": [
      "Your job-array 9779469.1-3:1 (\"runSeqComps\") has been submitted\r\n"
     ]
    }
   ],
   "source": [
    "!qsub -t 1-3 -v CONFIGPATH=$configfile_name $COMP_LAUNCHER "
   ]
  },
  {
   "cell_type": "code",
   "execution_count": 4,
   "id": "dac9fb63",
   "metadata": {},
   "outputs": [
    {
     "name": "stdout",
     "output_type": "stream",
     "text": [
      "Your job-array 1024452.1-8385:1 (\"runSeqComps\") has been submitted\r\n"
     ]
    }
   ],
   "source": [
    "configfile_name = \"/wynton/group/capra/projects/modern_human_3Dgenome/bin/sequenceComps/config_pairwise_comps_sequence_all.ini\"\n",
    "\n",
    "config = configparser.ConfigParser()\n",
    "config.read(configfile_name)\n",
    "\n",
    "COMP_LAUNCHER=config[\"BIN\"][\"LAUNCH_RUN_COMPS\"]\n",
    "!qsub -v CONFIGPATH=$configfile_name $COMP_LAUNCHER "
   ]
  },
  {
   "cell_type": "code",
   "execution_count": 6,
   "id": "ae00ff6a",
   "metadata": {},
   "outputs": [
    {
     "name": "stdout",
     "output_type": "stream",
     "text": [
      "Your job-array 1118251.1-2504:1 (\"runSeqComps\") has been submitted\n"
     ]
    }
   ],
   "source": [
    "configfile_name = \"/wynton/group/capra/projects/modern_human_3Dgenome/bin/sequenceComps/config_pairwise_comps_sequence_1KGvsHSMRCA.ini\"\n",
    "\n",
    "config = configparser.ConfigParser()\n",
    "config.read(configfile_name)\n",
    "\n",
    "COMP_LAUNCHER=config[\"BIN\"][\"LAUNCH_RUN_COMPS\"]\n",
    "!qsub -v CONFIGPATH=$configfile_name $COMP_LAUNCHER "
   ]
  },
  {
   "cell_type": "code",
   "execution_count": null,
   "id": "9a13a450",
   "metadata": {},
   "outputs": [],
   "source": []
  }
 ],
 "metadata": {
  "kernelspec": {
   "display_name": "Python 3 (ipykernel)",
   "language": "python",
   "name": "python3"
  },
  "language_info": {
   "codemirror_mode": {
    "name": "ipython",
    "version": 3
   },
   "file_extension": ".py",
   "mimetype": "text/x-python",
   "name": "python",
   "nbconvert_exporter": "python",
   "pygments_lexer": "ipython3",
   "version": "3.9.16"
  }
 },
 "nbformat": 4,
 "nbformat_minor": 5
}
