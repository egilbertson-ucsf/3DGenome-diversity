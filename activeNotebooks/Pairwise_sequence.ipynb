{
 "cells": [
  {
   "cell_type": "code",
   "execution_count": 1,
   "id": "395a7d0b",
   "metadata": {},
   "outputs": [],
   "source": [
    "import pandas as pd\n",
    "import numpy as np\n",
    "import seaborn as sns\n",
    "import matplotlib.pyplot as plt"
   ]
  },
  {
   "cell_type": "code",
   "execution_count": 2,
   "id": "359c06f6",
   "metadata": {},
   "outputs": [],
   "source": [
    "# Function for custom colormaps, from\n",
    "# https://towardsdatascience.com/beautiful-custom-colormaps-with-matplotlib-5bab3d1f0e72\n",
    "\n",
    "import matplotlib.colors as mcolors\n",
    "\n",
    "def hex_to_rgb(value):\n",
    "    '''\n",
    "    Converts hex to rgb colours\n",
    "    value: string of 6 characters representing a hex colour.\n",
    "    Returns: list length 3 of RGB values'''\n",
    "    value = value.strip(\"#\") # removes hash symbol if present\n",
    "    lv = len(value)\n",
    "    return tuple(int(value[i:i + lv // 3], 16) for i in range(0, lv, lv // 3))\n",
    "\n",
    "\n",
    "def rgb_to_dec(value):\n",
    "    '''\n",
    "    Converts rgb to decimal colours (i.e. divides each value by 256)\n",
    "    value: list (length 3) of RGB values\n",
    "    Returns: list (length 3) of decimal values'''\n",
    "    return [v/256 for v in value]\n",
    "def get_continuous_cmap(hex_list, float_list=None):\n",
    "    ''' creates and returns a color map that can be used in heat map figures.\n",
    "        If float_list is not provided, colour map graduates linearly between each color in hex_list.\n",
    "        If float_list is provided, each color in hex_list is mapped to the respective location in float_list. \n",
    "        \n",
    "        Parameters\n",
    "        ----------\n",
    "        hex_list: list of hex code strings\n",
    "        float_list: list of floats between 0 and 1, same length as hex_list. Must start with 0 and end with 1.\n",
    "        \n",
    "        Returns\n",
    "        ----------\n",
    "        colour map'''\n",
    "    rgb_list = [rgb_to_dec(hex_to_rgb(i)) for i in hex_list]\n",
    "    if float_list:\n",
    "        pass\n",
    "    else:\n",
    "        float_list = list(np.linspace(0,1,len(rgb_list)))\n",
    "        \n",
    "    cdict = dict()\n",
    "    for num, col in enumerate(['red', 'green', 'blue']):\n",
    "        col_list = [[float_list[i], rgb_list[i][num], rgb_list[i][num]] for i in range(len(float_list))]\n",
    "        cdict[col] = col_list\n",
    "    cmp = mcolors.LinearSegmentedColormap('my_cmp', segmentdata=cdict, N=256)\n",
    "    return cmp"
   ]
  },
  {
   "cell_type": "code",
   "execution_count": 3,
   "id": "1261f67e",
   "metadata": {},
   "outputs": [],
   "source": [
    "comp_list = pd.read_csv('/wynton/group/capra/projects/modern_human_3Dgenome/results/comp_tables/pairwise_subsample_genomewide_averages.csv',\n",
    "                       index_col=0)"
   ]
  },
  {
   "cell_type": "code",
   "execution_count": 4,
   "id": "c869a0be",
   "metadata": {},
   "outputs": [],
   "source": [
    "all_indivs = list(set(comp_list.ind1.unique()) | set(comp_list.ind2.unique()))"
   ]
  },
  {
   "cell_type": "code",
   "execution_count": null,
   "id": "d8f112f0",
   "metadata": {},
   "outputs": [],
   "source": []
  },
  {
   "cell_type": "code",
   "execution_count": 5,
   "id": "f40c8266",
   "metadata": {},
   "outputs": [
    {
     "ename": "NameError",
     "evalue": "name 'seqComps_dir' is not defined",
     "output_type": "error",
     "traceback": [
      "\u001b[0;31m---------------------------------------------------------------------------\u001b[0m",
      "\u001b[0;31mNameError\u001b[0m                                 Traceback (most recent call last)",
      "\u001b[0;32m<ipython-input-5-5358a1225640>\u001b[0m in \u001b[0;36m<module>\u001b[0;34m\u001b[0m\n\u001b[1;32m      1\u001b[0m \u001b[0mi\u001b[0m \u001b[0;34m=\u001b[0m \u001b[0mall_indivs\u001b[0m\u001b[0;34m[\u001b[0m\u001b[0;36m0\u001b[0m\u001b[0;34m]\u001b[0m\u001b[0;34m\u001b[0m\u001b[0;34m\u001b[0m\u001b[0m\n\u001b[1;32m      2\u001b[0m \u001b[0mj\u001b[0m \u001b[0;34m=\u001b[0m \u001b[0mall_indivs\u001b[0m\u001b[0;34m[\u001b[0m\u001b[0;36m1\u001b[0m\u001b[0;34m]\u001b[0m\u001b[0;34m\u001b[0m\u001b[0;34m\u001b[0m\u001b[0m\n\u001b[0;32m----> 3\u001b[0;31m \u001b[0mdf\u001b[0m \u001b[0;34m=\u001b[0m \u001b[0mpd\u001b[0m\u001b[0;34m.\u001b[0m\u001b[0mread_csv\u001b[0m\u001b[0;34m(\u001b[0m\u001b[0;34mf\"{seqComps_dir}/SeqComps_{j}_vs_{i}.txt\"\u001b[0m\u001b[0;34m,\u001b[0m \u001b[0msep\u001b[0m\u001b[0;34m=\u001b[0m\u001b[0;34m\"\\t\"\u001b[0m\u001b[0;34m)\u001b[0m\u001b[0;34m\u001b[0m\u001b[0;34m\u001b[0m\u001b[0m\n\u001b[0m",
      "\u001b[0;31mNameError\u001b[0m: name 'seqComps_dir' is not defined"
     ]
    }
   ],
   "source": [
    "i = all_indivs[0]\n",
    "j = all_indivs[1]\n",
    "df = pd.read_csv(f\"{seqComps_dir}/SeqComps_{j}_vs_{i}.txt\", sep=\"\\t\")"
   ]
  },
  {
   "cell_type": "code",
   "execution_count": null,
   "id": "7caffe29",
   "metadata": {},
   "outputs": [
    {
     "data": {
      "text/html": [
       "<div>\n",
       "<style scoped>\n",
       "    .dataframe tbody tr th:only-of-type {\n",
       "        vertical-align: middle;\n",
       "    }\n",
       "\n",
       "    .dataframe tbody tr th {\n",
       "        vertical-align: top;\n",
       "    }\n",
       "\n",
       "    .dataframe thead th {\n",
       "        text-align: right;\n",
       "    }\n",
       "</style>\n",
       "<table border=\"1\" class=\"dataframe\">\n",
       "  <thead>\n",
       "    <tr style=\"text-align: right;\">\n",
       "      <th></th>\n",
       "      <th>chrm</th>\n",
       "      <th>start_loc</th>\n",
       "      <th>AFR_LWK_female_NA19457_coverage</th>\n",
       "      <th>SAS_PJL_female_HG02649_coverage</th>\n",
       "      <th>seqComp_raw</th>\n",
       "    </tr>\n",
       "  </thead>\n",
       "  <tbody>\n",
       "    <tr>\n",
       "      <th>0</th>\n",
       "      <td>chr1</td>\n",
       "      <td>0</td>\n",
       "      <td>0.847412</td>\n",
       "      <td>0.847412</td>\n",
       "      <td>0.9996223449707031</td>\n",
       "    </tr>\n",
       "    <tr>\n",
       "      <th>1</th>\n",
       "      <td>chr1</td>\n",
       "      <td>524288</td>\n",
       "      <td>0.952316</td>\n",
       "      <td>0.952316</td>\n",
       "      <td>0.9986839294433594</td>\n",
       "    </tr>\n",
       "    <tr>\n",
       "      <th>2</th>\n",
       "      <td>chr1</td>\n",
       "      <td>1048576</td>\n",
       "      <td>1.000000</td>\n",
       "      <td>1.000000</td>\n",
       "      <td>0.9983844757080078</td>\n",
       "    </tr>\n",
       "    <tr>\n",
       "      <th>3</th>\n",
       "      <td>chr1</td>\n",
       "      <td>1572864</td>\n",
       "      <td>1.000000</td>\n",
       "      <td>1.000000</td>\n",
       "      <td>0.9987115859985352</td>\n",
       "    </tr>\n",
       "    <tr>\n",
       "      <th>4</th>\n",
       "      <td>chr1</td>\n",
       "      <td>2097152</td>\n",
       "      <td>0.958507</td>\n",
       "      <td>0.958507</td>\n",
       "      <td>0.9988307952880859</td>\n",
       "    </tr>\n",
       "    <tr>\n",
       "      <th>...</th>\n",
       "      <td>...</td>\n",
       "      <td>...</td>\n",
       "      <td>...</td>\n",
       "      <td>...</td>\n",
       "      <td>...</td>\n",
       "    </tr>\n",
       "    <tr>\n",
       "      <th>5797</th>\n",
       "      <td>chrX</td>\n",
       "      <td>153092096</td>\n",
       "      <td>1.000000</td>\n",
       "      <td>1.000000</td>\n",
       "      <td>1.0</td>\n",
       "    </tr>\n",
       "    <tr>\n",
       "      <th>5798</th>\n",
       "      <td>chrX</td>\n",
       "      <td>153616384</td>\n",
       "      <td>1.000000</td>\n",
       "      <td>1.000000</td>\n",
       "      <td>1.0</td>\n",
       "    </tr>\n",
       "    <tr>\n",
       "      <th>5799</th>\n",
       "      <td>chrX</td>\n",
       "      <td>154140672</td>\n",
       "      <td>1.000000</td>\n",
       "      <td>1.000000</td>\n",
       "      <td>1.0</td>\n",
       "    </tr>\n",
       "    <tr>\n",
       "      <th>5800</th>\n",
       "      <td>chrX</td>\n",
       "      <td>154664960</td>\n",
       "      <td>1.000000</td>\n",
       "      <td>1.000000</td>\n",
       "      <td>0.9999980926513672</td>\n",
       "    </tr>\n",
       "    <tr>\n",
       "      <th>5801</th>\n",
       "      <td>chrX</td>\n",
       "      <td>155189248</td>\n",
       "      <td>0.988258</td>\n",
       "      <td>0.988258</td>\n",
       "      <td>0.9996136897094688</td>\n",
       "    </tr>\n",
       "  </tbody>\n",
       "</table>\n",
       "<p>5802 rows × 5 columns</p>\n",
       "</div>"
      ],
      "text/plain": [
       "      chrm  start_loc  AFR_LWK_female_NA19457_coverage  \\\n",
       "0     chr1          0                         0.847412   \n",
       "1     chr1     524288                         0.952316   \n",
       "2     chr1    1048576                         1.000000   \n",
       "3     chr1    1572864                         1.000000   \n",
       "4     chr1    2097152                         0.958507   \n",
       "...    ...        ...                              ...   \n",
       "5797  chrX  153092096                         1.000000   \n",
       "5798  chrX  153616384                         1.000000   \n",
       "5799  chrX  154140672                         1.000000   \n",
       "5800  chrX  154664960                         1.000000   \n",
       "5801  chrX  155189248                         0.988258   \n",
       "\n",
       "      SAS_PJL_female_HG02649_coverage         seqComp_raw  \n",
       "0                            0.847412  0.9996223449707031  \n",
       "1                            0.952316  0.9986839294433594  \n",
       "2                            1.000000  0.9983844757080078  \n",
       "3                            1.000000  0.9987115859985352  \n",
       "4                            0.958507  0.9988307952880859  \n",
       "...                               ...                 ...  \n",
       "5797                         1.000000                 1.0  \n",
       "5798                         1.000000                 1.0  \n",
       "5799                         1.000000                 1.0  \n",
       "5800                         1.000000  0.9999980926513672  \n",
       "5801                         0.988258  0.9996136897094688  \n",
       "\n",
       "[5802 rows x 5 columns]"
      ]
     },
     "execution_count": 126,
     "metadata": {},
     "output_type": "execute_result"
    }
   ],
   "source": [
    "df"
   ]
  },
  {
   "cell_type": "code",
   "execution_count": null,
   "id": "e745809d",
   "metadata": {},
   "outputs": [],
   "source": [
    "df = df[df[\"%s_coverage\"% i] >= 0.95]"
   ]
  },
  {
   "cell_type": "code",
   "execution_count": null,
   "id": "8fcc69d6",
   "metadata": {},
   "outputs": [
    {
     "data": {
      "text/plain": [
       "0.9987742222666995"
      ]
     },
     "execution_count": 128,
     "metadata": {},
     "output_type": "execute_result"
    }
   ],
   "source": [
    "df['seqComp_raw'].astype('float').mean()"
   ]
  },
  {
   "cell_type": "code",
   "execution_count": null,
   "id": "15a19fdf",
   "metadata": {
    "code_folding": []
   },
   "outputs": [
    {
     "data": {
      "text/html": [
       "<div>\n",
       "<style scoped>\n",
       "    .dataframe tbody tr th:only-of-type {\n",
       "        vertical-align: middle;\n",
       "    }\n",
       "\n",
       "    .dataframe tbody tr th {\n",
       "        vertical-align: top;\n",
       "    }\n",
       "\n",
       "    .dataframe thead th {\n",
       "        text-align: right;\n",
       "    }\n",
       "</style>\n",
       "<table border=\"1\" class=\"dataframe\">\n",
       "  <thead>\n",
       "    <tr style=\"text-align: right;\">\n",
       "      <th></th>\n",
       "      <th>SAS_PJL_HG02649</th>\n",
       "      <th>AFR_LWK_NA19457</th>\n",
       "      <th>EAS_CDX_HG00864</th>\n",
       "      <th>SAS_STU_HG03836</th>\n",
       "      <th>EUR_GBR_HG00130</th>\n",
       "      <th>EUR_TSI_NA20505</th>\n",
       "      <th>EAS_JPT_NA19084</th>\n",
       "      <th>SAS_GIH_NA20882</th>\n",
       "      <th>EUR_GBR_HG00238</th>\n",
       "      <th>SAS_BEB_HG04171</th>\n",
       "      <th>...</th>\n",
       "      <th>EAS_JPT_NA18998</th>\n",
       "      <th>AFR_ASW_NA19917</th>\n",
       "      <th>AFR_ASW_NA20314</th>\n",
       "      <th>EAS_CDX_HG02188</th>\n",
       "      <th>AFR_MSL_HG03583</th>\n",
       "      <th>AMR_PUR_HG00638</th>\n",
       "      <th>AFR_ESN_HG03511</th>\n",
       "      <th>SAS_BEB_HG03611</th>\n",
       "      <th>AMR_PUR_HG01171</th>\n",
       "      <th>AFR_GWD_HG02814</th>\n",
       "    </tr>\n",
       "  </thead>\n",
       "  <tbody>\n",
       "    <tr>\n",
       "      <th>SAS_PJL_HG02649</th>\n",
       "      <td>0.000000</td>\n",
       "      <td>0.001226</td>\n",
       "      <td>0.000887</td>\n",
       "      <td>0.000861</td>\n",
       "      <td>0.000854</td>\n",
       "      <td>0.000866</td>\n",
       "      <td>0.000896</td>\n",
       "      <td>0.000854</td>\n",
       "      <td>0.000855</td>\n",
       "      <td>0.000864</td>\n",
       "      <td>...</td>\n",
       "      <td>0.000899</td>\n",
       "      <td>0.001216</td>\n",
       "      <td>0.000865</td>\n",
       "      <td>0.000884</td>\n",
       "      <td>0.001262</td>\n",
       "      <td>0.000931</td>\n",
       "      <td>0.001248</td>\n",
       "      <td>0.000864</td>\n",
       "      <td>0.000935</td>\n",
       "      <td>0.001238</td>\n",
       "    </tr>\n",
       "    <tr>\n",
       "      <th>AFR_LWK_NA19457</th>\n",
       "      <td>0.001226</td>\n",
       "      <td>0.000000</td>\n",
       "      <td>0.001220</td>\n",
       "      <td>0.001223</td>\n",
       "      <td>0.001228</td>\n",
       "      <td>0.001225</td>\n",
       "      <td>0.001230</td>\n",
       "      <td>0.001227</td>\n",
       "      <td>0.001232</td>\n",
       "      <td>0.001235</td>\n",
       "      <td>...</td>\n",
       "      <td>0.001236</td>\n",
       "      <td>0.001224</td>\n",
       "      <td>0.001226</td>\n",
       "      <td>0.001221</td>\n",
       "      <td>0.001234</td>\n",
       "      <td>0.001224</td>\n",
       "      <td>0.001220</td>\n",
       "      <td>0.001230</td>\n",
       "      <td>0.001215</td>\n",
       "      <td>0.001221</td>\n",
       "    </tr>\n",
       "    <tr>\n",
       "      <th>EAS_CDX_HG00864</th>\n",
       "      <td>0.000887</td>\n",
       "      <td>0.001220</td>\n",
       "      <td>0.000000</td>\n",
       "      <td>0.000872</td>\n",
       "      <td>0.000904</td>\n",
       "      <td>0.000913</td>\n",
       "      <td>0.000742</td>\n",
       "      <td>0.000884</td>\n",
       "      <td>0.000903</td>\n",
       "      <td>0.000863</td>\n",
       "      <td>...</td>\n",
       "      <td>0.000750</td>\n",
       "      <td>0.001213</td>\n",
       "      <td>0.000833</td>\n",
       "      <td>0.000718</td>\n",
       "      <td>0.001257</td>\n",
       "      <td>0.000954</td>\n",
       "      <td>0.001246</td>\n",
       "      <td>0.000859</td>\n",
       "      <td>0.000954</td>\n",
       "      <td>0.001239</td>\n",
       "    </tr>\n",
       "    <tr>\n",
       "      <th>SAS_STU_HG03836</th>\n",
       "      <td>0.000861</td>\n",
       "      <td>0.001223</td>\n",
       "      <td>0.000872</td>\n",
       "      <td>0.000000</td>\n",
       "      <td>0.000876</td>\n",
       "      <td>0.000884</td>\n",
       "      <td>0.000872</td>\n",
       "      <td>0.000864</td>\n",
       "      <td>0.000878</td>\n",
       "      <td>0.000855</td>\n",
       "      <td>...</td>\n",
       "      <td>0.000886</td>\n",
       "      <td>0.001214</td>\n",
       "      <td>0.000874</td>\n",
       "      <td>0.000876</td>\n",
       "      <td>0.001261</td>\n",
       "      <td>0.000947</td>\n",
       "      <td>0.001245</td>\n",
       "      <td>0.000855</td>\n",
       "      <td>0.000944</td>\n",
       "      <td>0.001234</td>\n",
       "    </tr>\n",
       "    <tr>\n",
       "      <th>EUR_GBR_HG00130</th>\n",
       "      <td>0.000854</td>\n",
       "      <td>0.001228</td>\n",
       "      <td>0.000904</td>\n",
       "      <td>0.000876</td>\n",
       "      <td>0.000000</td>\n",
       "      <td>0.000821</td>\n",
       "      <td>0.000912</td>\n",
       "      <td>0.000868</td>\n",
       "      <td>0.000809</td>\n",
       "      <td>0.000888</td>\n",
       "      <td>...</td>\n",
       "      <td>0.000924</td>\n",
       "      <td>0.001210</td>\n",
       "      <td>0.000863</td>\n",
       "      <td>0.000911</td>\n",
       "      <td>0.001264</td>\n",
       "      <td>0.000902</td>\n",
       "      <td>0.001247</td>\n",
       "      <td>0.000889</td>\n",
       "      <td>0.000910</td>\n",
       "      <td>0.001240</td>\n",
       "    </tr>\n",
       "  </tbody>\n",
       "</table>\n",
       "<p>5 rows × 130 columns</p>\n",
       "</div>"
      ],
      "text/plain": [
       "                 SAS_PJL_HG02649  AFR_LWK_NA19457  EAS_CDX_HG00864  \\\n",
       "SAS_PJL_HG02649         0.000000         0.001226         0.000887   \n",
       "AFR_LWK_NA19457         0.001226         0.000000         0.001220   \n",
       "EAS_CDX_HG00864         0.000887         0.001220         0.000000   \n",
       "SAS_STU_HG03836         0.000861         0.001223         0.000872   \n",
       "EUR_GBR_HG00130         0.000854         0.001228         0.000904   \n",
       "\n",
       "                 SAS_STU_HG03836  EUR_GBR_HG00130  EUR_TSI_NA20505  \\\n",
       "SAS_PJL_HG02649         0.000861         0.000854         0.000866   \n",
       "AFR_LWK_NA19457         0.001223         0.001228         0.001225   \n",
       "EAS_CDX_HG00864         0.000872         0.000904         0.000913   \n",
       "SAS_STU_HG03836         0.000000         0.000876         0.000884   \n",
       "EUR_GBR_HG00130         0.000876         0.000000         0.000821   \n",
       "\n",
       "                 EAS_JPT_NA19084  SAS_GIH_NA20882  EUR_GBR_HG00238  \\\n",
       "SAS_PJL_HG02649         0.000896         0.000854         0.000855   \n",
       "AFR_LWK_NA19457         0.001230         0.001227         0.001232   \n",
       "EAS_CDX_HG00864         0.000742         0.000884         0.000903   \n",
       "SAS_STU_HG03836         0.000872         0.000864         0.000878   \n",
       "EUR_GBR_HG00130         0.000912         0.000868         0.000809   \n",
       "\n",
       "                 SAS_BEB_HG04171  ...  EAS_JPT_NA18998  AFR_ASW_NA19917  \\\n",
       "SAS_PJL_HG02649         0.000864  ...         0.000899         0.001216   \n",
       "AFR_LWK_NA19457         0.001235  ...         0.001236         0.001224   \n",
       "EAS_CDX_HG00864         0.000863  ...         0.000750         0.001213   \n",
       "SAS_STU_HG03836         0.000855  ...         0.000886         0.001214   \n",
       "EUR_GBR_HG00130         0.000888  ...         0.000924         0.001210   \n",
       "\n",
       "                 AFR_ASW_NA20314  EAS_CDX_HG02188  AFR_MSL_HG03583  \\\n",
       "SAS_PJL_HG02649         0.000865         0.000884         0.001262   \n",
       "AFR_LWK_NA19457         0.001226         0.001221         0.001234   \n",
       "EAS_CDX_HG00864         0.000833         0.000718         0.001257   \n",
       "SAS_STU_HG03836         0.000874         0.000876         0.001261   \n",
       "EUR_GBR_HG00130         0.000863         0.000911         0.001264   \n",
       "\n",
       "                 AMR_PUR_HG00638  AFR_ESN_HG03511  SAS_BEB_HG03611  \\\n",
       "SAS_PJL_HG02649         0.000931         0.001248         0.000864   \n",
       "AFR_LWK_NA19457         0.001224         0.001220         0.001230   \n",
       "EAS_CDX_HG00864         0.000954         0.001246         0.000859   \n",
       "SAS_STU_HG03836         0.000947         0.001245         0.000855   \n",
       "EUR_GBR_HG00130         0.000902         0.001247         0.000889   \n",
       "\n",
       "                 AMR_PUR_HG01171  AFR_GWD_HG02814  \n",
       "SAS_PJL_HG02649         0.000935         0.001238  \n",
       "AFR_LWK_NA19457         0.001215         0.001221  \n",
       "EAS_CDX_HG00864         0.000954         0.001239  \n",
       "SAS_STU_HG03836         0.000944         0.001234  \n",
       "EUR_GBR_HG00130         0.000910         0.001240  \n",
       "\n",
       "[5 rows x 130 columns]"
      ]
     },
     "execution_count": 64,
     "metadata": {},
     "output_type": "execute_result"
    }
   ],
   "source": [
    "# Read in sequence-level comparisons between MH & AHs, organize into matrix\n",
    "\n",
    "seqComps_dir = \"/wynton/group/capra/projects/modern_human_3Dgenome/data/pairwise/sequence/1KGvs1KG\"\n",
    "count = 0\n",
    "matrix_seq = pd.DataFrame(index=all_indivs, columns=all_indivs,dtype='float')\n",
    "for i in all_indivs:\n",
    "    for j in all_indivs:\n",
    "        if i != j:\n",
    "            try: \n",
    "                df = pd.read_csv(f\"{seqComps_dir}/SeqComps_{i}_vs_{j}.txt\", sep=\"\\t\")\n",
    "                df = df[(df[\"%s_coverage\"% i] >= 0.95) & (df[\"%s_coverage\"% j] >= 0.95)]\n",
    "                num = 1-df['seqComp_raw'].astype('float').mean()\n",
    "                count +=1\n",
    "            except FileNotFoundError:\n",
    "                df = pd.read_csv(f\"{seqComps_dir}/SeqComps_{j}_vs_{i}.txt\", sep=\"\\t\")\n",
    "                df = df[(df[\"%s_coverage\"% i] >= 0.95) & (df[\"%s_coverage\"% j] >= 0.95)]\n",
    "                num = 1-df['seqComp_raw'].astype('float').mean()\n",
    "                count +=1\n",
    "            matrix_seq.loc[i,j] = num\n",
    "            matrix_seq.loc[j,i] = num\n",
    "        else:\n",
    "            matrix_seq.loc[i,i] = 0\n",
    "        if count%100 == 0:\n",
    "            print(count)\n",
    "            \n",
    "# Shorten labels\n",
    "matrix_seq.columns = [\"_\".join(np.array(x.split(\"_\"))[[0,1,3]]) if \"_\" in x else x for x in matrix_seq.columns]\n",
    "matrix_seq.index = [\"_\".join(np.array(x.split(\"_\"))[[0,1,3]]) if \"_\" in x else x for x in matrix_seq.index]\n",
    "matrix_seq.head()"
   ]
  },
  {
   "cell_type": "code",
   "execution_count": 6,
   "id": "77b14deb",
   "metadata": {},
   "outputs": [],
   "source": [
    "df = comp_list[(comp_list.ind1 ==\"AFR_ASW_female_NA19917\") & (comp_list.ind2 ==\"AFR_ASW_female_NA19901\")]"
   ]
  },
  {
   "cell_type": "code",
   "execution_count": 7,
   "id": "2078a3a4",
   "metadata": {},
   "outputs": [],
   "source": [
    "a = float(df['avg_divergence'])"
   ]
  },
  {
   "cell_type": "code",
   "execution_count": 8,
   "id": "c0412e4a",
   "metadata": {},
   "outputs": [
    {
     "data": {
      "text/plain": [
       "0.0038053034498568734"
      ]
     },
     "execution_count": 8,
     "metadata": {},
     "output_type": "execute_result"
    }
   ],
   "source": [
    "a"
   ]
  },
  {
   "cell_type": "code",
   "execution_count": 9,
   "id": "12535984",
   "metadata": {},
   "outputs": [
    {
     "name": "stdout",
     "output_type": "stream",
     "text": [
      "0\n",
      "500\n",
      "1000\n",
      "1500\n",
      "2000\n",
      "2500\n",
      "3000\n",
      "3500\n"
     ]
    }
   ],
   "source": [
    "# Organized 3d-genome divergence comparisons between MH & AHs into a matrix\n",
    "\n",
    "matrix_3d = pd.DataFrame(index=all_indivs, columns=all_indivs,dtype='float')\n",
    "count = 0\n",
    "for i in all_indivs:\n",
    "    for j in all_indivs:\n",
    "        dfi = comp_list[(comp_list.ind1 ==i) & (comp_list.ind2 ==j)]\n",
    "        dfj = comp_list[(comp_list.ind1 ==j) & (comp_list.ind2 ==i)]\n",
    "        if i != j and dfi.shape[0] == 1: \n",
    "            count +=1\n",
    "            matrix_3d.loc[i,j] = float(dfi['avg_divergence'])\n",
    "            matrix_3d.loc[j,i] = float(dfi['avg_divergence'])\n",
    "        if i != j and dfj.shape[0] == 1:\n",
    "            count +=1\n",
    "            matrix_3d.loc[i,j] = float(dfj['avg_divergence'])\n",
    "            matrix_3d.loc[j,i] = float(dfj['avg_divergence'])\n",
    "        else:\n",
    "            matrix_3d.loc[i,i] = 0\n",
    "        if count%500 == 0:\n",
    "            print(count)\n",
    "\n",
    "# Shorten labels\n",
    "matrix_3d.columns = [\"_\".join(np.array(x.split(\"_\"))[[0,1,3]]) if \"_\" in x else x for x in matrix_3d.columns]\n",
    "matrix_3d.index = [\"_\".join(np.array(x.split(\"_\"))[[0,1,3]]) if \"_\" in x else x for x in matrix_3d.index]\n",
    "\n",
    "matrix_3d.head()"
   ]
  },
  {
   "cell_type": "code",
   "execution_count": null,
   "id": "3ac28bf3",
   "metadata": {
    "code_folding": [
     29
    ]
   },
   "outputs": [
    {
     "data": {
      "image/png": "[encoded data removed]",
      "text/plain": [
       "<Figure size 1080x1080 with 4 Axes>"
      ]
     },
     "metadata": {
      "needs_background": "light"
     },
     "output_type": "display_data"
    }
   ],
   "source": [
    "from scipy.spatial.distance import squareform\n",
    "from scipy.spatial.distance import pdist, jaccard\n",
    "import scipy.spatial as sp, scipy.cluster.hierarchy as hc\n",
    "from matplotlib.patches import Rectangle\n",
    "\n",
    "# colormaps\n",
    "#cmap_seq = get_continuous_cmap(['#0e121ff','#9699a5','#c9ccd4','#fcfcfd'],float_list=[0, 0.40,0.58, 1])\n",
    "cmap_3d = get_continuous_cmap([\"#c5000e\",'f44132','#fc774a',\"fee8a1\",\"#fffdf2\"])\n",
    "cmap_seq = get_continuous_cmap(['#0e121ff','#9699a5','#c9ccd4','#fcfcfd'])\n",
    "\n",
    "\n",
    "# Linkage and cluster baseds on sequence\n",
    "linkage = hc.linkage(sp.distance.squareform(matrix_seq), method='complete',optimal_ordering=True) # complete, single, average, weighted\n",
    "g = sns.clustermap(matrix_seq*2**20, row_linkage=linkage,square=True, figsize=(15,15),col_linkage=linkage, cmap = cmap_seq, vmin=150, vmax=1100, yticklabels=True, xticklabels=True)\n",
    "\n",
    "# Flip\n",
    "g.ax_heatmap.invert_xaxis()\n",
    "g.ax_heatmap.invert_yaxis()\n",
    "g.ax_row_dendrogram.invert_yaxis()\n",
    "g.ax_col_dendrogram.invert_xaxis()\n",
    "_ = g.ax_heatmap.set_xticklabels(g.ax_heatmap.get_xmajorticklabels(), fontsize = 5)\n",
    "_ = g.ax_heatmap.set_yticklabels(g.ax_heatmap.get_ymajorticklabels(), fontsize = 5)\n",
    "\n",
    "# Color bottom triangle based on 3d genome\n",
    "\n",
    "order = g.dendrogram_col.reordered_ind\n",
    "order = [all_indivs[x] for x in order]\n",
    "order = [\"_\".join(np.array(x.split(\"_\"))[[0,1,3]]) if \"_\" in x else x for x in order]\n",
    "\n",
    "ax = g.ax_heatmap\n",
    "\n",
    "for i,indiv1 in enumerate(order):\n",
    "    for j,indiv2 in enumerate(order):\n",
    "        if i > j:\n",
    "            _ = ax.add_patch(Rectangle((i-.03, j), 1.2, 1, fc=cmap_3d((matrix_3d.loc[indiv1,indiv2]-0.00043)/(0.00476-0.00043)),linewidth=0,ec=None))\n",
    "\n",
    "g.cax.set_visible(False)\n",
    "g.ax_row_dendrogram.set_visible(False)\n",
    "#plt.savefig(\"heatmap3dandSeq.pdf\");\n",
    "#plt.savefig(\"/home/mcarthe/heatmap3dandSeq.pdf\");"
   ]
  },
  {
   "cell_type": "code",
   "execution_count": 138,
   "id": "d41e579d",
   "metadata": {},
   "outputs": [
    {
     "data": {
      "image/png": "[encoded data removed]",
      "text/plain": [
       "<Figure size 432x144 with 2 Axes>"
      ]
     },
     "metadata": {
      "needs_background": "light"
     },
     "output_type": "display_data"
    }
   ],
   "source": [
    "fig,ax = plt.subplots(nrows=2, ncols=1, figsize=(6,2));\n",
    "\n",
    "ax[0].matshow(np.array([np.linspace(150,1100,100),np.linspace(150,1100,100)]), cmap=cmap_seq, vmin=150, vmax=1100);\n",
    "# vrange: 150 - 1100\n",
    "#(m - rmin)/(rmax - rmin) * (tmax - tmin) + tmin\n",
    "ax[0].set_xticks([((x - 150)/(1100 - 150) * 99) for x in np.arange(200,1100,200)]);\n",
    "ax[0].set_xticklabels(np.arange(200,1100,200));\n",
    "\n",
    "ax[1].matshow(np.array([np.linspace(0,1,100),np.linspace(0,1,100)]), cmap= cmap_3d);\n",
    "# vrange = 0.00043 - 0.00476\n",
    "ax[1].set_xticks([((x - 0.00043)/(0.00476 - 0.00043) * 99) for x in np.arange(0.001,0.00476,0.001)]);\n",
    "ax[1].set_xticklabels(np.arange(0.001,0.00476,0.001));"
   ]
  },
  {
   "cell_type": "code",
   "execution_count": 118,
   "id": "0a38a906",
   "metadata": {},
   "outputs": [
    {
     "name": "stdout",
     "output_type": "stream",
     "text": [
      "/bin/bash: owd: command not found\r\n"
     ]
    }
   ],
   "source": [
    "!owd"
   ]
  },
  {
   "cell_type": "code",
   "execution_count": 119,
   "id": "370cb2b0",
   "metadata": {},
   "outputs": [
    {
     "name": "stdout",
     "output_type": "stream",
     "text": [
      "/wynton/group/capra/projects/modern_human_3Dgenome/bin/activeNotebooks\r\n"
     ]
    }
   ],
   "source": [
    "!pwd"
   ]
  },
  {
   "cell_type": "code",
   "execution_count": 147,
   "id": "c5b8cb33",
   "metadata": {},
   "outputs": [
    {
     "data": {
      "text/plain": [
       "0.0010272449125470645"
      ]
     },
     "execution_count": 147,
     "metadata": {},
     "output_type": "execute_result"
    }
   ],
   "source": [
    "np.nanmean(matrix_seq)"
   ]
  },
  {
   "cell_type": "code",
   "execution_count": null,
   "id": "fd9d8ffc",
   "metadata": {},
   "outputs": [],
   "source": []
  }
 ],
 "metadata": {
  "kernelspec": {
   "display_name": "Python 3",
   "language": "python",
   "name": "python3"
  },
  "language_info": {
   "codemirror_mode": {
    "name": "ipython",
    "version": 3
   },
   "file_extension": ".py",
   "mimetype": "text/x-python",
   "name": "python",
   "nbconvert_exporter": "python",
   "pygments_lexer": "ipython3",
   "version": "3.6.8"
  }
 },
 "nbformat": 4,
 "nbformat_minor": 5
}
